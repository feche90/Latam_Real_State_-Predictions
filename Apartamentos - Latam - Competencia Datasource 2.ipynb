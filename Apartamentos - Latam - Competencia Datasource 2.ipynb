{
 "cells": [
  {
   "cell_type": "markdown",
   "metadata": {},
   "source": [
    "## Competencia precio de aptos Datasource"
   ]
  },
  {
   "cell_type": "code",
   "execution_count": 1,
   "metadata": {},
   "outputs": [],
   "source": [
    "import pandas as pd\n",
    "import numpy as np\n",
    "import matplotlib.pyplot as plt\n",
    "from scipy import stats\n",
    "from scipy.special import boxcox, inv_boxcox\n",
    "import seaborn as sns\n",
    "import xgboost as xgb\n",
    "from sklearn.linear_model import LinearRegression\n",
    "from sklearn.model_selection import train_test_split\n",
    "from sklearn.metrics import mean_squared_error, mean_squared_log_error\n",
    "sns.set_style('darkgrid')\n",
    "%matplotlib inline\n",
    "plt.style.use('ggplot')"
   ]
  },
  {
   "cell_type": "code",
   "execution_count": 2,
   "metadata": {},
   "outputs": [],
   "source": [
    "df=pd.read_csv(r'C:\\Users\\feche\\Documents\\Curso Python\\datasets\\Apartamentos-latam\\Train.csv')\n",
    "df_test=pd.read_csv(r'C:\\Users\\feche\\Documents\\Curso Python\\datasets\\Apartamentos-latam\\Test.csv')"
   ]
  },
  {
   "cell_type": "code",
   "execution_count": 3,
   "metadata": {},
   "outputs": [
    {
     "data": {
      "text/html": [
       "<div>\n",
       "<style scoped>\n",
       "    .dataframe tbody tr th:only-of-type {\n",
       "        vertical-align: middle;\n",
       "    }\n",
       "\n",
       "    .dataframe tbody tr th {\n",
       "        vertical-align: top;\n",
       "    }\n",
       "\n",
       "    .dataframe thead th {\n",
       "        text-align: right;\n",
       "    }\n",
       "</style>\n",
       "<table border=\"1\" class=\"dataframe\">\n",
       "  <thead>\n",
       "    <tr style=\"text-align: right;\">\n",
       "      <th></th>\n",
       "      <th>Id</th>\n",
       "      <th>pais</th>\n",
       "      <th>provincia_departamento</th>\n",
       "      <th>ciudad</th>\n",
       "      <th>property_type</th>\n",
       "      <th>operation_type</th>\n",
       "      <th>rooms</th>\n",
       "      <th>bedrooms</th>\n",
       "      <th>bathrooms</th>\n",
       "      <th>surface_total</th>\n",
       "      <th>currency</th>\n",
       "      <th>price</th>\n",
       "    </tr>\n",
       "  </thead>\n",
       "  <tbody>\n",
       "    <tr>\n",
       "      <th>0</th>\n",
       "      <td>0</td>\n",
       "      <td>Argentina</td>\n",
       "      <td>Capital Federal</td>\n",
       "      <td>Villa Crespo</td>\n",
       "      <td>Departamento</td>\n",
       "      <td>Venta</td>\n",
       "      <td>2.0</td>\n",
       "      <td>1.0</td>\n",
       "      <td>1.0</td>\n",
       "      <td>37.0</td>\n",
       "      <td>USD</td>\n",
       "      <td>85000.0</td>\n",
       "    </tr>\n",
       "    <tr>\n",
       "      <th>1</th>\n",
       "      <td>1</td>\n",
       "      <td>Argentina</td>\n",
       "      <td>Capital Federal</td>\n",
       "      <td>Palermo</td>\n",
       "      <td>Departamento</td>\n",
       "      <td>Venta</td>\n",
       "      <td>6.0</td>\n",
       "      <td>4.0</td>\n",
       "      <td>4.0</td>\n",
       "      <td>300.0</td>\n",
       "      <td>USD</td>\n",
       "      <td>1590000.0</td>\n",
       "    </tr>\n",
       "    <tr>\n",
       "      <th>2</th>\n",
       "      <td>2</td>\n",
       "      <td>Colombia</td>\n",
       "      <td>Atlántico</td>\n",
       "      <td>Barranquilla</td>\n",
       "      <td>Apartamento</td>\n",
       "      <td>Venta</td>\n",
       "      <td>3.0</td>\n",
       "      <td>3.0</td>\n",
       "      <td>3.0</td>\n",
       "      <td>95.0</td>\n",
       "      <td>USD</td>\n",
       "      <td>85329.0</td>\n",
       "    </tr>\n",
       "    <tr>\n",
       "      <th>3</th>\n",
       "      <td>3</td>\n",
       "      <td>Colombia</td>\n",
       "      <td>Valle del Cauca</td>\n",
       "      <td>Cali</td>\n",
       "      <td>Apartamento</td>\n",
       "      <td>Venta</td>\n",
       "      <td>3.0</td>\n",
       "      <td>3.0</td>\n",
       "      <td>1.0</td>\n",
       "      <td>60.0</td>\n",
       "      <td>USD</td>\n",
       "      <td>22846.0</td>\n",
       "    </tr>\n",
       "    <tr>\n",
       "      <th>4</th>\n",
       "      <td>4</td>\n",
       "      <td>Argentina</td>\n",
       "      <td>Capital Federal</td>\n",
       "      <td>Balvanera</td>\n",
       "      <td>Departamento</td>\n",
       "      <td>Venta</td>\n",
       "      <td>3.0</td>\n",
       "      <td>2.0</td>\n",
       "      <td>1.0</td>\n",
       "      <td>45.0</td>\n",
       "      <td>USD</td>\n",
       "      <td>80000.0</td>\n",
       "    </tr>\n",
       "  </tbody>\n",
       "</table>\n",
       "</div>"
      ],
      "text/plain": [
       "   Id       pais provincia_departamento        ciudad property_type  \\\n",
       "0   0  Argentina        Capital Federal  Villa Crespo  Departamento   \n",
       "1   1  Argentina        Capital Federal       Palermo  Departamento   \n",
       "2   2   Colombia              Atlántico  Barranquilla   Apartamento   \n",
       "3   3   Colombia        Valle del Cauca          Cali   Apartamento   \n",
       "4   4  Argentina        Capital Federal     Balvanera  Departamento   \n",
       "\n",
       "  operation_type  rooms  bedrooms  bathrooms  surface_total currency  \\\n",
       "0          Venta    2.0       1.0        1.0           37.0      USD   \n",
       "1          Venta    6.0       4.0        4.0          300.0      USD   \n",
       "2          Venta    3.0       3.0        3.0           95.0      USD   \n",
       "3          Venta    3.0       3.0        1.0           60.0      USD   \n",
       "4          Venta    3.0       2.0        1.0           45.0      USD   \n",
       "\n",
       "       price  \n",
       "0    85000.0  \n",
       "1  1590000.0  \n",
       "2    85329.0  \n",
       "3    22846.0  \n",
       "4    80000.0  "
      ]
     },
     "execution_count": 3,
     "metadata": {},
     "output_type": "execute_result"
    }
   ],
   "source": [
    "df.head()"
   ]
  },
  {
   "cell_type": "code",
   "execution_count": 4,
   "metadata": {},
   "outputs": [
    {
     "data": {
      "text/plain": [
       "(25660, 12)"
      ]
     },
     "execution_count": 4,
     "metadata": {},
     "output_type": "execute_result"
    }
   ],
   "source": [
    "df.shape"
   ]
  },
  {
   "cell_type": "code",
   "execution_count": 5,
   "metadata": {},
   "outputs": [
    {
     "data": {
      "text/html": [
       "<div>\n",
       "<style scoped>\n",
       "    .dataframe tbody tr th:only-of-type {\n",
       "        vertical-align: middle;\n",
       "    }\n",
       "\n",
       "    .dataframe tbody tr th {\n",
       "        vertical-align: top;\n",
       "    }\n",
       "\n",
       "    .dataframe thead th {\n",
       "        text-align: right;\n",
       "    }\n",
       "</style>\n",
       "<table border=\"1\" class=\"dataframe\">\n",
       "  <thead>\n",
       "    <tr style=\"text-align: right;\">\n",
       "      <th></th>\n",
       "      <th>Id</th>\n",
       "      <th>rooms</th>\n",
       "      <th>bedrooms</th>\n",
       "      <th>bathrooms</th>\n",
       "      <th>surface_total</th>\n",
       "      <th>price</th>\n",
       "    </tr>\n",
       "  </thead>\n",
       "  <tbody>\n",
       "    <tr>\n",
       "      <th>count</th>\n",
       "      <td>25660.00000</td>\n",
       "      <td>25660.000000</td>\n",
       "      <td>25660.000000</td>\n",
       "      <td>25660.000000</td>\n",
       "      <td>25660.000000</td>\n",
       "      <td>2.566000e+04</td>\n",
       "    </tr>\n",
       "    <tr>\n",
       "      <th>mean</th>\n",
       "      <td>12829.50000</td>\n",
       "      <td>2.648207</td>\n",
       "      <td>1.989751</td>\n",
       "      <td>1.682502</td>\n",
       "      <td>78.966875</td>\n",
       "      <td>1.656802e+05</td>\n",
       "    </tr>\n",
       "    <tr>\n",
       "      <th>std</th>\n",
       "      <td>7407.54829</td>\n",
       "      <td>1.022895</td>\n",
       "      <td>0.937260</td>\n",
       "      <td>0.895758</td>\n",
       "      <td>53.229903</td>\n",
       "      <td>2.244543e+05</td>\n",
       "    </tr>\n",
       "    <tr>\n",
       "      <th>min</th>\n",
       "      <td>0.00000</td>\n",
       "      <td>1.000000</td>\n",
       "      <td>1.000000</td>\n",
       "      <td>1.000000</td>\n",
       "      <td>10.000000</td>\n",
       "      <td>6.009000e+03</td>\n",
       "    </tr>\n",
       "    <tr>\n",
       "      <th>25%</th>\n",
       "      <td>6414.75000</td>\n",
       "      <td>2.000000</td>\n",
       "      <td>1.000000</td>\n",
       "      <td>1.000000</td>\n",
       "      <td>43.000000</td>\n",
       "      <td>7.100000e+04</td>\n",
       "    </tr>\n",
       "    <tr>\n",
       "      <th>50%</th>\n",
       "      <td>12829.50000</td>\n",
       "      <td>3.000000</td>\n",
       "      <td>2.000000</td>\n",
       "      <td>1.000000</td>\n",
       "      <td>63.000000</td>\n",
       "      <td>1.050000e+05</td>\n",
       "    </tr>\n",
       "    <tr>\n",
       "      <th>75%</th>\n",
       "      <td>19244.25000</td>\n",
       "      <td>3.000000</td>\n",
       "      <td>3.000000</td>\n",
       "      <td>2.000000</td>\n",
       "      <td>94.000000</td>\n",
       "      <td>1.700000e+05</td>\n",
       "    </tr>\n",
       "    <tr>\n",
       "      <th>max</th>\n",
       "      <td>25659.00000</td>\n",
       "      <td>12.000000</td>\n",
       "      <td>7.000000</td>\n",
       "      <td>6.000000</td>\n",
       "      <td>347.000000</td>\n",
       "      <td>3.450000e+06</td>\n",
       "    </tr>\n",
       "  </tbody>\n",
       "</table>\n",
       "</div>"
      ],
      "text/plain": [
       "                Id         rooms      bedrooms     bathrooms  surface_total  \\\n",
       "count  25660.00000  25660.000000  25660.000000  25660.000000   25660.000000   \n",
       "mean   12829.50000      2.648207      1.989751      1.682502      78.966875   \n",
       "std     7407.54829      1.022895      0.937260      0.895758      53.229903   \n",
       "min        0.00000      1.000000      1.000000      1.000000      10.000000   \n",
       "25%     6414.75000      2.000000      1.000000      1.000000      43.000000   \n",
       "50%    12829.50000      3.000000      2.000000      1.000000      63.000000   \n",
       "75%    19244.25000      3.000000      3.000000      2.000000      94.000000   \n",
       "max    25659.00000     12.000000      7.000000      6.000000     347.000000   \n",
       "\n",
       "              price  \n",
       "count  2.566000e+04  \n",
       "mean   1.656802e+05  \n",
       "std    2.244543e+05  \n",
       "min    6.009000e+03  \n",
       "25%    7.100000e+04  \n",
       "50%    1.050000e+05  \n",
       "75%    1.700000e+05  \n",
       "max    3.450000e+06  "
      ]
     },
     "execution_count": 5,
     "metadata": {},
     "output_type": "execute_result"
    }
   ],
   "source": [
    "df.describe()"
   ]
  },
  {
   "cell_type": "code",
   "execution_count": 6,
   "metadata": {},
   "outputs": [
    {
     "data": {
      "text/plain": [
       "array(['Venta'], dtype=object)"
      ]
     },
     "execution_count": 6,
     "metadata": {},
     "output_type": "execute_result"
    }
   ],
   "source": [
    "df.operation_type.unique()"
   ]
  },
  {
   "cell_type": "markdown",
   "metadata": {},
   "source": [
    "Since operation_type has only one category I will ignore this column from now on"
   ]
  },
  {
   "cell_type": "code",
   "execution_count": 7,
   "metadata": {},
   "outputs": [
    {
     "name": "stderr",
     "output_type": "stream",
     "text": [
      "C:\\Users\\feche\\anaconda3\\lib\\site-packages\\pandas\\core\\indexing.py:966: SettingWithCopyWarning: \n",
      "A value is trying to be set on a copy of a slice from a DataFrame.\n",
      "Try using .loc[row_indexer,col_indexer] = value instead\n",
      "\n",
      "See the caveats in the documentation: https://pandas.pydata.org/pandas-docs/stable/user_guide/indexing.html#returning-a-view-versus-a-copy\n",
      "  self.obj[item] = s\n"
     ]
    }
   ],
   "source": [
    "df_colombia=df[df['pais']=='Colombia']\n",
    "df_argentina=df[df['pais']=='Argentina']\n",
    "\n",
    "df_test_colombia=df_test[df_test['pais']=='Colombia']\n",
    "df_test_argentina=df_test[df_test['pais']=='Argentina']\n",
    "\n",
    "#Correcciones de precios mal asignados\n",
    "df_argentina.loc[24084,'price']=315000\n",
    "df_colombia.loc[16166,'price']=233966\n",
    "df_colombia.loc[9093,'price']=71566\n",
    "df_colombia.loc[12408,'price']=63297\n",
    "df_colombia.loc[12408,'surface_total']=100\n",
    "df_colombia.loc[25309,'price']=72942\n",
    "df_argentina.loc[20385,'price']=260000\n",
    "df_argentina.loc[14865,'price']=190000\n",
    "df_argentina.loc[16720,'price']=170000\n",
    "df_argentina.loc[21378,'price']=165000"
   ]
  },
  {
   "cell_type": "code",
   "execution_count": 8,
   "metadata": {},
   "outputs": [
    {
     "data": {
      "text/plain": [
       "array(['Apartamento'], dtype=object)"
      ]
     },
     "execution_count": 8,
     "metadata": {},
     "output_type": "execute_result"
    }
   ],
   "source": [
    "df_colombia.property_type.unique()"
   ]
  },
  {
   "cell_type": "code",
   "execution_count": 9,
   "metadata": {},
   "outputs": [
    {
     "data": {
      "text/plain": [
       "array(['Departamento'], dtype=object)"
      ]
     },
     "execution_count": 9,
     "metadata": {},
     "output_type": "execute_result"
    }
   ],
   "source": [
    "df_argentina.property_type.unique()"
   ]
  },
  {
   "cell_type": "markdown",
   "metadata": {},
   "source": [
    "For the entire df we only have departments, in Colombia they are called \"Apartamentos\" and in Argentina \"Departamentos\"\n",
    "Since they are the same thing, there is only one category for this column, so I will ignore it from now on"
   ]
  },
  {
   "cell_type": "code",
   "execution_count": 10,
   "metadata": {},
   "outputs": [
    {
     "data": {
      "text/plain": [
       "(array([1.5062e+04, 6.7960e+03, 1.7790e+03, 7.5000e+02, 3.8300e+02,\n",
       "        1.9000e+02, 1.4700e+02, 1.2700e+02, 7.7000e+01, 6.3000e+01,\n",
       "        5.7000e+01, 3.7000e+01, 2.8000e+01, 4.4000e+01, 3.1000e+01,\n",
       "        1.0000e+01, 1.4000e+01, 1.0000e+00, 0.0000e+00, 2.6000e+01,\n",
       "        5.0000e+00, 8.0000e+00, 1.0000e+00, 7.0000e+00, 0.0000e+00,\n",
       "        0.0000e+00, 8.0000e+00, 2.0000e+00, 0.0000e+00, 7.0000e+00]),\n",
       " array([   6009. ,  120808.7,  235608.4,  350408.1,  465207.8,  580007.5,\n",
       "         694807.2,  809606.9,  924406.6, 1039206.3, 1154006. , 1268805.7,\n",
       "        1383605.4, 1498405.1, 1613204.8, 1728004.5, 1842804.2, 1957603.9,\n",
       "        2072403.6, 2187203.3, 2302003. , 2416802.7, 2531602.4, 2646402.1,\n",
       "        2761201.8, 2876001.5, 2990801.2, 3105600.9, 3220400.6, 3335200.3,\n",
       "        3450000. ]),\n",
       " <a list of 30 Patch objects>)"
      ]
     },
     "execution_count": 10,
     "metadata": {},
     "output_type": "execute_result"
    },
    {
     "data": {
      "image/png": "[encoded data removed]",
      "text/plain": [
       "<Figure size 432x288 with 1 Axes>"
      ]
     },
     "metadata": {},
     "output_type": "display_data"
    }
   ],
   "source": [
    "plt.hist(df['price'],bins=30, color='green')"
   ]
  },
  {
   "cell_type": "code",
   "execution_count": 11,
   "metadata": {},
   "outputs": [
    {
     "data": {
      "text/html": [
       "<div>\n",
       "<style scoped>\n",
       "    .dataframe tbody tr th:only-of-type {\n",
       "        vertical-align: middle;\n",
       "    }\n",
       "\n",
       "    .dataframe tbody tr th {\n",
       "        vertical-align: top;\n",
       "    }\n",
       "\n",
       "    .dataframe thead th {\n",
       "        text-align: right;\n",
       "    }\n",
       "</style>\n",
       "<table border=\"1\" class=\"dataframe\">\n",
       "  <thead>\n",
       "    <tr style=\"text-align: right;\">\n",
       "      <th></th>\n",
       "      <th>price</th>\n",
       "      <th>surface_total</th>\n",
       "      <th>rooms</th>\n",
       "      <th>bedrooms</th>\n",
       "      <th>bathrooms</th>\n",
       "    </tr>\n",
       "  </thead>\n",
       "  <tbody>\n",
       "    <tr>\n",
       "      <th>price</th>\n",
       "      <td>1.000000</td>\n",
       "      <td>0.664942</td>\n",
       "      <td>0.430070</td>\n",
       "      <td>0.300356</td>\n",
       "      <td>0.405673</td>\n",
       "    </tr>\n",
       "    <tr>\n",
       "      <th>surface_total</th>\n",
       "      <td>0.664942</td>\n",
       "      <td>1.000000</td>\n",
       "      <td>0.604974</td>\n",
       "      <td>0.686146</td>\n",
       "      <td>0.765760</td>\n",
       "    </tr>\n",
       "    <tr>\n",
       "      <th>rooms</th>\n",
       "      <td>0.430070</td>\n",
       "      <td>0.604974</td>\n",
       "      <td>1.000000</td>\n",
       "      <td>0.770108</td>\n",
       "      <td>0.429296</td>\n",
       "    </tr>\n",
       "    <tr>\n",
       "      <th>bedrooms</th>\n",
       "      <td>0.300356</td>\n",
       "      <td>0.686146</td>\n",
       "      <td>0.770108</td>\n",
       "      <td>1.000000</td>\n",
       "      <td>0.678597</td>\n",
       "    </tr>\n",
       "    <tr>\n",
       "      <th>bathrooms</th>\n",
       "      <td>0.405673</td>\n",
       "      <td>0.765760</td>\n",
       "      <td>0.429296</td>\n",
       "      <td>0.678597</td>\n",
       "      <td>1.000000</td>\n",
       "    </tr>\n",
       "  </tbody>\n",
       "</table>\n",
       "</div>"
      ],
      "text/plain": [
       "                  price  surface_total     rooms  bedrooms  bathrooms\n",
       "price          1.000000       0.664942  0.430070  0.300356   0.405673\n",
       "surface_total  0.664942       1.000000  0.604974  0.686146   0.765760\n",
       "rooms          0.430070       0.604974  1.000000  0.770108   0.429296\n",
       "bedrooms       0.300356       0.686146  0.770108  1.000000   0.678597\n",
       "bathrooms      0.405673       0.765760  0.429296  0.678597   1.000000"
      ]
     },
     "execution_count": 11,
     "metadata": {},
     "output_type": "execute_result"
    }
   ],
   "source": [
    "corr_mat=df[['price','surface_total','rooms','bedrooms','bathrooms']].corr()\n",
    "corr_mat"
   ]
  },
  {
   "cell_type": "code",
   "execution_count": 12,
   "metadata": {},
   "outputs": [
    {
     "data": {
      "text/plain": [
       "Text(0.5, 1, 'Correlation Matrix')"
      ]
     },
     "execution_count": 12,
     "metadata": {},
     "output_type": "execute_result"
    },
    {
     "data": {
      "image/png": "[encoded data removed]",
      "text/plain": [
       "<Figure size 432x288 with 2 Axes>"
      ]
     },
     "metadata": {},
     "output_type": "display_data"
    }
   ],
   "source": [
    "sns.heatmap(corr_mat,cmap=sns.diverging_palette(220, 10, as_cmap=True))\n",
    "plt.title(\"Correlation Matrix\")"
   ]
  },
  {
   "cell_type": "markdown",
   "metadata": {},
   "source": [
    "### Model 1 - Linear Regression raw data only numerical variables"
   ]
  },
  {
   "cell_type": "code",
   "execution_count": 13,
   "metadata": {},
   "outputs": [],
   "source": [
    "from sklearn.linear_model import LinearRegression\n",
    "from sklearn.model_selection import train_test_split"
   ]
  },
  {
   "cell_type": "code",
   "execution_count": 15,
   "metadata": {},
   "outputs": [],
   "source": [
    "train_colombia,test_colombia=train_test_split(df_colombia,test_size=0.2,random_state=42)\n",
    "train_argentina,test_argentina=train_test_split(df_argentina,test_size=0.2,random_state=42)"
   ]
  },
  {
   "cell_type": "code",
   "execution_count": 86,
   "metadata": {},
   "outputs": [],
   "source": [
    "predictive_cols=['surface_total','rooms','bedrooms','bathrooms']\n",
    "\n",
    "x=train_colombia[predictive_cols]\n",
    "y=train_colombia['price']"
   ]
  },
  {
   "cell_type": "code",
   "execution_count": 87,
   "metadata": {},
   "outputs": [
    {
     "data": {
      "text/plain": [
       "LinearRegression(copy_X=True, fit_intercept=True, n_jobs=None, normalize=False)"
      ]
     },
     "execution_count": 87,
     "metadata": {},
     "output_type": "execute_result"
    }
   ],
   "source": [
    "linear_model=LinearRegression()\n",
    "linear_model.fit(x,y)"
   ]
  },
  {
   "cell_type": "code",
   "execution_count": 88,
   "metadata": {},
   "outputs": [
    {
     "data": {
      "text/plain": [
       "0.672569266131951"
      ]
     },
     "execution_count": 88,
     "metadata": {},
     "output_type": "execute_result"
    }
   ],
   "source": [
    "linear_model.score(x,y)"
   ]
  },
  {
   "cell_type": "markdown",
   "metadata": {},
   "source": [
    "Use only the numerical variables is not enough, but is a good start"
   ]
  },
  {
   "cell_type": "markdown",
   "metadata": {},
   "source": [
    "### Dummies for categorical variables"
   ]
  },
  {
   "cell_type": "code",
   "execution_count": 89,
   "metadata": {},
   "outputs": [
    {
     "data": {
      "text/plain": [
       "array(['Atlántico', 'Valle del Cauca', 'Santander', 'Cundinamarca',\n",
       "       'Risaralda', 'Antioquia', 'Bolívar', 'Huila', 'Norte de Santander',\n",
       "       'Quindío', 'Magdalena', 'Córdoba', 'Tolima', 'Boyacá', 'Meta',\n",
       "       'Cauca'], dtype=object)"
      ]
     },
     "execution_count": 89,
     "metadata": {},
     "output_type": "execute_result"
    }
   ],
   "source": [
    "df_colombia.provincia_departamento.unique()"
   ]
  },
  {
   "cell_type": "code",
   "execution_count": 90,
   "metadata": {},
   "outputs": [
    {
     "data": {
      "text/plain": [
       "<matplotlib.axes._subplots.AxesSubplot at 0x21312193348>"
      ]
     },
     "execution_count": 90,
     "metadata": {},
     "output_type": "execute_result"
    },
    {
     "data": {
      "image/png": "[encoded data removed]",
      "text/plain": [
       "<Figure size 1080x432 with 1 Axes>"
      ]
     },
     "metadata": {},
     "output_type": "display_data"
    }
   ],
   "source": [
    "departamento_colombia=df_colombia.groupby('provincia_departamento')['price'].mean()\n",
    "departamento_colombia=pd.DataFrame(departamento_colombia).reset_index()\n",
    "plt.figure(figsize=(15,6))\n",
    "sns.barplot(x='provincia_departamento',y='price',data=departamento_colombia)"
   ]
  },
  {
   "cell_type": "code",
   "execution_count": 91,
   "metadata": {},
   "outputs": [
    {
     "data": {
      "text/plain": [
       "array(['Barranquilla', 'Cali', 'Floridablanca', 'Bogotá D.C', 'Pereira',\n",
       "       'Envigado', 'Medellín', 'Sabaneta', 'Cartagena', 'Bello',\n",
       "       'Palermo', 'Gachancipá', 'Funza', 'La Estrella', 'Itagui',\n",
       "       'Jamundí', 'Chía', 'Bucaramanga', 'Madrid', 'Rionegro',\n",
       "       'Los Patios', 'Puerto Colombia', 'Neiva', 'Cabrera', 'Ricaurte',\n",
       "       'Soacha', 'Soledad', 'Armenia', 'Villa del Rosario', 'Santa Marta',\n",
       "       'Cajicá', 'Copacabana', 'Zipaquirá', 'Palmira', 'Mosquera',\n",
       "       'La Vega', 'Agua de Dios', 'Abejorral', 'Guarne', 'Tabio',\n",
       "       'Marinilla', 'Pueblo Nuevo', 'Girardot', 'Ibagué',\n",
       "       'Santafé de Antioquia', 'Yumbo', 'Chiquinquirá',\n",
       "       'Santa Rosa de Cabal', 'Marsella', 'Tunja', 'La Calera', 'Cota',\n",
       "       'Retiro', 'San Martín', 'La Ceja', 'Piedecuesta', 'Sopó', 'Tuluá',\n",
       "       'Girón', 'Buenaventura', 'Juan de Acosta', 'Barrancabermeja',\n",
       "       'Tocancipá', 'Barbosa', 'El Carmen de Viboral', 'Girardota',\n",
       "       'Melgar', 'Duitama', 'Fusagasugá', 'Anapoima', 'San Gil',\n",
       "       'Popayán', 'Curití', 'Acacías', 'San Luis'], dtype=object)"
      ]
     },
     "execution_count": 91,
     "metadata": {},
     "output_type": "execute_result"
    }
   ],
   "source": [
    "df_colombia.ciudad.unique()"
   ]
  },
  {
   "cell_type": "code",
   "execution_count": 92,
   "metadata": {
    "scrolled": false
   },
   "outputs": [
    {
     "data": {
      "text/plain": [
       "[Text(0, 0, 'Abejorral'),\n",
       " Text(0, 0, 'Acacías'),\n",
       " Text(0, 0, 'Agua de Dios'),\n",
       " Text(0, 0, 'Anapoima'),\n",
       " Text(0, 0, 'Armenia'),\n",
       " Text(0, 0, 'Barbosa'),\n",
       " Text(0, 0, 'Barrancabermeja'),\n",
       " Text(0, 0, 'Barranquilla'),\n",
       " Text(0, 0, 'Bello'),\n",
       " Text(0, 0, 'Bogotá D.C'),\n",
       " Text(0, 0, 'Bucaramanga'),\n",
       " Text(0, 0, 'Buenaventura'),\n",
       " Text(0, 0, 'Cabrera'),\n",
       " Text(0, 0, 'Cajicá'),\n",
       " Text(0, 0, 'Cali'),\n",
       " Text(0, 0, 'Cartagena'),\n",
       " Text(0, 0, 'Chiquinquirá'),\n",
       " Text(0, 0, 'Chía'),\n",
       " Text(0, 0, 'Copacabana'),\n",
       " Text(0, 0, 'Cota'),\n",
       " Text(0, 0, 'Curití'),\n",
       " Text(0, 0, 'Duitama'),\n",
       " Text(0, 0, 'El Carmen de Viboral'),\n",
       " Text(0, 0, 'Envigado'),\n",
       " Text(0, 0, 'Floridablanca'),\n",
       " Text(0, 0, 'Funza'),\n",
       " Text(0, 0, 'Fusagasugá'),\n",
       " Text(0, 0, 'Gachancipá'),\n",
       " Text(0, 0, 'Girardot'),\n",
       " Text(0, 0, 'Girardota'),\n",
       " Text(0, 0, 'Girón'),\n",
       " Text(0, 0, 'Guarne'),\n",
       " Text(0, 0, 'Ibagué'),\n",
       " Text(0, 0, 'Itagui'),\n",
       " Text(0, 0, 'Jamundí'),\n",
       " Text(0, 0, 'Juan de Acosta'),\n",
       " Text(0, 0, 'La Calera'),\n",
       " Text(0, 0, 'La Ceja'),\n",
       " Text(0, 0, 'La Estrella'),\n",
       " Text(0, 0, 'La Vega'),\n",
       " Text(0, 0, 'Los Patios'),\n",
       " Text(0, 0, 'Madrid'),\n",
       " Text(0, 0, 'Marinilla'),\n",
       " Text(0, 0, 'Marsella'),\n",
       " Text(0, 0, 'Medellín'),\n",
       " Text(0, 0, 'Melgar'),\n",
       " Text(0, 0, 'Mosquera'),\n",
       " Text(0, 0, 'Neiva'),\n",
       " Text(0, 0, 'Palermo'),\n",
       " Text(0, 0, 'Palmira'),\n",
       " Text(0, 0, 'Pereira'),\n",
       " Text(0, 0, 'Piedecuesta'),\n",
       " Text(0, 0, 'Popayán'),\n",
       " Text(0, 0, 'Pueblo Nuevo'),\n",
       " Text(0, 0, 'Puerto Colombia'),\n",
       " Text(0, 0, 'Retiro'),\n",
       " Text(0, 0, 'Ricaurte'),\n",
       " Text(0, 0, 'Rionegro'),\n",
       " Text(0, 0, 'Sabaneta'),\n",
       " Text(0, 0, 'San Gil'),\n",
       " Text(0, 0, 'San Luis'),\n",
       " Text(0, 0, 'San Martín'),\n",
       " Text(0, 0, 'Santa Marta'),\n",
       " Text(0, 0, 'Santa Rosa de Cabal'),\n",
       " Text(0, 0, 'Santafé de Antioquia'),\n",
       " Text(0, 0, 'Soacha'),\n",
       " Text(0, 0, 'Soledad'),\n",
       " Text(0, 0, 'Sopó'),\n",
       " Text(0, 0, 'Tabio'),\n",
       " Text(0, 0, 'Tocancipá'),\n",
       " Text(0, 0, 'Tuluá'),\n",
       " Text(0, 0, 'Tunja'),\n",
       " Text(0, 0, 'Villa del Rosario'),\n",
       " Text(0, 0, 'Yumbo'),\n",
       " Text(0, 0, 'Zipaquirá')]"
      ]
     },
     "execution_count": 92,
     "metadata": {},
     "output_type": "execute_result"
    },
    {
     "data": {
      "image/png": "[encoded data removed]",
      "text/plain": [
       "<Figure size 1080x576 with 1 Axes>"
      ]
     },
     "metadata": {},
     "output_type": "display_data"
    }
   ],
   "source": [
    "ciudad_colombia=df_colombia.groupby('ciudad')['price'].mean()\n",
    "ciudad_colombia=pd.DataFrame(ciudad_colombia).reset_index()\n",
    "plt.figure(figsize=(15,8))\n",
    "ax=sns.barplot(x='ciudad',y='price',data=ciudad_colombia)\n",
    "ax.set_xticklabels(ax.get_xticklabels(), rotation=90)"
   ]
  },
  {
   "cell_type": "code",
   "execution_count": 93,
   "metadata": {},
   "outputs": [
    {
     "data": {
      "text/plain": [
       "array(['Capital Federal', 'Bs.As. G.B.A. Zona Sur',\n",
       "       'Bs.As. G.B.A. Zona Norte', 'Buenos Aires Costa Atlántica',\n",
       "       'Neuquén', 'Bs.As. G.B.A. Zona Oeste', 'Córdoba', 'Santa Fe',\n",
       "       'Buenos Aires Interior', 'Río Negro', 'Mendoza', 'Entre Ríos',\n",
       "       'Salta', 'Misiones', 'Chubut', 'San Luis', 'Chaco', 'Tucumán',\n",
       "       'Jujuy', 'San Juan'], dtype=object)"
      ]
     },
     "execution_count": 93,
     "metadata": {},
     "output_type": "execute_result"
    }
   ],
   "source": [
    "df_argentina.provincia_departamento.unique()"
   ]
  },
  {
   "cell_type": "code",
   "execution_count": 94,
   "metadata": {},
   "outputs": [
    {
     "data": {
      "text/plain": [
       "[Text(0, 0, 'Bs.As. G.B.A. Zona Norte'),\n",
       " Text(0, 0, 'Bs.As. G.B.A. Zona Oeste'),\n",
       " Text(0, 0, 'Bs.As. G.B.A. Zona Sur'),\n",
       " Text(0, 0, 'Buenos Aires Costa Atlántica'),\n",
       " Text(0, 0, 'Buenos Aires Interior'),\n",
       " Text(0, 0, 'Capital Federal'),\n",
       " Text(0, 0, 'Chaco'),\n",
       " Text(0, 0, 'Chubut'),\n",
       " Text(0, 0, 'Córdoba'),\n",
       " Text(0, 0, 'Entre Ríos'),\n",
       " Text(0, 0, 'Jujuy'),\n",
       " Text(0, 0, 'Mendoza'),\n",
       " Text(0, 0, 'Misiones'),\n",
       " Text(0, 0, 'Neuquén'),\n",
       " Text(0, 0, 'Río Negro'),\n",
       " Text(0, 0, 'Salta'),\n",
       " Text(0, 0, 'San Juan'),\n",
       " Text(0, 0, 'San Luis'),\n",
       " Text(0, 0, 'Santa Fe'),\n",
       " Text(0, 0, 'Tucumán')]"
      ]
     },
     "execution_count": 94,
     "metadata": {},
     "output_type": "execute_result"
    },
    {
     "data": {
      "image/png": "[encoded data removed]",
      "text/plain": [
       "<Figure size 1080x432 with 1 Axes>"
      ]
     },
     "metadata": {},
     "output_type": "display_data"
    }
   ],
   "source": [
    "departamento_argentina=df_argentina.groupby('provincia_departamento')['price'].mean()\n",
    "departamento_argentina=pd.DataFrame(departamento_argentina).reset_index()\n",
    "plt.figure(figsize=(15,6))\n",
    "ax=sns.barplot(x='provincia_departamento',y='price',data=departamento_argentina)\n",
    "ax.set_xticklabels(ax.get_xticklabels(), rotation=90)"
   ]
  },
  {
   "cell_type": "code",
   "execution_count": 95,
   "metadata": {},
   "outputs": [
    {
     "data": {
      "text/plain": [
       "array(['Villa Crespo', 'Palermo', 'Balvanera', 'La Plata', 'Tigre',\n",
       "       'Almagro', 'Caballito', 'Monte Hermoso', 'Recoleta',\n",
       "       'Mar del Plata', 'Belgrano', 'Necochea', 'Confluencia',\n",
       "       'San Telmo', 'Pinamar', 'Ituzaingó', 'Córdoba', 'Neuquén',\n",
       "       'Colegiales', 'Villa Gesell', 'Rosario', 'Barrio Norte',\n",
       "       'Chacarita', 'San Miguel', 'Villa Urquiza', 'Lomas de Zamora',\n",
       "       'San Lorenzo', 'Villa Luro', 'Morón', 'Quilmes',\n",
       "       'Parque Chacabuco', 'Constitución', 'Avellaneda', 'Pilar',\n",
       "       'Monserrat', 'Congreso', 'Tres de Febrero', 'Puerto Madero',\n",
       "       'Liniers', 'Bahía Blanca', 'San Carlos de Bariloche', 'Junín',\n",
       "       'Mataderos', 'Villa Santa Rita', 'Moreno', 'San Nicolás', 'Once',\n",
       "       'San Isidro', 'Vicente López', 'La Matanza', 'Villa Devoto',\n",
       "       'General San Martín', 'Boca', 'Floresta', 'Centro / Microcentro',\n",
       "       'General Roca', 'Punilla', 'Villa Lugano', 'Las Cañitas',\n",
       "       'Mendoza', 'Villa Ortuzar', 'Pompeya', 'Villa del Parque',\n",
       "       'Paternal', 'Parque Patricios', 'San Cristobal', 'Santa Teresita',\n",
       "       'Barracas', 'Nuñez', 'Colón', 'Esperanza', 'Villa Carlos Paz',\n",
       "       'Abasto', 'Lanús', 'San Martín de los Andes', 'Tribunales',\n",
       "       'Monte Castro', 'Luján', 'Retiro', 'Esteban Echeverría',\n",
       "       'Hurlingham', 'Añelo', 'Miramar', 'Salta', 'Parque Centenario',\n",
       "       'Versalles', 'Berazategui', 'Flores', 'Luján de Cuyo', 'Saavedra',\n",
       "       'José C Paz', 'Tandil', 'Posadas', 'Santa Fe', 'Coghlan',\n",
       "       'Valeria del Mar', 'Escobar', 'Ezeiza', 'Boedo', 'Villa Riachuelo',\n",
       "       'Villa Pueyrredón', 'San Fernando', 'San Bernardo', 'Cipolletti',\n",
       "       'Villa Real', 'Lobos', 'Godoy Cruz', 'Almirante Brown',\n",
       "       'Agronomía', 'Gualeguaychú', 'Mar de Ajó', 'Merlo',\n",
       "       'Malvinas Argentinas', 'Villa Cerro Catedral', 'Lácar',\n",
       "       'General Rodríguez', 'Santa Clara del Mar', 'Costa del Este',\n",
       "       'Trelew', 'San Francisco del Monte de Oro', 'Pergamino',\n",
       "       'Parque Chas', 'Villa Soldati', 'San Vicente', 'Río Cuarto',\n",
       "       'Acambuco', 'Mercedes', 'Villa La Angostura',\n",
       "       'San Clemente del Tuyú', 'Villa General Mitre', 'Río Tercero',\n",
       "       'Resistencia', 'General Madariaga', 'Las Grutas',\n",
       "       'Exaltación de la Cruz', 'Campana', 'Plottier', 'Paraná',\n",
       "       'Velez Sarsfield', 'Rafaela', 'Villa María', 'Santo Tomé',\n",
       "       'Ostende', 'Parque Avellaneda', 'Villa General Belgrano', 'Maipú',\n",
       "       'Azul', 'Escalante', 'Mar del Tuyú', 'San Miguel del Monte',\n",
       "       'Yerba Buena', 'Las Heras', 'Concordia', 'General Fernández Oro',\n",
       "       'Mar Chiquita', 'San Salvador de Jujuy', 'Granadero Baigorria',\n",
       "       'Tres Arroyos', 'General Belgrano', 'Carrodilla', 'San Juan',\n",
       "       'Berisso', 'Allen', 'Malargüe', 'General Pueyrredón',\n",
       "       'Chacras de Coria', 'Olavarría', 'Rivadavia', 'Roldán',\n",
       "       'Rincón de los Sauces', 'Villa Allende', 'Ensenada', 'Balcarce',\n",
       "       'Puerto Madryn', 'Villa Constitución'], dtype=object)"
      ]
     },
     "execution_count": 95,
     "metadata": {},
     "output_type": "execute_result"
    }
   ],
   "source": [
    "df_argentina.ciudad.unique()"
   ]
  },
  {
   "cell_type": "code",
   "execution_count": 96,
   "metadata": {},
   "outputs": [],
   "source": [
    "categories=[\"provincia_departamento\"]\n",
    "\n",
    "\n",
    "cat_dummies=pd.get_dummies(df_colombia[\"provincia_departamento\"], prefix=\"departamento\")\n",
    "df_train_new=df_colombia.join(cat_dummies)\n",
    "df_colombia=df_train_new\n",
    "    \n",
    "cat_dummies=pd.get_dummies(df_argentina[\"provincia_departamento\"], prefix=\"departamento\")\n",
    "df_train_new=df_argentina.join(cat_dummies)\n",
    "df_argentina=df_train_new"
   ]
  },
  {
   "cell_type": "code",
   "execution_count": 97,
   "metadata": {},
   "outputs": [],
   "source": [
    "categories=[\"provincia_departamento\"]\n",
    "\n",
    "\n",
    "cat_dummies=pd.get_dummies(df_test_colombia[\"provincia_departamento\"], prefix=\"departamento\")\n",
    "df_test_new=df_test_colombia.join(cat_dummies)\n",
    "df_test_colombia=df_test_new\n",
    "    \n",
    "cat_dummies=pd.get_dummies(df_test_argentina[\"provincia_departamento\"], prefix=\"departamento\")\n",
    "df_test_new=df_test_argentina.join(cat_dummies)\n",
    "df_test_argentina=df_test_new"
   ]
  },
  {
   "cell_type": "code",
   "execution_count": null,
   "metadata": {},
   "outputs": [],
   "source": []
  },
  {
   "cell_type": "markdown",
   "metadata": {},
   "source": [
    "### Model 2 - Linear Regression using categorical variables"
   ]
  },
  {
   "cell_type": "markdown",
   "metadata": {},
   "source": [
    "#### Colombia"
   ]
  },
  {
   "cell_type": "code",
   "execution_count": 98,
   "metadata": {},
   "outputs": [],
   "source": [
    "predictive_cols=['rooms', 'bedrooms', 'bathrooms',\n",
    "       'surface_total', 'departamento_Antioquia',\n",
    "       'departamento_Atlántico', 'departamento_Bolívar',\n",
    "       'departamento_Boyacá', 'departamento_Cauca',\n",
    "       'departamento_Cundinamarca', 'departamento_Córdoba',\n",
    "       'departamento_Huila', 'departamento_Magdalena',\n",
    "       'departamento_Meta', 'departamento_Norte de Santander',\n",
    "       'departamento_Quindío', 'departamento_Risaralda',\n",
    "       'departamento_Santander', 'departamento_Tolima',\n",
    "       'departamento_Valle del Cauca']\n",
    "\n",
    "x=df_colombia[predictive_cols]\n",
    "y=df_colombia['price']\n",
    "\n",
    "x_train,x_test,y_train,y_test=train_test_split(x,y,test_size=0.2,random_state=42)"
   ]
  },
  {
   "cell_type": "code",
   "execution_count": 99,
   "metadata": {},
   "outputs": [
    {
     "data": {
      "text/plain": [
       "LinearRegression(copy_X=True, fit_intercept=True, n_jobs=None, normalize=False)"
      ]
     },
     "execution_count": 99,
     "metadata": {},
     "output_type": "execute_result"
    }
   ],
   "source": [
    "linear_model=LinearRegression()\n",
    "linear_model.fit(x_train,y_train)"
   ]
  },
  {
   "cell_type": "code",
   "execution_count": 100,
   "metadata": {},
   "outputs": [
    {
     "data": {
      "text/plain": [
       "0.7113676605383421"
      ]
     },
     "execution_count": 100,
     "metadata": {},
     "output_type": "execute_result"
    }
   ],
   "source": [
    "linear_model.score(x_test,y_test)"
   ]
  },
  {
   "cell_type": "code",
   "execution_count": 101,
   "metadata": {},
   "outputs": [],
   "source": [
    "preds=linear_model.predict(x_test)"
   ]
  },
  {
   "cell_type": "code",
   "execution_count": 102,
   "metadata": {},
   "outputs": [],
   "source": [
    "preds=abs(preds)"
   ]
  },
  {
   "cell_type": "code",
   "execution_count": 103,
   "metadata": {},
   "outputs": [
    {
     "name": "stdout",
     "output_type": "stream",
     "text": [
      "RMSE: 72139.756486\n",
      "RMSLE: 0.620367\n"
     ]
    }
   ],
   "source": [
    "rmse = np.sqrt(mean_squared_error(y_test, preds))\n",
    "print(\"RMSE: %f\" % (rmse))\n",
    "\n",
    "rmsle=np.sqrt(mean_squared_log_error(y_test,preds))\n",
    "print(\"RMSLE: %f\" % (rmsle))"
   ]
  },
  {
   "cell_type": "code",
   "execution_count": 104,
   "metadata": {},
   "outputs": [
    {
     "data": {
      "text/plain": [
       "array(['Id', 'pais', 'provincia_departamento', 'ciudad', 'property_type',\n",
       "       'operation_type', 'rooms', 'bedrooms', 'bathrooms',\n",
       "       'surface_total', 'currency', 'price', 'departamento_Antioquia',\n",
       "       'departamento_Atlántico', 'departamento_Bolívar',\n",
       "       'departamento_Boyacá', 'departamento_Cauca',\n",
       "       'departamento_Cundinamarca', 'departamento_Córdoba',\n",
       "       'departamento_Huila', 'departamento_Magdalena',\n",
       "       'departamento_Meta', 'departamento_Norte de Santander',\n",
       "       'departamento_Quindío', 'departamento_Risaralda',\n",
       "       'departamento_Santander', 'departamento_Tolima',\n",
       "       'departamento_Valle del Cauca'], dtype=object)"
      ]
     },
     "execution_count": 104,
     "metadata": {},
     "output_type": "execute_result"
    }
   ],
   "source": [
    "df_colombia.columns.values"
   ]
  },
  {
   "cell_type": "code",
   "execution_count": 105,
   "metadata": {},
   "outputs": [
    {
     "data": {
      "text/plain": [
       "array(['Id', 'pais', 'provincia_departamento', 'ciudad', 'property_type',\n",
       "       'operation_type', 'rooms', 'bedrooms', 'bathrooms',\n",
       "       'surface_total', 'currency', 'departamento_Antioquia',\n",
       "       'departamento_Atlántico', 'departamento_Bolívar',\n",
       "       'departamento_Cundinamarca', 'departamento_Magdalena',\n",
       "       'departamento_Norte de Santander', 'departamento_Quindío',\n",
       "       'departamento_Risaralda', 'departamento_Santander',\n",
       "       'departamento_Tolima', 'departamento_Valle del Cauca'],\n",
       "      dtype=object)"
      ]
     },
     "execution_count": 105,
     "metadata": {},
     "output_type": "execute_result"
    }
   ],
   "source": [
    "df_test_colombia.columns.values"
   ]
  },
  {
   "cell_type": "markdown",
   "metadata": {},
   "source": [
    "Linear Regression doesn't seem to be enough"
   ]
  },
  {
   "cell_type": "markdown",
   "metadata": {},
   "source": [
    "### Model 3 - XGBoost"
   ]
  },
  {
   "cell_type": "markdown",
   "metadata": {},
   "source": [
    "#### Colombia"
   ]
  },
  {
   "cell_type": "code",
   "execution_count": 106,
   "metadata": {},
   "outputs": [],
   "source": [
    "predictive_cols=['rooms', 'bedrooms', 'bathrooms',\n",
    "       'surface_total', 'departamento_Antioquia',\n",
    "       'departamento_Atlántico', 'departamento_Bolívar',\n",
    "       'departamento_Boyacá', 'departamento_Cauca',\n",
    "       'departamento_Cundinamarca', 'departamento_Córdoba',\n",
    "       'departamento_Huila', 'departamento_Magdalena',\n",
    "       'departamento_Meta', 'departamento_Norte de Santander',\n",
    "       'departamento_Quindío', 'departamento_Risaralda',\n",
    "       'departamento_Santander', 'departamento_Tolima',\n",
    "       'departamento_Valle del Cauca']\n",
    "\n",
    "x=df_colombia[predictive_cols]\n",
    "y=df_colombia['price']\n",
    "\n",
    "x_train,x_test,y_train,y_test=train_test_split(x,y,test_size=0.2,random_state=42)"
   ]
  },
  {
   "cell_type": "code",
   "execution_count": 107,
   "metadata": {},
   "outputs": [],
   "source": [
    "import xgboost as xgb\n",
    "from sklearn.metrics import mean_squared_error, mean_squared_log_error"
   ]
  },
  {
   "cell_type": "code",
   "execution_count": 108,
   "metadata": {},
   "outputs": [],
   "source": [
    "xg_reg_col = xgb.XGBRegressor(objective ='reg:squarederror', colsample_bytree = 0.9, learning_rate = 0.2,\n",
    "                max_depth = 5, alpha = 2, n_estimators = 70,random_state=42)"
   ]
  },
  {
   "cell_type": "code",
   "execution_count": 109,
   "metadata": {},
   "outputs": [],
   "source": [
    "xg_reg_col.fit(x_train,y_train)\n",
    "\n",
    "preds = xg_reg_col.predict(x_test)"
   ]
  },
  {
   "cell_type": "code",
   "execution_count": 110,
   "metadata": {},
   "outputs": [],
   "source": [
    "df_pred_cols=pd.DataFrame(preds,columns=[\"Prediction\"])\n",
    "df_pred_cols['Prediction']=abs(df_pred_cols['Prediction'])"
   ]
  },
  {
   "cell_type": "code",
   "execution_count": 111,
   "metadata": {},
   "outputs": [
    {
     "name": "stdout",
     "output_type": "stream",
     "text": [
      "RMSE: 61183.882219\n",
      "RMSLE: 0.271998\n"
     ]
    }
   ],
   "source": [
    "rmse = np.sqrt(mean_squared_error(y_test, df_pred_cols))\n",
    "print(\"RMSE: %f\" % (rmse))\n",
    "\n",
    "rmsle=np.sqrt(mean_squared_log_error(y_test,df_pred_cols))\n",
    "print(\"RMSLE: %f\" % (rmsle))"
   ]
  },
  {
   "cell_type": "markdown",
   "metadata": {},
   "source": [
    "#### Now I use this model to predict the price on the Test.csv"
   ]
  },
  {
   "cell_type": "code",
   "execution_count": 112,
   "metadata": {},
   "outputs": [],
   "source": [
    "df_test_colombia['departamento_Bolívar']=0\n",
    "df_test_colombia['departamento_Boyacá']=0\n",
    "df_test_colombia['departamento_Cauca']=0\n",
    "df_test_colombia['departamento_Córdoba']=0\n",
    "df_test_colombia['departamento_Huila']=0\n",
    "df_test_colombia['departamento_Meta']=0\n",
    "df_test_colombia['departamento_Quindío']=0\n",
    "\n",
    "\n",
    "predictive_cols=['rooms', 'bedrooms', 'bathrooms',\n",
    "       'surface_total', 'departamento_Antioquia',\n",
    "       'departamento_Atlántico', 'departamento_Bolívar',\n",
    "       'departamento_Boyacá', 'departamento_Cauca',\n",
    "       'departamento_Cundinamarca', 'departamento_Córdoba',\n",
    "       'departamento_Huila', 'departamento_Magdalena',\n",
    "       'departamento_Meta', 'departamento_Norte de Santander',\n",
    "       'departamento_Quindío', 'departamento_Risaralda',\n",
    "       'departamento_Santander', 'departamento_Tolima',\n",
    "       'departamento_Valle del Cauca']\n",
    "\n",
    "x_test=df_test_colombia[predictive_cols]"
   ]
  },
  {
   "cell_type": "code",
   "execution_count": 113,
   "metadata": {},
   "outputs": [],
   "source": [
    "predictions=xg_reg_col.predict(x_test)"
   ]
  },
  {
   "cell_type": "code",
   "execution_count": 114,
   "metadata": {},
   "outputs": [],
   "source": [
    "df_test_colombia['Predictions']=predictions"
   ]
  },
  {
   "cell_type": "code",
   "execution_count": 115,
   "metadata": {},
   "outputs": [
    {
     "data": {
      "text/plain": [
       "<matplotlib.axes._subplots.AxesSubplot at 0x2131225ab48>"
      ]
     },
     "execution_count": 115,
     "metadata": {},
     "output_type": "execute_result"
    },
    {
     "data": {
      "image/png": "[encoded data removed]",
      "text/plain": [
       "<Figure size 1080x432 with 1 Axes>"
      ]
     },
     "metadata": {},
     "output_type": "display_data"
    }
   ],
   "source": [
    "departamento_colombia=df_test_colombia.groupby('provincia_departamento')['Predictions'].mean()\n",
    "departamento_colombia=pd.DataFrame(departamento_colombia).reset_index()\n",
    "plt.figure(figsize=(15,6))\n",
    "sns.barplot(x='provincia_departamento',y='Predictions',data=departamento_colombia)"
   ]
  },
  {
   "cell_type": "code",
   "execution_count": 116,
   "metadata": {},
   "outputs": [],
   "source": [
    "df_predictions_colombia=df_test_colombia[['Id','Predictions']]\n",
    "df_predictions_colombia.to_csv(r'C:\\Users\\feche\\Documents\\Curso Python\\datasets\\Apartamentos-latam\\XGBoost_Colombia_predictions.csv',index=None)"
   ]
  },
  {
   "cell_type": "markdown",
   "metadata": {},
   "source": [
    "#### Argentina"
   ]
  },
  {
   "cell_type": "code",
   "execution_count": 117,
   "metadata": {},
   "outputs": [
    {
     "data": {
      "text/plain": [
       "array(['Id', 'pais', 'provincia_departamento', 'ciudad', 'property_type',\n",
       "       'operation_type', 'rooms', 'bedrooms', 'bathrooms',\n",
       "       'surface_total', 'currency', 'price',\n",
       "       'departamento_Bs.As. G.B.A. Zona Norte',\n",
       "       'departamento_Bs.As. G.B.A. Zona Oeste',\n",
       "       'departamento_Bs.As. G.B.A. Zona Sur',\n",
       "       'departamento_Buenos Aires Costa Atlántica',\n",
       "       'departamento_Buenos Aires Interior',\n",
       "       'departamento_Capital Federal', 'departamento_Chaco',\n",
       "       'departamento_Chubut', 'departamento_Córdoba',\n",
       "       'departamento_Entre Ríos', 'departamento_Jujuy',\n",
       "       'departamento_Mendoza', 'departamento_Misiones',\n",
       "       'departamento_Neuquén', 'departamento_Río Negro',\n",
       "       'departamento_Salta', 'departamento_San Juan',\n",
       "       'departamento_San Luis', 'departamento_Santa Fe',\n",
       "       'departamento_Tucumán'], dtype=object)"
      ]
     },
     "execution_count": 117,
     "metadata": {},
     "output_type": "execute_result"
    }
   ],
   "source": [
    "df_argentina.columns.values"
   ]
  },
  {
   "cell_type": "code",
   "execution_count": 118,
   "metadata": {},
   "outputs": [],
   "source": [
    "predictive_cols=['rooms', 'bedrooms', 'bathrooms',\n",
    "       'surface_total', 'departamento_Bs.As. G.B.A. Zona Norte',\n",
    "       'departamento_Bs.As. G.B.A. Zona Oeste',\n",
    "       'departamento_Bs.As. G.B.A. Zona Sur',\n",
    "       'departamento_Buenos Aires Costa Atlántica',\n",
    "       'departamento_Buenos Aires Interior',\n",
    "       'departamento_Capital Federal', 'departamento_Chaco',\n",
    "       'departamento_Chubut', 'departamento_Córdoba',\n",
    "       'departamento_Entre Ríos', 'departamento_Jujuy',\n",
    "       'departamento_Mendoza', 'departamento_Misiones',\n",
    "       'departamento_Neuquén', 'departamento_Río Negro',\n",
    "       'departamento_Salta', 'departamento_San Juan',\n",
    "       'departamento_San Luis', 'departamento_Santa Fe',\n",
    "       'departamento_Tucumán']\n",
    "\n",
    "x=df_argentina[predictive_cols]\n",
    "y=df_argentina['price']\n",
    "\n",
    "x_train,x_test,y_train,y_test=train_test_split(x,y,test_size=0.2,random_state=42)"
   ]
  },
  {
   "cell_type": "code",
   "execution_count": 119,
   "metadata": {},
   "outputs": [],
   "source": [
    "xg_reg_arg = xgb.XGBRegressor(objective ='reg:squarederror', colsample_bytree = 0.9, learning_rate = 0.2,\n",
    "                max_depth = 5, alpha = 2, n_estimators = 70,random_state=42)"
   ]
  },
  {
   "cell_type": "code",
   "execution_count": 120,
   "metadata": {},
   "outputs": [],
   "source": [
    "xg_reg_arg.fit(x_train,y_train)\n",
    "\n",
    "preds = xg_reg_arg.predict(x_test)"
   ]
  },
  {
   "cell_type": "code",
   "execution_count": 121,
   "metadata": {},
   "outputs": [],
   "source": [
    "df_preds_arg=pd.DataFrame(preds,columns=[\"Prediction\"])\n",
    "#df_preds_arg['Prediction']=abs(df_preds['Prediction'])"
   ]
  },
  {
   "cell_type": "code",
   "execution_count": 122,
   "metadata": {},
   "outputs": [
    {
     "name": "stdout",
     "output_type": "stream",
     "text": [
      "RMSE: 97857.659412\n",
      "RMSLE: 0.306241\n"
     ]
    }
   ],
   "source": [
    "rmse = np.sqrt(mean_squared_error(y_test, df_preds_arg))\n",
    "print(\"RMSE: %f\" % (rmse))\n",
    "\n",
    "rmsle=np.sqrt(mean_squared_log_error(y_test,df_preds_arg))\n",
    "print(\"RMSLE: %f\" % (rmsle))"
   ]
  },
  {
   "cell_type": "markdown",
   "metadata": {},
   "source": [
    "#### Now I use this model to predict the price on the Test.csv"
   ]
  },
  {
   "cell_type": "code",
   "execution_count": 123,
   "metadata": {},
   "outputs": [],
   "source": [
    "df_test_argentina['departamento_Tucumán']=0\n",
    "df_test_argentina['departamento_Chaco']=0\n",
    "df_test_argentina['departamento_Jujuy']=0\n",
    "df_test_argentina['departamento_Chubut']=0\n",
    "\n",
    "predictive_cols=['rooms', 'bedrooms', 'bathrooms',\n",
    "       'surface_total', 'departamento_Bs.As. G.B.A. Zona Norte',\n",
    "       'departamento_Bs.As. G.B.A. Zona Oeste',\n",
    "       'departamento_Bs.As. G.B.A. Zona Sur',\n",
    "       'departamento_Buenos Aires Costa Atlántica',\n",
    "       'departamento_Buenos Aires Interior',\n",
    "       'departamento_Capital Federal', 'departamento_Chaco',\n",
    "       'departamento_Chubut', 'departamento_Córdoba',\n",
    "       'departamento_Entre Ríos', 'departamento_Jujuy',\n",
    "       'departamento_Mendoza', 'departamento_Misiones',\n",
    "       'departamento_Neuquén', 'departamento_Río Negro',\n",
    "       'departamento_Salta', 'departamento_San Juan',\n",
    "       'departamento_San Luis', 'departamento_Santa Fe',\n",
    "       'departamento_Tucumán']\n",
    "\n",
    "x_test=df_test_argentina[predictive_cols]"
   ]
  },
  {
   "cell_type": "code",
   "execution_count": 124,
   "metadata": {},
   "outputs": [],
   "source": [
    "predictions=xg_reg_arg.predict(x_test)"
   ]
  },
  {
   "cell_type": "code",
   "execution_count": 125,
   "metadata": {},
   "outputs": [],
   "source": [
    "df_test_argentina['Predictions']=predictions"
   ]
  },
  {
   "cell_type": "code",
   "execution_count": 126,
   "metadata": {},
   "outputs": [
    {
     "data": {
      "text/plain": [
       "[Text(0, 0, 'Bs.As. G.B.A. Zona Norte'),\n",
       " Text(0, 0, 'Bs.As. G.B.A. Zona Oeste'),\n",
       " Text(0, 0, 'Bs.As. G.B.A. Zona Sur'),\n",
       " Text(0, 0, 'Buenos Aires Costa Atlántica'),\n",
       " Text(0, 0, 'Buenos Aires Interior'),\n",
       " Text(0, 0, 'Capital Federal'),\n",
       " Text(0, 0, 'Corrientes'),\n",
       " Text(0, 0, 'Córdoba'),\n",
       " Text(0, 0, 'Entre Ríos'),\n",
       " Text(0, 0, 'Mendoza'),\n",
       " Text(0, 0, 'Misiones'),\n",
       " Text(0, 0, 'Neuquén'),\n",
       " Text(0, 0, 'Río Negro'),\n",
       " Text(0, 0, 'Salta'),\n",
       " Text(0, 0, 'San Juan'),\n",
       " Text(0, 0, 'San Luis'),\n",
       " Text(0, 0, 'Santa Fe')]"
      ]
     },
     "execution_count": 126,
     "metadata": {},
     "output_type": "execute_result"
    },
    {
     "data": {
      "image/png": "[encoded data removed]",
      "text/plain": [
       "<Figure size 1080x432 with 1 Axes>"
      ]
     },
     "metadata": {},
     "output_type": "display_data"
    }
   ],
   "source": [
    "departamento_argentina=df_test_argentina.groupby('provincia_departamento')['Predictions'].mean()\n",
    "departamento_argentina=pd.DataFrame(departamento_argentina).reset_index()\n",
    "plt.figure(figsize=(15,6))\n",
    "ax=sns.barplot(x='provincia_departamento',y='Predictions',data=departamento_argentina)\n",
    "ax.set_xticklabels(ax.get_xticklabels(), rotation=90)"
   ]
  },
  {
   "cell_type": "code",
   "execution_count": 127,
   "metadata": {},
   "outputs": [],
   "source": [
    "df_predictions_argentina=df_test_argentina[['Id','Predictions']]\n",
    "df_predictions_argentina.to_csv(r'C:\\Users\\feche\\Documents\\Curso Python\\datasets\\Apartamentos-latam\\XGBoost_Argentina_predictions.csv',index=None)"
   ]
  },
  {
   "cell_type": "markdown",
   "metadata": {},
   "source": [
    "Combining files of predictions for Colombia and Argentina I get to my final prediction file"
   ]
  },
  {
   "cell_type": "markdown",
   "metadata": {},
   "source": [
    "### Model 4 - XGBoost with only states form test file"
   ]
  },
  {
   "cell_type": "code",
   "execution_count": 128,
   "metadata": {},
   "outputs": [
    {
     "name": "stderr",
     "output_type": "stream",
     "text": [
      "C:\\Users\\feche\\anaconda3\\lib\\site-packages\\pandas\\core\\indexing.py:966: SettingWithCopyWarning: \n",
      "A value is trying to be set on a copy of a slice from a DataFrame.\n",
      "Try using .loc[row_indexer,col_indexer] = value instead\n",
      "\n",
      "See the caveats in the documentation: https://pandas.pydata.org/pandas-docs/stable/user_guide/indexing.html#returning-a-view-versus-a-copy\n",
      "  self.obj[item] = s\n"
     ]
    }
   ],
   "source": [
    "df=pd.read_csv(r'C:\\Users\\feche\\Documents\\Curso Python\\datasets\\Apartamentos-latam\\Train.csv')\n",
    "df_test=pd.read_csv(r'C:\\Users\\feche\\Documents\\Curso Python\\datasets\\Apartamentos-latam\\Test.csv')\n",
    "\n",
    "df_colombia=df[df['pais']=='Colombia']\n",
    "df_argentina=df[df['pais']=='Argentina']\n",
    "\n",
    "df_test_colombia=df_test[df_test['pais']=='Colombia']\n",
    "df_test_argentina=df_test[df_test['pais']=='Argentina']\n",
    "\n",
    "#Correciones de precios mal puestos\n",
    "df_colombia.loc[16166,'price']=233966\n",
    "df_colombia.loc[16166,'price']=233966\n",
    "df_colombia.loc[9093,'price']=71566\n",
    "df_colombia.loc[12408,'price']=63297\n",
    "df_colombia.loc[12408,'surface_total']=100\n",
    "df_colombia.loc[25309,'price']=72942\n",
    "df_argentina.loc[24084,'price']=315000\n",
    "df_argentina.loc[20385,'price']=260000\n",
    "df_argentina.loc[14865,'price']=190000\n",
    "df_argentina.loc[16720,'price']=170000\n",
    "df_argentina.loc[21378,'price']=165000"
   ]
  },
  {
   "cell_type": "code",
   "execution_count": 129,
   "metadata": {},
   "outputs": [
    {
     "data": {
      "text/plain": [
       "array(['Cundinamarca', 'Antioquia', 'Atlántico', 'Valle del Cauca',\n",
       "       'Santander', 'Risaralda', 'Tolima', 'Quindío',\n",
       "       'Norte de Santander', 'Bolívar', 'Magdalena'], dtype=object)"
      ]
     },
     "execution_count": 129,
     "metadata": {},
     "output_type": "execute_result"
    }
   ],
   "source": [
    "df_test_colombia['provincia_departamento'].unique()"
   ]
  },
  {
   "cell_type": "code",
   "execution_count": 130,
   "metadata": {},
   "outputs": [],
   "source": [
    "df_colombia_filter_states=df_colombia[(df_colombia['provincia_departamento']=='Cundinamarca') | (df_colombia['provincia_departamento']=='Antioquia')| (df_colombia['provincia_departamento']=='Atlántico')| (df_colombia['provincia_departamento']=='Valle del Cauca')| (df_colombia['provincia_departamento']=='Santander')| (df_colombia['provincia_departamento']=='Risaralda')| (df_colombia['provincia_departamento']=='Tolima')| (df_colombia['provincia_departamento']=='Quindío')| (df_colombia['provincia_departamento']=='Norte de Santander')| (df_colombia['provincia_departamento']=='Bolívar')| (df_colombia['provincia_departamento']=='Magdalena')]\n"
   ]
  },
  {
   "cell_type": "code",
   "execution_count": 131,
   "metadata": {},
   "outputs": [
    {
     "data": {
      "text/plain": [
       "array(['Santa Fe', 'Capital Federal', 'Buenos Aires Costa Atlántica',\n",
       "       'Bs.As. G.B.A. Zona Norte', 'Bs.As. G.B.A. Zona Oeste',\n",
       "       'Bs.As. G.B.A. Zona Sur', 'Córdoba', 'Río Negro', 'Neuquén',\n",
       "       'Buenos Aires Interior', 'Salta', 'Mendoza', 'Misiones',\n",
       "       'Corrientes', 'San Juan', 'Entre Ríos', 'San Luis'], dtype=object)"
      ]
     },
     "execution_count": 131,
     "metadata": {},
     "output_type": "execute_result"
    }
   ],
   "source": [
    "df_test_argentina['provincia_departamento'].unique()"
   ]
  },
  {
   "cell_type": "code",
   "execution_count": 132,
   "metadata": {},
   "outputs": [],
   "source": [
    "df_argentina_filter_states=df_argentina[(df_argentina['provincia_departamento']=='Santa Fe') | (df_argentina['provincia_departamento']=='Capital Federal') | (df_argentina['provincia_departamento']=='Buenos Aires Costa Atlántica') | (df_argentina['provincia_departamento']=='Bs.As. G.B.A. Zona Norte') | (df_argentina['provincia_departamento']=='Bs.As. G.B.A. Zona Oeste') | (df_argentina['provincia_departamento']=='Bs.As. G.B.A. Zona Sur') | (df_argentina['provincia_departamento']=='Córdoba') | (df_argentina['provincia_departamento']=='Río Negro') | (df_argentina['provincia_departamento']=='Neuquén') | (df_argentina['provincia_departamento']=='Buenos Aires Interior') | (df_argentina['provincia_departamento']=='Salta') | (df_argentina['provincia_departamento']=='Mendoza') | (df_argentina['provincia_departamento']=='Misiones') | (df_argentina['provincia_departamento']=='Corrientes') | (df_argentina['provincia_departamento']=='San Juan') | (df_argentina['provincia_departamento']=='Entre Ríos') | (df_argentina['provincia_departamento']=='San Luis')]"
   ]
  },
  {
   "cell_type": "code",
   "execution_count": 133,
   "metadata": {},
   "outputs": [],
   "source": [
    "categories=[\"provincia_departamento\"]\n",
    "\n",
    "\n",
    "cat_dummies=pd.get_dummies(df_colombia_filter_states[\"provincia_departamento\"], prefix=\"departamento\")\n",
    "df_train_new=df_colombia_filter_states.join(cat_dummies)\n",
    "df_colombia_filter_states=df_train_new\n",
    "    \n",
    "cat_dummies=pd.get_dummies(df_argentina_filter_states[\"provincia_departamento\"], prefix=\"departamento\")\n",
    "df_train_new=df_argentina_filter_states.join(cat_dummies)\n",
    "df_argentina_filter_states=df_train_new\n",
    "\n",
    "\n",
    "cat_dummies=pd.get_dummies(df_test_colombia[\"provincia_departamento\"], prefix=\"departamento\")\n",
    "df_test_new=df_test_colombia.join(cat_dummies)\n",
    "df_test_colombia=df_test_new\n",
    "    \n",
    "cat_dummies=pd.get_dummies(df_test_argentina[\"provincia_departamento\"], prefix=\"departamento\")\n",
    "df_test_new=df_test_argentina.join(cat_dummies)\n",
    "df_test_argentina=df_test_new"
   ]
  },
  {
   "cell_type": "markdown",
   "metadata": {},
   "source": [
    "#### Colombia"
   ]
  },
  {
   "cell_type": "code",
   "execution_count": 134,
   "metadata": {},
   "outputs": [],
   "source": [
    "predictive_cols=['rooms', 'bedrooms', 'bathrooms',\n",
    "       'surface_total', 'departamento_Antioquia',\n",
    "       'departamento_Atlántico', 'departamento_Bolívar',\n",
    "       'departamento_Cundinamarca', 'departamento_Magdalena',\n",
    "       'departamento_Norte de Santander', 'departamento_Quindío',\n",
    "       'departamento_Risaralda', 'departamento_Santander',\n",
    "       'departamento_Tolima', 'departamento_Valle del Cauca']\n",
    "\n",
    "x=df_colombia_filter_states[predictive_cols]\n",
    "y=df_colombia_filter_states['price']\n",
    "\n",
    "x_train,x_test,y_train,y_test=train_test_split(x,y,test_size=0.2,random_state=42)"
   ]
  },
  {
   "cell_type": "code",
   "execution_count": 135,
   "metadata": {},
   "outputs": [],
   "source": [
    "xg_reg_col = xgb.XGBRegressor(objective ='reg:squarederror', colsample_bytree = 0.9, learning_rate = 0.2,\n",
    "                max_depth = 5, alpha = 2, n_estimators = 70,random_state=42)\n",
    "\n",
    "xg_reg_col.fit(x_train,y_train)\n",
    "\n",
    "preds = xg_reg_col.predict(x_test)"
   ]
  },
  {
   "cell_type": "code",
   "execution_count": 136,
   "metadata": {},
   "outputs": [],
   "source": [
    "df_pred_cols=pd.DataFrame(preds,columns=[\"Prediction\"])\n",
    "df_pred_cols['Prediction']=abs(df_pred_cols['Prediction'])"
   ]
  },
  {
   "cell_type": "code",
   "execution_count": 137,
   "metadata": {},
   "outputs": [
    {
     "name": "stdout",
     "output_type": "stream",
     "text": [
      "RMSE: 50755.725286\n",
      "RMSLE: 0.274283\n"
     ]
    }
   ],
   "source": [
    "rmse = np.sqrt(mean_squared_error(y_test, df_pred_cols))\n",
    "print(\"RMSE: %f\" % (rmse))\n",
    "\n",
    "rmsle=np.sqrt(mean_squared_log_error(y_test,df_pred_cols))\n",
    "print(\"RMSLE: %f\" % (rmsle))"
   ]
  },
  {
   "cell_type": "markdown",
   "metadata": {},
   "source": [
    "#### Now I do the predictions"
   ]
  },
  {
   "cell_type": "code",
   "execution_count": 138,
   "metadata": {},
   "outputs": [],
   "source": [
    "predictive_cols=['rooms', 'bedrooms', 'bathrooms',\n",
    "       'surface_total', 'departamento_Antioquia',\n",
    "       'departamento_Atlántico', 'departamento_Bolívar',\n",
    "       'departamento_Cundinamarca', 'departamento_Magdalena',\n",
    "       'departamento_Norte de Santander', 'departamento_Quindío',\n",
    "       'departamento_Risaralda', 'departamento_Santander',\n",
    "       'departamento_Tolima', 'departamento_Valle del Cauca']\n",
    "\n",
    "x_test=df_test_colombia[predictive_cols]"
   ]
  },
  {
   "cell_type": "code",
   "execution_count": 139,
   "metadata": {},
   "outputs": [],
   "source": [
    "predictions=xg_reg_col.predict(x_test)"
   ]
  },
  {
   "cell_type": "code",
   "execution_count": 140,
   "metadata": {},
   "outputs": [],
   "source": [
    "df_test_colombia['Predictions']=predictions"
   ]
  },
  {
   "cell_type": "code",
   "execution_count": 141,
   "metadata": {},
   "outputs": [],
   "source": [
    "df_predictions_colombia=df_test_colombia[['Id','Predictions']]\n",
    "df_predictions_colombia.to_csv(r'C:\\Users\\feche\\Documents\\Curso Python\\datasets\\Apartamentos-latam\\XGBoost_Colombia_only_provinces_from_test_predictions.csv',index=None)"
   ]
  },
  {
   "cell_type": "markdown",
   "metadata": {},
   "source": [
    "#### Argentina"
   ]
  },
  {
   "cell_type": "code",
   "execution_count": 142,
   "metadata": {},
   "outputs": [],
   "source": [
    "predictive_cols=['rooms', 'bedrooms', 'bathrooms',\n",
    "       'surface_total', 'departamento_Bs.As. G.B.A. Zona Norte',\n",
    "       'departamento_Bs.As. G.B.A. Zona Oeste',\n",
    "       'departamento_Bs.As. G.B.A. Zona Sur',\n",
    "       'departamento_Buenos Aires Costa Atlántica',\n",
    "       'departamento_Buenos Aires Interior',\n",
    "       'departamento_Capital Federal', 'departamento_Córdoba',\n",
    "       'departamento_Entre Ríos', 'departamento_Mendoza',\n",
    "       'departamento_Misiones', 'departamento_Neuquén',\n",
    "       'departamento_Río Negro', 'departamento_Salta',\n",
    "       'departamento_San Juan', 'departamento_San Luis',\n",
    "       'departamento_Santa Fe']\n",
    "\n",
    "x=df_argentina_filter_states[predictive_cols]\n",
    "y=df_argentina_filter_states['price']\n",
    "\n",
    "x_train,x_test,y_train,y_test=train_test_split(x,y,test_size=0.2,random_state=42)"
   ]
  },
  {
   "cell_type": "code",
   "execution_count": 143,
   "metadata": {},
   "outputs": [],
   "source": [
    "xg_reg_arg = xgb.XGBRegressor(objective ='reg:squarederror', colsample_bytree = 0.9, learning_rate = 0.2,\n",
    "                max_depth = 5, alpha = 2, n_estimators = 70,random_state=42)\n",
    "\n",
    "xg_reg_arg.fit(x_train,y_train)\n",
    "\n",
    "preds = xg_reg_arg.predict(x_test)"
   ]
  },
  {
   "cell_type": "code",
   "execution_count": 144,
   "metadata": {},
   "outputs": [],
   "source": [
    "df_pred_cols=pd.DataFrame(preds,columns=[\"Prediction\"])\n",
    "df_pred_cols['Prediction']=abs(df_pred_cols['Prediction'])"
   ]
  },
  {
   "cell_type": "code",
   "execution_count": 145,
   "metadata": {},
   "outputs": [
    {
     "name": "stdout",
     "output_type": "stream",
     "text": [
      "RMSE: 99352.106328\n",
      "RMSLE: 0.302578\n"
     ]
    }
   ],
   "source": [
    "rmse = np.sqrt(mean_squared_error(y_test, df_pred_cols))\n",
    "print(\"RMSE: %f\" % (rmse))\n",
    "\n",
    "rmsle=np.sqrt(mean_squared_log_error(y_test,df_pred_cols))\n",
    "print(\"RMSLE: %f\" % (rmsle))"
   ]
  },
  {
   "cell_type": "markdown",
   "metadata": {},
   "source": [
    "#### Now I do the predictions"
   ]
  },
  {
   "cell_type": "code",
   "execution_count": 146,
   "metadata": {},
   "outputs": [],
   "source": [
    "predictive_cols=['rooms', 'bedrooms', 'bathrooms',\n",
    "       'surface_total', 'departamento_Bs.As. G.B.A. Zona Norte',\n",
    "       'departamento_Bs.As. G.B.A. Zona Oeste',\n",
    "       'departamento_Bs.As. G.B.A. Zona Sur',\n",
    "       'departamento_Buenos Aires Costa Atlántica',\n",
    "       'departamento_Buenos Aires Interior',\n",
    "       'departamento_Capital Federal', 'departamento_Córdoba',\n",
    "       'departamento_Entre Ríos', 'departamento_Mendoza',\n",
    "       'departamento_Misiones', 'departamento_Neuquén',\n",
    "       'departamento_Río Negro', 'departamento_Salta',\n",
    "       'departamento_San Juan', 'departamento_San Luis',\n",
    "       'departamento_Santa Fe']\n",
    "\n",
    "x_test=df_test_argentina[predictive_cols]"
   ]
  },
  {
   "cell_type": "code",
   "execution_count": 147,
   "metadata": {},
   "outputs": [],
   "source": [
    "predictions=xg_reg_arg.predict(x_test)"
   ]
  },
  {
   "cell_type": "code",
   "execution_count": 148,
   "metadata": {},
   "outputs": [],
   "source": [
    "df_test_argentina['Predictions']=predictions"
   ]
  },
  {
   "cell_type": "code",
   "execution_count": 149,
   "metadata": {},
   "outputs": [],
   "source": [
    "df_predictions_argentina=df_test_argentina[['Id','Predictions']]\n",
    "df_predictions_argentina.to_csv(r'C:\\Users\\feche\\Documents\\Curso Python\\datasets\\Apartamentos-latam\\XGBoost_Argentina_ony_provinces_from_test_predictions.csv',index=None)"
   ]
  },
  {
   "cell_type": "markdown",
   "metadata": {},
   "source": [
    "#### Combining both files I get the final results submission file"
   ]
  },
  {
   "cell_type": "markdown",
   "metadata": {},
   "source": [
    "### Model 5 - Linea regression with Box-Cox to price"
   ]
  },
  {
   "cell_type": "code",
   "execution_count": 52,
   "metadata": {},
   "outputs": [
    {
     "name": "stderr",
     "output_type": "stream",
     "text": [
      "C:\\Users\\feche\\anaconda3\\lib\\site-packages\\pandas\\core\\indexing.py:966: SettingWithCopyWarning: \n",
      "A value is trying to be set on a copy of a slice from a DataFrame.\n",
      "Try using .loc[row_indexer,col_indexer] = value instead\n",
      "\n",
      "See the caveats in the documentation: https://pandas.pydata.org/pandas-docs/stable/user_guide/indexing.html#returning-a-view-versus-a-copy\n",
      "  self.obj[item] = s\n"
     ]
    }
   ],
   "source": [
    "#read and separate the df\n",
    "df=pd.read_csv(r'C:\\Users\\feche\\Documents\\Curso Python\\datasets\\Apartamentos-latam\\Train.csv')\n",
    "df_test=pd.read_csv(r'C:\\Users\\feche\\Documents\\Curso Python\\datasets\\Apartamentos-latam\\Test.csv')\n",
    "\n",
    "df_colombia=df[df['pais']=='Colombia']\n",
    "df_argentina=df[df['pais']=='Argentina']\n",
    "\n",
    "df_test_colombia=df_test[df_test['pais']=='Colombia']\n",
    "df_test_argentina=df_test[df_test['pais']=='Argentina']\n",
    "\n",
    "#Correciones de precios mal puestos\n",
    "df_colombia.loc[16166,'price']=233966\n",
    "df_colombia.loc[16166,'price']=233966\n",
    "df_colombia.loc[9093,'price']=71566\n",
    "df_colombia.loc[12408,'price']=63297\n",
    "df_colombia.loc[12408,'surface_total']=100\n",
    "df_colombia.loc[25309,'price']=72942\n",
    "df_argentina.loc[24084,'price']=315000\n",
    "df_argentina.loc[20385,'price']=260000\n",
    "df_argentina.loc[14865,'price']=190000\n",
    "df_argentina.loc[16720,'price']=170000\n",
    "df_argentina.loc[21378,'price']=165000"
   ]
  },
  {
   "cell_type": "code",
   "execution_count": 53,
   "metadata": {},
   "outputs": [],
   "source": [
    "#Dummies\n",
    "cat_dummies=pd.get_dummies(df_colombia[\"provincia_departamento\"], prefix=\"departamento\")\n",
    "df_train_new=df_colombia.join(cat_dummies)\n",
    "df_colombia=df_train_new\n",
    "    \n",
    "cat_dummies=pd.get_dummies(df_argentina[\"provincia_departamento\"], prefix=\"departamento\")\n",
    "df_train_new=df_argentina.join(cat_dummies)\n",
    "df_argentina=df_train_new\n",
    "\n",
    "cat_dummies=pd.get_dummies(df_test_colombia[\"provincia_departamento\"], prefix=\"departamento\")\n",
    "df_test_new=df_test_colombia.join(cat_dummies)\n",
    "df_test_colombia=df_test_new\n",
    "    \n",
    "cat_dummies=pd.get_dummies(df_test_argentina[\"provincia_departamento\"], prefix=\"departamento\")\n",
    "df_test_new=df_test_argentina.join(cat_dummies)\n",
    "df_test_argentina=df_test_new"
   ]
  },
  {
   "cell_type": "code",
   "execution_count": 54,
   "metadata": {},
   "outputs": [
    {
     "data": {
      "text/plain": [
       "((array([-3.77798541, -3.55100306, -3.42630245, ...,  3.42630245,\n",
       "          3.55100306,  3.77798541]),\n",
       "  array([   7707.,   13763.,   15139., ..., 1238646., 1252959., 1475365.])),\n",
       " (102717.27568264747, 130420.42917427004, 0.8236747311320102))"
      ]
     },
     "execution_count": 54,
     "metadata": {},
     "output_type": "execute_result"
    },
    {
     "data": {
      "image/png": "[encoded data removed]",
      "text/plain": [
       "<Figure size 432x288 with 1 Axes>"
      ]
     },
     "metadata": {},
     "output_type": "display_data"
    }
   ],
   "source": [
    "#Check if the price follows a normal distribution\n",
    "stats.probplot(df_colombia['price'], dist=\"norm\",plot=plt)"
   ]
  },
  {
   "cell_type": "code",
   "execution_count": 55,
   "metadata": {},
   "outputs": [
    {
     "data": {
      "text/plain": [
       "((array([-3.93828402, -3.72002581, -3.6005055 , ...,  3.6005055 ,\n",
       "          3.72002581,  3.93828402]),\n",
       "  array([   6009.,   10800.,   10900., ..., 3450000., 3450000., 3450000.])),\n",
       " (174111.9947446267, 183160.74905280615, 0.6783052107113653))"
      ]
     },
     "execution_count": 55,
     "metadata": {},
     "output_type": "execute_result"
    },
    {
     "data": {
      "image/png": "[encoded data removed]",
      "text/plain": [
       "<Figure size 432x288 with 1 Axes>"
      ]
     },
     "metadata": {},
     "output_type": "display_data"
    }
   ],
   "source": [
    "#Check if the price follows a normal distribution\n",
    "stats.probplot(df_argentina['price'], dist=\"norm\",plot=plt)"
   ]
  },
  {
   "cell_type": "code",
   "execution_count": 56,
   "metadata": {},
   "outputs": [
    {
     "name": "stdout",
     "output_type": "stream",
     "text": [
      "Lambda after Box-cox for Colombia is: -0.24\n",
      "Lambda after Box-cox for Argentina is: -0.41\n"
     ]
    }
   ],
   "source": [
    "price,fitted_lambda_col = stats.boxcox(df_colombia['price'])\n",
    "box_col=round(fitted_lambda_col,2)\n",
    "print(\"Lambda after Box-cox for Colombia is:\",box_col)\n",
    "\n",
    "price,fitted_lambda_arg = stats.boxcox(df_argentina['price'])\n",
    "box_arg=round(fitted_lambda_arg,2)\n",
    "print(\"Lambda after Box-cox for Argentina is:\",box_arg)"
   ]
  },
  {
   "cell_type": "code",
   "execution_count": 57,
   "metadata": {},
   "outputs": [],
   "source": [
    "df_colombia['box_price']=boxcox(df_colombia['price'],fitted_lambda_col)\n",
    "df_argentina['box_price']=boxcox(df_argentina['price'],fitted_lambda_arg)"
   ]
  },
  {
   "cell_type": "code",
   "execution_count": 58,
   "metadata": {},
   "outputs": [
    {
     "data": {
      "text/plain": [
       "((array([-3.77798541, -3.55100306, -3.42630245, ...,  3.42630245,\n",
       "          3.55100306,  3.77798541]),\n",
       "  array([3.63150666, 3.69212147, 3.70128601, ..., 3.95763684, 3.95800837,\n",
       "         3.96318076])),\n",
       " (0.04225406379344342, 3.840069218062945, 0.998976482051504))"
      ]
     },
     "execution_count": 58,
     "metadata": {},
     "output_type": "execute_result"
    },
    {
     "data": {
      "image/png": "[encoded data removed]",
      "text/plain": [
       "<Figure size 432x288 with 1 Axes>"
      ]
     },
     "metadata": {},
     "output_type": "display_data"
    }
   ],
   "source": [
    "#Check if the price follows a normal distribution\n",
    "stats.probplot(df_colombia['box_price'], dist=\"norm\",plot=plt)"
   ]
  },
  {
   "cell_type": "code",
   "execution_count": 59,
   "metadata": {},
   "outputs": [
    {
     "data": {
      "text/plain": [
       "((array([-3.93828402, -3.72002581, -3.6005055 , ...,  3.6005055 ,\n",
       "          3.72002581,  3.93828402]),\n",
       "  array([2.34743942, 2.36157742, 2.36177339, ..., 2.40827104, 2.40827104,\n",
       "         2.40827104])),\n",
       " (0.005189111873788965, 2.393666518763282, 0.9944283644567454))"
      ]
     },
     "execution_count": 59,
     "metadata": {},
     "output_type": "execute_result"
    },
    {
     "data": {
      "image/png": "[encoded data removed]",
      "text/plain": [
       "<Figure size 432x288 with 1 Axes>"
      ]
     },
     "metadata": {},
     "output_type": "display_data"
    }
   ],
   "source": [
    "#Check if the price follows a normal distribution\n",
    "stats.probplot(df_argentina['box_price'], dist=\"norm\",plot=plt)"
   ]
  },
  {
   "cell_type": "markdown",
   "metadata": {},
   "source": [
    "#### Colombia"
   ]
  },
  {
   "cell_type": "code",
   "execution_count": 60,
   "metadata": {},
   "outputs": [
    {
     "data": {
      "text/plain": [
       "0.7636673051358988"
      ]
     },
     "execution_count": 60,
     "metadata": {},
     "output_type": "execute_result"
    }
   ],
   "source": [
    "predictive_cols=['rooms', 'bedrooms', 'bathrooms',\n",
    "       'surface_total', 'departamento_Antioquia',\n",
    "       'departamento_Atlántico', 'departamento_Bolívar',\n",
    "       'departamento_Boyacá', 'departamento_Cauca',\n",
    "       'departamento_Cundinamarca', 'departamento_Córdoba',\n",
    "       'departamento_Huila', 'departamento_Magdalena',\n",
    "       'departamento_Meta', 'departamento_Norte de Santander',\n",
    "       'departamento_Quindío', 'departamento_Risaralda',\n",
    "       'departamento_Santander', 'departamento_Tolima',\n",
    "       'departamento_Valle del Cauca']\n",
    "\n",
    "x=df_colombia[predictive_cols]\n",
    "y=df_colombia['box_price']\n",
    "\n",
    "x_train,x_test,y_train,y_test=train_test_split(x,y,test_size=0.2,random_state=42)\n",
    "\n",
    "linear_model_col=LinearRegression()\n",
    "linear_model_col.fit(x_train,y_train)\n",
    "\n",
    "linear_model_col.score(x_test,y_test)"
   ]
  },
  {
   "cell_type": "code",
   "execution_count": 61,
   "metadata": {},
   "outputs": [
    {
     "name": "stdout",
     "output_type": "stream",
     "text": [
      "RMSE: 0.020752\n",
      "RMSLE: 0.004293\n"
     ]
    }
   ],
   "source": [
    "preds=linear_model_col.predict(x_test)\n",
    "#preds=abs(preds)\n",
    "rmse = np.sqrt(mean_squared_error(y_test, preds))\n",
    "print(\"RMSE: %f\" % (rmse))\n",
    "\n",
    "rmsle=np.sqrt(mean_squared_log_error(y_test,preds))\n",
    "print(\"RMSLE: %f\" % (rmsle))"
   ]
  },
  {
   "cell_type": "code",
   "execution_count": 62,
   "metadata": {},
   "outputs": [
    {
     "name": "stdout",
     "output_type": "stream",
     "text": [
      "RMSLE: 0.354936\n"
     ]
    }
   ],
   "source": [
    "y_test_inv=inv_boxcox(y_test,fitted_lambda_col)\n",
    "preds_inv=inv_boxcox(preds,fitted_lambda_col)\n",
    "\n",
    "rmsle=np.sqrt(mean_squared_log_error(y_test_inv,preds_inv))\n",
    "print(\"RMSLE: %f\" % (rmsle))"
   ]
  },
  {
   "cell_type": "markdown",
   "metadata": {},
   "source": [
    "#### Argentina"
   ]
  },
  {
   "cell_type": "code",
   "execution_count": 45,
   "metadata": {},
   "outputs": [
    {
     "data": {
      "text/plain": [
       "0.6690967266230761"
      ]
     },
     "execution_count": 45,
     "metadata": {},
     "output_type": "execute_result"
    }
   ],
   "source": [
    "predictive_cols=['rooms', 'bedrooms', 'bathrooms',\n",
    "       'surface_total','departamento_Bs.As. G.B.A. Zona Norte',\n",
    "       'departamento_Bs.As. G.B.A. Zona Oeste',\n",
    "       'departamento_Bs.As. G.B.A. Zona Sur',\n",
    "       'departamento_Buenos Aires Costa Atlántica',\n",
    "       'departamento_Buenos Aires Interior',\n",
    "       'departamento_Capital Federal', 'departamento_Córdoba',\n",
    "       'departamento_Entre Ríos', 'departamento_Mendoza',\n",
    "       'departamento_Misiones', 'departamento_Neuquén',\n",
    "       'departamento_Río Negro', 'departamento_Salta',\n",
    "       'departamento_San Juan', 'departamento_San Luis',\n",
    "       'departamento_Santa Fe']\n",
    "\n",
    "x=df_argentina[predictive_cols]\n",
    "y=df_argentina['box_price']\n",
    "\n",
    "x_train,x_test,y_train,y_test=train_test_split(x,y,test_size=0.2,random_state=42)\n",
    "\n",
    "linear_model_arg=LinearRegression()\n",
    "linear_model_arg.fit(x_train,y_train)\n",
    "\n",
    "linear_model_arg.score(x_test,y_test)"
   ]
  },
  {
   "cell_type": "code",
   "execution_count": 46,
   "metadata": {},
   "outputs": [
    {
     "name": "stdout",
     "output_type": "stream",
     "text": [
      "RMSE: 0.002972\n",
      "RMSLE: 0.000876\n"
     ]
    }
   ],
   "source": [
    "preds=linear_model_arg.predict(x_test)\n",
    "preds=abs(preds)\n",
    "rmse = np.sqrt(mean_squared_error(y_test, preds))\n",
    "print(\"RMSE: %f\" % (rmse))\n",
    "\n",
    "rmsle=np.sqrt(mean_squared_log_error(y_test,preds))\n",
    "print(\"RMSLE: %f\" % (rmsle))"
   ]
  },
  {
   "cell_type": "code",
   "execution_count": 49,
   "metadata": {},
   "outputs": [],
   "source": [
    "y_test_inv=inv_boxcox(y_test,fitted_lambda_arg)\n",
    "preds_inv=inv_boxcox(preds,fitted_lambda_arg)\n"
   ]
  },
  {
   "cell_type": "code",
   "execution_count": 64,
   "metadata": {},
   "outputs": [
    {
     "data": {
      "text/plain": [
       "[41287.999999999935,\n",
       " 220203.99999999927,\n",
       " 49546.0000000001,\n",
       " 170658.00000000055,\n",
       " 82575.99999999972,\n",
       " 50921.99999999979,\n",
       " 123864.99999999949,\n",
       " 214698.99999999968,\n",
       " 189925.99999999965,\n",
       " 31653.99999999998,\n",
       " 265620.9999999989,\n",
       " 743187.0000000012,\n",
       " 41287.999999999935,\n",
       " 41287.999999999935,\n",
       " 99092.0000000004,\n",
       " 45417.0000000002,\n",
       " 74318.99999999997,\n",
       " 57803.00000000021,\n",
       " 99092.0000000004,\n",
       " 118358.99999999987,\n",
       " 165152.99999999962,\n",
       " 44040.99999999991,\n",
       " 406000.9999999978,\n",
       " 88080.9999999999,\n",
       " 104596.99999999977,\n",
       " 81007.0000000003,\n",
       " 412881.99999999924,\n",
       " 71566.00000000013,\n",
       " 66061.00000000017,\n",
       " 156894.9999999997,\n",
       " 167904.99999999994,\n",
       " 330306.00000000047,\n",
       " 79824.00000000007,\n",
       " 85329.00000000012,\n",
       " 27525.000000000076,\n",
       " 37435.0,\n",
       " 178914.99999999892,\n",
       " 179190.99999999927,\n",
       " 66061.00000000017,\n",
       " 88080.9999999999,\n",
       " 110101.99999999983,\n",
       " 38536.00000000017,\n",
       " 178914.99999999892,\n",
       " 49546.0000000001,\n",
       " 82575.99999999972,\n",
       " 55051.00000000001,\n",
       " 58353.99999999974,\n",
       " 123864.99999999949,\n",
       " 63309.00000000008,\n",
       " 151389.99999999956,\n",
       " 41287.999999999935,\n",
       " 206440.99999999924,\n",
       " 122487.99999999967,\n",
       " 192678.0000000002,\n",
       " 50921.99999999979,\n",
       " 151389.99999999956,\n",
       " 154143.0000000004,\n",
       " 39361.00000000003,\n",
       " 206440.99999999924,\n",
       " 71566.00000000013,\n",
       " 88080.9999999999,\n",
       " 35783.0,\n",
       " 289017.00000000064,\n",
       " 93559.00000000009,\n",
       " 53675.000000000015,\n",
       " 52297.99999999986,\n",
       " 161024.00000000047,\n",
       " 385355.99999999977,\n",
       " 158270.99999999985,\n",
       " 269750.0000000008,\n",
       " 39912.0000000001,\n",
       " 107073.9999999999,\n",
       " 73768.00000000026,\n",
       " 42663.999999999985,\n",
       " 115606.99999999968,\n",
       " 132121.99999999988,\n",
       " 132121.99999999988,\n",
       " 173409.99999999974,\n",
       " 55051.00000000001,\n",
       " 143132.0000000003,\n",
       " 168442.99999999953,\n",
       " 158270.99999999985,\n",
       " 88080.9999999999,\n",
       " 96338.99999999991,\n",
       " 59180.00000000002,\n",
       " 115606.99999999968,\n",
       " 264243.99999999936,\n",
       " 63309.00000000008,\n",
       " 45417.0000000002,\n",
       " 99092.0000000004,\n",
       " 115606.99999999968,\n",
       " 82301.00000000006,\n",
       " 57803.00000000021,\n",
       " 67437.00000000012,\n",
       " 244977.00000000067,\n",
       " 80925.00000000012,\n",
       " 37572.00000000006,\n",
       " 110101.99999999983,\n",
       " 96338.99999999991,\n",
       " 79824.00000000007,\n",
       " 44040.99999999991,\n",
       " 24773.00000000005,\n",
       " 93587.00000000001,\n",
       " 25048.00000000006,\n",
       " 46792.99999999994,\n",
       " 25599.000000000047,\n",
       " 159648.00000000044,\n",
       " 151389.99999999956,\n",
       " 77071.00000000006,\n",
       " 143132.0000000003,\n",
       " 385355.99999999977,\n",
       " 74318.99999999997,\n",
       " 110101.99999999983,\n",
       " 116753.00000000017,\n",
       " 355903.99999999796,\n",
       " 49546.0000000001,\n",
       " 90833.99999999975,\n",
       " 20644.000000000036,\n",
       " 162400.00000000023,\n",
       " 143132.0000000003,\n",
       " 72942.00000000006,\n",
       " 101843.99999999994,\n",
       " 85329.00000000012,\n",
       " 35783.0,\n",
       " 63309.00000000008,\n",
       " 77071.00000000006,\n",
       " 148912.9999999996,\n",
       " 115606.99999999968,\n",
       " 244977.00000000067,\n",
       " 104596.99999999977,\n",
       " 308999.0,\n",
       " 154143.0000000004,\n",
       " 115606.99999999968,\n",
       " 158270.99999999985,\n",
       " 173409.99999999974,\n",
       " 71566.00000000013,\n",
       " 103495.99999999978,\n",
       " 62748.00000000027,\n",
       " 78723.00000000013,\n",
       " 259289.9999999991,\n",
       " 17891.99999999997,\n",
       " 39912.0000000001,\n",
       " 1238646.0000000081,\n",
       " 39912.0000000001,\n",
       " 118358.99999999987,\n",
       " 239471.99999999965,\n",
       " 108726.00000000045,\n",
       " 316543.0000000001,\n",
       " 223782.00000000035,\n",
       " 129370.0000000003,\n",
       " 137626.99999999988,\n",
       " 81199.99999999983,\n",
       " 104596.99999999977,\n",
       " 68813.99999999985,\n",
       " 86705.00000000016,\n",
       " 377098.99999999884,\n",
       " 68813.99999999985,\n",
       " 68813.99999999985,\n",
       " 92210.00000000007,\n",
       " 74318.99999999997,\n",
       " 115606.99999999968,\n",
       " 178914.99999999892,\n",
       " 61931.99999999986,\n",
       " 48170.00000000017,\n",
       " 81199.99999999983,\n",
       " 225708.99999999907,\n",
       " 46792.99999999994,\n",
       " 423891.9999999984,\n",
       " 60556.00000000009,\n",
       " 233965.99999999965,\n",
       " 55051.00000000001,\n",
       " 467933.0000000003,\n",
       " 72942.00000000006,\n",
       " 48857.99999999992,\n",
       " 123864.99999999949,\n",
       " 206440.99999999924,\n",
       " 701898.9999999974,\n",
       " 49409.999999999905,\n",
       " 66061.00000000017,\n",
       " 67437.00000000012,\n",
       " 123864.99999999949,\n",
       " 34406.999999999985,\n",
       " 166529.00000000052,\n",
       " 184421.0,\n",
       " 32755.000000000033,\n",
       " 38536.00000000017,\n",
       " 66061.00000000017,\n",
       " 167904.99999999994,\n",
       " 74318.99999999997,\n",
       " 61821.99999999992,\n",
       " 104596.99999999977,\n",
       " 104596.99999999977,\n",
       " 198458.99999999948,\n",
       " 96338.99999999991,\n",
       " 82575.99999999972,\n",
       " 63309.00000000008,\n",
       " 137626.99999999988,\n",
       " 39023.999999999905,\n",
       " 39319.000000000015,\n",
       " 151389.99999999956,\n",
       " 63309.00000000008,\n",
       " 66061.00000000017,\n",
       " 121111.99999999975,\n",
       " 467933.0000000003,\n",
       " 191301.99999999927,\n",
       " 90833.99999999975,\n",
       " 66061.00000000017,\n",
       " 77071.00000000006,\n",
       " 90833.99999999975,\n",
       " 271952.000000001,\n",
       " 184421.0,\n",
       " 35783.0,\n",
       " 37159.0,\n",
       " 66061.00000000017,\n",
       " 48170.00000000017,\n",
       " 74318.99999999997,\n",
       " 132672.99999999988,\n",
       " 316543.0000000001,\n",
       " 32480.00000000007,\n",
       " 101017.99999999994,\n",
       " 39760.999999999905,\n",
       " 193068.99999999953,\n",
       " 37159.0,\n",
       " 148636.99999999985,\n",
       " 564271.9999999971,\n",
       " 81199.99999999983,\n",
       " 660610.9999999988,\n",
       " 34406.999999999985,\n",
       " 55023.99999999998,\n",
       " 70700.00000000012,\n",
       " 123864.99999999949,\n",
       " 145884.99999999974,\n",
       " 130746.00000000045,\n",
       " 90833.99999999975,\n",
       " 61931.99999999986,\n",
       " 46792.99999999994,\n",
       " 123864.99999999949,\n",
       " 56426.99999999989,\n",
       " 1117534.000000005,\n",
       " 82575.99999999972,\n",
       " 118358.99999999987,\n",
       " 46243.00000000005,\n",
       " 35232.99999999995,\n",
       " 108726.00000000045,\n",
       " 37159.0,\n",
       " 31653.99999999998,\n",
       " 178914.99999999892,\n",
       " 206440.99999999924,\n",
       " 82026.00000000026,\n",
       " 37710.00000000009,\n",
       " 41287.999999999935,\n",
       " 85329.00000000012,\n",
       " 178914.99999999892,\n",
       " 45417.0000000002,\n",
       " 82575.99999999972,\n",
       " 132121.99999999988,\n",
       " 701898.9999999974,\n",
       " 100468.00000000045,\n",
       " 247728.99999999965,\n",
       " 33031.00000000001,\n",
       " 233965.99999999965,\n",
       " 49546.0000000001,\n",
       " 148636.99999999985,\n",
       " 34021.00000000001,\n",
       " 82575.99999999972,\n",
       " 55051.00000000001,\n",
       " 48170.00000000017,\n",
       " 66061.00000000017,\n",
       " 41287.999999999935,\n",
       " 156894.9999999997,\n",
       " 133497.99999999956,\n",
       " 59730.00000000011,\n",
       " 151389.99999999956,\n",
       " 145884.99999999974,\n",
       " 127992.99999999983,\n",
       " 93587.00000000001,\n",
       " 61931.99999999986,\n",
       " 54224.99999999994,\n",
       " 37159.0,\n",
       " 63309.00000000008,\n",
       " 74318.99999999997,\n",
       " 44040.99999999991,\n",
       " 115606.99999999968,\n",
       " 81199.99999999983,\n",
       " 49546.0000000001,\n",
       " 374345.99999999895,\n",
       " 111478.0,\n",
       " 88549.00000000023,\n",
       " 53950.00000000011,\n",
       " 93587.00000000001,\n",
       " 74318.99999999997,\n",
       " 45417.0000000002,\n",
       " 37159.0,\n",
       " 127992.99999999983,\n",
       " 30277.999999999935,\n",
       " 170658.00000000055,\n",
       " 465179.9999999986,\n",
       " 170658.00000000055,\n",
       " 44040.99999999991,\n",
       " 178914.99999999892,\n",
       " 44040.99999999991,\n",
       " 206440.99999999924,\n",
       " 194604.99999999904,\n",
       " 38536.00000000017,\n",
       " 61106.00000000001,\n",
       " 90833.99999999975,\n",
       " 101843.99999999994,\n",
       " 60556.00000000009,\n",
       " 65511.000000000284,\n",
       " 42663.999999999985,\n",
       " 357831.000000001,\n",
       " 115606.99999999968,\n",
       " 58353.99999999974,\n",
       " 28901.999999999898,\n",
       " 83127.00000000022,\n",
       " 880815.0000000027,\n",
       " 448664.99999999884,\n",
       " 481696.00000000326,\n",
       " 374345.99999999895,\n",
       " 64685.00000000003,\n",
       " 115606.99999999968,\n",
       " 74318.99999999997,\n",
       " 192678.0000000002,\n",
       " 261492.0,\n",
       " 123864.99999999949,\n",
       " 50921.99999999979,\n",
       " 165152.99999999962,\n",
       " 79824.00000000007,\n",
       " 264243.99999999936,\n",
       " 35783.0,\n",
       " 60556.00000000009,\n",
       " 41287.999999999935,\n",
       " 87805.99999999964,\n",
       " 46792.99999999994,\n",
       " 42663.999999999985,\n",
       " 385355.99999999977,\n",
       " 107349.00000000013,\n",
       " 88080.9999999999,\n",
       " 45968.0000000001,\n",
       " 66061.00000000017,\n",
       " 60556.00000000009,\n",
       " 93035.99999999964,\n",
       " 123864.99999999949,\n",
       " 35783.0,\n",
       " 71566.00000000013,\n",
       " 143132.0000000003,\n",
       " 109000.99999999962,\n",
       " 935866.000000004,\n",
       " 38536.00000000017,\n",
       " 77071.00000000006,\n",
       " 118358.99999999987,\n",
       " 66061.00000000017,\n",
       " 38536.00000000017,\n",
       " 61931.99999999986,\n",
       " 379851.0000000002,\n",
       " 90833.99999999975,\n",
       " 151389.99999999956,\n",
       " 81199.99999999983,\n",
       " 266997.00000000023,\n",
       " 94963.00000000016,\n",
       " 440407.00000000134,\n",
       " 169281.99999999953,\n",
       " 49546.0000000001,\n",
       " 187311.00000000026,\n",
       " 48719.99999999981,\n",
       " 239471.99999999965,\n",
       " 41287.999999999935,\n",
       " 825763.9999999986,\n",
       " 199559.99999999965,\n",
       " 33031.00000000001,\n",
       " 52297.99999999986,\n",
       " 178914.99999999892,\n",
       " 89458.0,\n",
       " 45417.0000000002,\n",
       " 99092.0000000004,\n",
       " 324799.99999999936,\n",
       " 75750.00000000028,\n",
       " 90283.99999999985,\n",
       " 54500.000000000065,\n",
       " 104596.99999999977,\n",
       " 228240.99999999977,\n",
       " 121111.99999999975,\n",
       " 99092.0000000004,\n",
       " 88080.9999999999,\n",
       " 118358.99999999987,\n",
       " 48170.00000000017,\n",
       " 311037.9999999996,\n",
       " 19268.000000000047,\n",
       " 70189.99999999988,\n",
       " 214698.99999999968,\n",
       " 90833.99999999975,\n",
       " 255435.99999999948,\n",
       " 159648.00000000044,\n",
       " 922102.9999999969,\n",
       " 96338.99999999991,\n",
       " 48170.00000000017,\n",
       " 52297.99999999986,\n",
       " 41287.999999999935,\n",
       " 563831.9999999971,\n",
       " 61931.99999999986,\n",
       " 30415.999999999916,\n",
       " 174786.99999999962,\n",
       " 44040.99999999991,\n",
       " 34681.99999999997,\n",
       " 129370.0000000003,\n",
       " 71566.00000000013,\n",
       " 101843.99999999994,\n",
       " 76796.00000000022,\n",
       " 467933.0000000003,\n",
       " 44040.99999999991,\n",
       " 148636.99999999985,\n",
       " 178914.99999999892,\n",
       " 142865.00000000003,\n",
       " 93587.00000000001,\n",
       " 211946.0000000007,\n",
       " 143132.0000000003,\n",
       " 55051.00000000001,\n",
       " 41558.99999999997,\n",
       " 96338.99999999991,\n",
       " 39912.0000000001,\n",
       " 86705.00000000016,\n",
       " 118358.99999999987,\n",
       " 79824.00000000007,\n",
       " 48170.00000000017,\n",
       " 24773.00000000005,\n",
       " 228461.00000000017,\n",
       " 545003.9999999983,\n",
       " 126067.00000000035,\n",
       " 55051.00000000001,\n",
       " 88080.9999999999,\n",
       " 156894.9999999997,\n",
       " 239471.99999999965,\n",
       " 61047.9999999999,\n",
       " 118358.99999999987,\n",
       " 46517.99999999989,\n",
       " 93587.00000000001,\n",
       " 45417.0000000002,\n",
       " 143132.0000000003,\n",
       " 88080.9999999999,\n",
       " 99092.0000000004,\n",
       " 77071.00000000006,\n",
       " 66859.00000000003,\n",
       " 70189.99999999988,\n",
       " 39912.0000000001,\n",
       " 44040.99999999991,\n",
       " 82164.00000000015,\n",
       " 167904.99999999994,\n",
       " 189925.99999999965,\n",
       " 45417.0000000002,\n",
       " 37406.99999999995,\n",
       " 44040.99999999991,\n",
       " 206440.99999999924,\n",
       " 46792.99999999994,\n",
       " 147261.0000000006,\n",
       " 143132.0000000003,\n",
       " 82575.99999999972,\n",
       " 99092.0000000004,\n",
       " 119736.00000000003,\n",
       " 57528.000000000044,\n",
       " 101843.99999999994,\n",
       " 104596.99999999977,\n",
       " 52297.99999999986,\n",
       " 145884.99999999974,\n",
       " 63309.00000000008,\n",
       " 228461.00000000017,\n",
       " 178914.99999999892,\n",
       " 151389.99999999956,\n",
       " 49546.0000000001,\n",
       " 59180.00000000002,\n",
       " 549133.0000000012,\n",
       " 259400.99999999997,\n",
       " 70189.99999999988,\n",
       " 117178.00000000003,\n",
       " 38536.00000000017,\n",
       " 49546.0000000001,\n",
       " 147812.00000000035,\n",
       " 231543.99999999919,\n",
       " 206440.99999999924,\n",
       " 126617.00000000012,\n",
       " 62372.99999999997,\n",
       " 70189.99999999988,\n",
       " 206440.99999999924,\n",
       " 63309.00000000008,\n",
       " 178914.99999999892,\n",
       " 357831.000000001,\n",
       " 82575.99999999972,\n",
       " 54776.000000000044,\n",
       " 27525.000000000076,\n",
       " 178914.99999999892,\n",
       " 74318.99999999997,\n",
       " 101843.99999999994,\n",
       " 102483.99999999996,\n",
       " 60556.00000000009,\n",
       " 33031.00000000001,\n",
       " 186072.0000000006,\n",
       " 46792.99999999994,\n",
       " 68813.99999999985,\n",
       " 66061.00000000017,\n",
       " 103219.99999999993,\n",
       " 60288.99999999997,\n",
       " 129370.0000000003,\n",
       " 399119.00000000076,\n",
       " 45094.99999999994,\n",
       " 79824.00000000007,\n",
       " 330306.00000000047,\n",
       " 49546.0000000001,\n",
       " 79824.00000000007,\n",
       " 45350.99999999993,\n",
       " 90833.99999999975,\n",
       " 75694.99999999977,\n",
       " 62757.99999999994,\n",
       " 79824.00000000007,\n",
       " 29727.000000000127,\n",
       " 62757.99999999994,\n",
       " 35755.99999999992,\n",
       " 71566.00000000013,\n",
       " 108726.00000000045,\n",
       " 178914.99999999892,\n",
       " 31653.99999999998,\n",
       " 56426.99999999989,\n",
       " 522983.9999999972,\n",
       " 51251.99999999989,\n",
       " 34406.999999999985,\n",
       " 63583.999999999935,\n",
       " 68758.99999999983,\n",
       " 198182.9999999997,\n",
       " 225708.99999999907,\n",
       " 104596.99999999977,\n",
       " 261492.0,\n",
       " 269750.0000000008,\n",
       " 53261.99999999999,\n",
       " 495457.9999999985,\n",
       " 34406.999999999985,\n",
       " 167904.99999999994,\n",
       " 68800.00000000001,\n",
       " 68813.99999999985,\n",
       " 87531.00000000001,\n",
       " 46792.99999999994,\n",
       " 630333.0000000024,\n",
       " 40737.999999999905,\n",
       " 63309.00000000008,\n",
       " 44040.99999999991,\n",
       " 67437.00000000012,\n",
       " 68813.99999999985,\n",
       " 145884.99999999974,\n",
       " 134874.9999999999,\n",
       " 71566.00000000013,\n",
       " 302779.99999999965,\n",
       " 77071.00000000006,\n",
       " 86705.00000000016,\n",
       " 54500.000000000065,\n",
       " 84778.00000000029,\n",
       " 96338.99999999991,\n",
       " 53675.000000000015,\n",
       " 110101.99999999983,\n",
       " 105973.00000000016,\n",
       " 39361.00000000003,\n",
       " 41287.999999999935,\n",
       " 107349.00000000013,\n",
       " 145884.99999999974,\n",
       " 44040.99999999991,\n",
       " 38536.00000000017,\n",
       " 702312.0000000014,\n",
       " 35783.0,\n",
       " 68813.99999999985,\n",
       " 89458.0,\n",
       " 88080.9999999999,\n",
       " 77071.00000000006,\n",
       " 41287.999999999935,\n",
       " 89458.0,\n",
       " 467933.0000000003,\n",
       " 104596.99999999977,\n",
       " 398568.99999999866,\n",
       " 68813.99999999985,\n",
       " 316543.0000000001,\n",
       " 45691.99999999988,\n",
       " 77071.00000000006,\n",
       " 82575.99999999972,\n",
       " 68813.99999999985,\n",
       " 71250.00000000025,\n",
       " 163776.00000000017,\n",
       " 181668.0000000005,\n",
       " 104596.99999999977,\n",
       " 445911.9999999985,\n",
       " 125240.99999999997,\n",
       " 66061.00000000017,\n",
       " 88080.9999999999,\n",
       " 77071.00000000006,\n",
       " 143132.0000000003,\n",
       " 66061.00000000017,\n",
       " 134874.9999999999,\n",
       " 132121.99999999988,\n",
       " 72942.00000000006,\n",
       " 74318.99999999997,\n",
       " 104596.99999999977,\n",
       " 151389.99999999956,\n",
       " 89458.0,\n",
       " 44040.99999999991,\n",
       " 206440.99999999924,\n",
       " 123864.99999999949,\n",
       " 44040.99999999991,\n",
       " 90833.99999999975,\n",
       " 80547.99999999997,\n",
       " 77071.00000000006,\n",
       " 214698.99999999968,\n",
       " 39912.0000000001,\n",
       " 57803.00000000021,\n",
       " 170658.00000000055,\n",
       " 90833.99999999975,\n",
       " 103219.99999999993,\n",
       " 38536.00000000017,\n",
       " 74318.99999999997,\n",
       " 150014.0000000001,\n",
       " 123864.99999999949,\n",
       " 214698.99999999968,\n",
       " 44040.99999999991,\n",
       " 103219.99999999993,\n",
       " 178914.99999999892,\n",
       " 247728.99999999965,\n",
       " 46792.99999999994,\n",
       " 88080.9999999999,\n",
       " 96338.99999999991,\n",
       " 35507.999999999956,\n",
       " 18441.999999999996,\n",
       " 188548.99999999942,\n",
       " 107349.00000000013,\n",
       " 103219.99999999993,\n",
       " 188177.99999999948,\n",
       " 46792.99999999994,\n",
       " 151389.99999999956,\n",
       " 49546.0000000001,\n",
       " 46792.99999999994,\n",
       " 90833.99999999975,\n",
       " 139611.00000000047,\n",
       " 316543.0000000001,\n",
       " 60556.00000000009,\n",
       " 75694.99999999977,\n",
       " 73493.00000000013,\n",
       " 35783.0,\n",
       " 60556.00000000009,\n",
       " 50921.99999999979,\n",
       " 85329.00000000012,\n",
       " 20644.000000000036,\n",
       " 96338.99999999991,\n",
       " 79824.00000000007,\n",
       " 77896.99999999974,\n",
       " 71291.00000000017,\n",
       " 300027.99999999965,\n",
       " 44040.99999999991,\n",
       " 63309.00000000008,\n",
       " 24773.00000000005,\n",
       " 118358.99999999987,\n",
       " 29727.000000000127,\n",
       " 63309.00000000008,\n",
       " 134734.00000000023,\n",
       " 52297.99999999986,\n",
       " 184421.0,\n",
       " 70189.99999999988,\n",
       " 61657.00000000009,\n",
       " 100468.00000000045,\n",
       " 140379.99999999977,\n",
       " 35783.0,\n",
       " 99092.0000000004,\n",
       " 41287.999999999935,\n",
       " 41013.000000000124,\n",
       " 28901.999999999898,\n",
       " 272502.00000000105,\n",
       " 162400.00000000023,\n",
       " 220203.99999999927,\n",
       " 74318.99999999997,\n",
       " 73217.99999999983,\n",
       " 35783.0,\n",
       " 173409.99999999974,\n",
       " 19268.000000000047,\n",
       " 173409.99999999974,\n",
       " 187172.9999999998,\n",
       " 68813.99999999985,\n",
       " 200936.0000000002,\n",
       " 139553.99999999985,\n",
       " 34406.999999999985,\n",
       " 107349.00000000013,\n",
       " 239471.99999999965,\n",
       " 119736.00000000003,\n",
       " 66061.00000000017,\n",
       " 137626.99999999988,\n",
       " 66061.00000000017,\n",
       " 60556.00000000009,\n",
       " 99092.0000000004,\n",
       " 154143.0000000004,\n",
       " 71566.00000000013,\n",
       " 60556.00000000009,\n",
       " 103219.99999999993,\n",
       " 52297.99999999986,\n",
       " 59180.00000000002,\n",
       " 109827.00000000006,\n",
       " 79824.00000000007,\n",
       " 82575.99999999972,\n",
       " 178914.99999999892,\n",
       " 564271.9999999971,\n",
       " 139003.99999999953,\n",
       " 143132.0000000003,\n",
       " 89458.0,\n",
       " 132121.99999999988,\n",
       " 52297.99999999986,\n",
       " 82575.99999999972,\n",
       " 43215.0000000001,\n",
       " 123864.99999999949,\n",
       " 439031.00000000006,\n",
       " 38536.00000000017,\n",
       " 19268.000000000047,\n",
       " 330306.00000000047,\n",
       " 82575.99999999972,\n",
       " 143132.0000000003,\n",
       " 72942.00000000006,\n",
       " 412881.99999999924,\n",
       " 79824.00000000007,\n",
       " 26148.999999999975,\n",
       " 302779.99999999965,\n",
       " 57803.00000000021,\n",
       " 533993.9999999995,\n",
       " 81199.99999999983,\n",
       " 77071.00000000006,\n",
       " 96338.99999999991,\n",
       " 206440.99999999924,\n",
       " 269750.0000000008,\n",
       " 233965.99999999965,\n",
       " 82575.99999999972,\n",
       " 65234.99999999973,\n",
       " 104596.99999999977,\n",
       " 175340.99999999994,\n",
       " 216075.00000000032,\n",
       " 330306.00000000047,\n",
       " 101843.99999999994,\n",
       " 22020.00000000004,\n",
       " 107349.00000000013,\n",
       " 71566.00000000013,\n",
       " 385355.99999999977,\n",
       " 53675.000000000015,\n",
       " 127992.99999999983,\n",
       " 130470.99999999956,\n",
       " 81613.00000000026,\n",
       " 88080.9999999999,\n",
       " 198182.9999999997,\n",
       " 50921.99999999979,\n",
       " 41287.999999999935,\n",
       " 137351.99999999962,\n",
       " 38536.00000000017,\n",
       " 143132.0000000003,\n",
       " 242223.99999999997,\n",
       " 90833.99999999975,\n",
       " 123864.99999999949,\n",
       " 145884.99999999974,\n",
       " 31653.99999999998,\n",
       " 59454.999999999796,\n",
       " 393613.99999999825,\n",
       " 44040.99999999991,\n",
       " 32205.000000000015,\n",
       " 72942.00000000006,\n",
       " 96338.99999999991,\n",
       " 93587.00000000001,\n",
       " 206440.99999999924,\n",
       " 42663.999999999985,\n",
       " 93587.00000000001,\n",
       " 44040.99999999991,\n",
       " 132121.99999999988,\n",
       " 68813.99999999985,\n",
       " 187172.9999999998,\n",
       " 467933.0000000003,\n",
       " 96338.99999999991,\n",
       " 118358.99999999987,\n",
       " 108174.99999999994,\n",
       " 45417.0000000002,\n",
       " 132672.99999999988,\n",
       " 101843.99999999994,\n",
       " 410128.9999999983,\n",
       " 151389.99999999956,\n",
       " 63309.00000000008,\n",
       " 358364.000000002,\n",
       " 78447.99999999985,\n",
       " 69915.00000000004,\n",
       " 52297.99999999986,\n",
       " 44040.99999999991,\n",
       " 426645.00000000105,\n",
       " 46792.99999999994,\n",
       " 178914.99999999892,\n",
       " 104596.99999999977,\n",
       " 90833.99999999975,\n",
       " 64782.00000000018,\n",
       " 33031.00000000001,\n",
       " 49271.00000000005,\n",
       " 35232.99999999995,\n",
       " 151389.99999999956,\n",
       " 170658.00000000055,\n",
       " 311037.9999999996,\n",
       " 77071.00000000006,\n",
       " 71566.00000000013,\n",
       " 46792.99999999994,\n",
       " 269750.0000000008,\n",
       " 56695.99999999998,\n",
       " 52297.99999999986,\n",
       " 50921.99999999979,\n",
       " 52022.99999999974,\n",
       " 77071.00000000006,\n",
       " 93587.00000000001,\n",
       " 159648.00000000044,\n",
       " 85329.00000000012,\n",
       " 61931.99999999986,\n",
       " 82575.99999999972,\n",
       " 134874.9999999999,\n",
       " 64685.00000000003,\n",
       " 41287.999999999935,\n",
       " 47618.999999999905,\n",
       " 129370.0000000003,\n",
       " 99092.0000000004,\n",
       " 217450.9999999995,\n",
       " 198182.9999999997,\n",
       " 33031.00000000001,\n",
       " 90833.99999999975,\n",
       " 63858.99999999997,\n",
       " 42388.99999999991,\n",
       " 63309.00000000008,\n",
       " 71566.00000000013,\n",
       " 68813.99999999985,\n",
       " 217450.9999999995,\n",
       " 30277.999999999935,\n",
       " 95788.99999999958,\n",
       " 68813.99999999985,\n",
       " 115606.99999999968,\n",
       " 45417.0000000002,\n",
       " 42663.999999999985,\n",
       " 121111.99999999975,\n",
       " 57803.00000000021,\n",
       " 316543.0000000001,\n",
       " 70740.00000000019,\n",
       " 137626.99999999988,\n",
       " 302779.99999999965,\n",
       " 110101.99999999983,\n",
       " 112853.9999999998,\n",
       " 72942.00000000006,\n",
       " 35783.0,\n",
       " 64685.00000000003,\n",
       " 53675.000000000015,\n",
       " 52297.99999999986,\n",
       " 53675.000000000015,\n",
       " 130746.00000000045,\n",
       " 71566.00000000013,\n",
       " 178914.99999999892,\n",
       " 74318.99999999997,\n",
       " 67437.00000000012,\n",
       " 64685.00000000003,\n",
       " 60556.00000000009,\n",
       " 231213.9999999998,\n",
       " 93035.99999999964,\n",
       " 79824.00000000007,\n",
       " 68813.99999999985,\n",
       " 426645.00000000105,\n",
       " 123864.99999999949,\n",
       " 767959.9999999962,\n",
       " 66061.00000000017,\n",
       " 173409.99999999974,\n",
       " 206440.99999999924,\n",
       " 88080.9999999999,\n",
       " 101843.99999999994,\n",
       " 123864.99999999949,\n",
       " 94963.00000000016,\n",
       " 28901.999999999898,\n",
       " 39912.0000000001,\n",
       " 165289.99999999962,\n",
       " 95204.0,\n",
       " 51747.999999999796,\n",
       " 121111.99999999975,\n",
       " 344067.9999999992,\n",
       " 57803.00000000021,\n",
       " 255986.99999999886,\n",
       " 44040.99999999991,\n",
       " 247728.99999999965,\n",
       " 107349.00000000013,\n",
       " 247728.99999999965,\n",
       " 20644.000000000036,\n",
       " 75694.99999999977,\n",
       " 26974.999999999956,\n",
       " 477703.99999999726,\n",
       " 191301.99999999927,\n",
       " 93587.00000000001,\n",
       " 81199.99999999983,\n",
       " 30277.999999999935,\n",
       " 275255.0000000003,\n",
       " 173409.99999999974,\n",
       " 233965.99999999965,\n",
       " 77071.00000000006,\n",
       " 52574.0000000002,\n",
       " 357831.000000001,\n",
       " 145884.99999999974,\n",
       " 602808.0000000013,\n",
       " 137626.99999999988,\n",
       " 88080.9999999999,\n",
       " 206440.99999999924,\n",
       " 85878.99999999974,\n",
       " 68813.99999999985,\n",
       " 330306.00000000047,\n",
       " 64685.00000000003,\n",
       " 39023.999999999905,\n",
       " 330306.00000000047,\n",
       " 123864.99999999949,\n",
       " 159648.00000000044,\n",
       " 39912.0000000001,\n",
       " 35783.0,\n",
       " 60556.00000000009,\n",
       " 151389.99999999956,\n",
       " 86705.00000000016,\n",
       " 159064.0000000005,\n",
       " 71566.00000000013,\n",
       " 34681.99999999997,\n",
       " 79824.00000000007,\n",
       " 44040.99999999991,\n",
       " 68813.99999999985,\n",
       " 170658.00000000055,\n",
       " 173409.99999999974,\n",
       " 27525.000000000076,\n",
       " 176163.000000001,\n",
       " 269750.0000000008,\n",
       " 121111.99999999975,\n",
       " 349711.0000000013,\n",
       " 46243.00000000005,\n",
       " 77071.00000000006,\n",
       " 37984.999999999956,\n",
       " 143132.0000000003,\n",
       " 33031.00000000001,\n",
       " 132121.99999999988,\n",
       " 74318.99999999997,\n",
       " 162400.00000000023,\n",
       " 72942.00000000006,\n",
       " 31653.99999999998,\n",
       " 129093.99999999953,\n",
       " 44040.99999999991,\n",
       " 24221.999999999935,\n",
       " 59180.00000000002,\n",
       " 48170.00000000017,\n",
       " 99092.0000000004,\n",
       " 27525.000000000076,\n",
       " 28901.999999999898,\n",
       " 1101018.0000000037,\n",
       " 115606.99999999968,\n",
       " 53675.000000000015,\n",
       " 228461.00000000017,\n",
       " 85329.00000000012,\n",
       " 48170.00000000017,\n",
       " 165152.99999999962,\n",
       " 48170.00000000017,\n",
       " 67437.00000000012,\n",
       " 189925.99999999965,\n",
       " 123864.99999999949,\n",
       " 96338.99999999991,\n",
       " 93587.00000000001,\n",
       " 123864.99999999949,\n",
       " 145884.99999999974,\n",
       " 178914.99999999892,\n",
       " 52297.99999999986,\n",
       " 109551.00000000001,\n",
       " 233965.99999999965,\n",
       " 188548.99999999942,\n",
       " 140379.99999999977,\n",
       " 55051.00000000001,\n",
       " 115606.99999999968,\n",
       " 68813.99999999985,\n",
       " 71566.00000000013,\n",
       " 63309.00000000008,\n",
       " 42663.999999999985,\n",
       " 64685.00000000003,\n",
       " 71250.00000000025,\n",
       " 550508.9999999988,\n",
       " 66061.00000000017,\n",
       " 140379.99999999977,\n",
       " 35783.0,\n",
       " 30277.999999999935,\n",
       " 61931.99999999986,\n",
       " 24773.00000000005,\n",
       " 67712.99999999996,\n",
       " 107073.9999999999,\n",
       " 82575.99999999972,\n",
       " 46792.99999999994,\n",
       " 37159.0,\n",
       " 114231.00000000028,\n",
       " 88089.99999999999,\n",
       " 118358.99999999987,\n",
       " 231213.9999999998,\n",
       " 117808.99999999959,\n",
       " 22020.00000000004,\n",
       " 39085.99999999991,\n",
       " 38536.00000000017,\n",
       " 167904.99999999994,\n",
       " 68813.99999999985,\n",
       " 95788.99999999958,\n",
       " 101843.99999999994,\n",
       " 192678.0000000002,\n",
       " 60556.00000000009,\n",
       " 71566.00000000013,\n",
       " 192678.0000000002,\n",
       " 112853.9999999998,\n",
       " 275255.0000000003,\n",
       " ...]"
      ]
     },
     "execution_count": 64,
     "metadata": {},
     "output_type": "execute_result"
    }
   ],
   "source": [
    "list(y_test_inv)"
   ]
  },
  {
   "cell_type": "code",
   "execution_count": 67,
   "metadata": {},
   "outputs": [
    {
     "data": {
      "text/plain": [
       "13380     41288.0\n",
       "6881     220204.0\n",
       "7763      49546.0\n",
       "20780    170658.0\n",
       "2955      82576.0\n",
       "           ...   \n",
       "15136     60556.0\n",
       "10941    156895.0\n",
       "7420      85329.0\n",
       "19607    110102.0\n",
       "20133     99092.0\n",
       "Name: box_price, Length: 1754, dtype: float64"
      ]
     },
     "execution_count": 67,
     "metadata": {},
     "output_type": "execute_result"
    }
   ],
   "source": [
    "y_test_inv"
   ]
  },
  {
   "cell_type": "markdown",
   "metadata": {},
   "source": [
    "#### This is not enough yet"
   ]
  },
  {
   "cell_type": "markdown",
   "metadata": {},
   "source": [
    "### Model 6 - XGBoost with boxcox"
   ]
  },
  {
   "cell_type": "code",
   "execution_count": 164,
   "metadata": {},
   "outputs": [
    {
     "name": "stderr",
     "output_type": "stream",
     "text": [
      "C:\\Users\\feche\\anaconda3\\lib\\site-packages\\pandas\\core\\indexing.py:966: SettingWithCopyWarning: \n",
      "A value is trying to be set on a copy of a slice from a DataFrame.\n",
      "Try using .loc[row_indexer,col_indexer] = value instead\n",
      "\n",
      "See the caveats in the documentation: https://pandas.pydata.org/pandas-docs/stable/user_guide/indexing.html#returning-a-view-versus-a-copy\n",
      "  self.obj[item] = s\n"
     ]
    }
   ],
   "source": [
    "#read and separate the df\n",
    "df=pd.read_csv(r'C:\\Users\\feche\\Documents\\Curso Python\\datasets\\Apartamentos-latam\\Train.csv')\n",
    "df_test=pd.read_csv(r'C:\\Users\\feche\\Documents\\Curso Python\\datasets\\Apartamentos-latam\\Test.csv')\n",
    "\n",
    "df_colombia=df[df['pais']=='Colombia']\n",
    "df_argentina=df[df['pais']=='Argentina']\n",
    "\n",
    "df_test_colombia=df_test[df_test['pais']=='Colombia']\n",
    "df_test_argentina=df_test[df_test['pais']=='Argentina']\n",
    "\n",
    "#Correciones de precios mal puestos\n",
    "df_colombia.loc[16166,'price']=233966\n",
    "df_colombia.loc[16166,'price']=233966\n",
    "df_colombia.loc[9093,'price']=71566\n",
    "df_colombia.loc[12408,'price']=63297\n",
    "df_colombia.loc[12408,'surface_total']=100\n",
    "df_colombia.loc[25309,'price']=72942\n",
    "df_argentina.loc[24084,'price']=315000\n",
    "df_argentina.loc[20385,'price']=260000\n",
    "df_argentina.loc[14865,'price']=190000\n",
    "df_argentina.loc[16720,'price']=170000\n",
    "df_argentina.loc[21378,'price']=165000"
   ]
  },
  {
   "cell_type": "code",
   "execution_count": 165,
   "metadata": {},
   "outputs": [],
   "source": [
    "#Dummies\n",
    "cat_dummies=pd.get_dummies(df_colombia[\"provincia_departamento\"], prefix=\"departamento\")\n",
    "df_train_new=df_colombia.join(cat_dummies)\n",
    "df_colombia=df_train_new\n",
    "    \n",
    "cat_dummies=pd.get_dummies(df_argentina[\"provincia_departamento\"], prefix=\"departamento\")\n",
    "df_train_new=df_argentina.join(cat_dummies)\n",
    "df_argentina=df_train_new\n",
    "\n",
    "cat_dummies=pd.get_dummies(df_test_colombia[\"provincia_departamento\"], prefix=\"departamento\")\n",
    "df_test_new=df_test_colombia.join(cat_dummies)\n",
    "df_test_colombia=df_test_new\n",
    "    \n",
    "cat_dummies=pd.get_dummies(df_test_argentina[\"provincia_departamento\"], prefix=\"departamento\")\n",
    "df_test_new=df_test_argentina.join(cat_dummies)\n",
    "df_test_argentina=df_test_new"
   ]
  },
  {
   "cell_type": "code",
   "execution_count": 166,
   "metadata": {},
   "outputs": [
    {
     "name": "stdout",
     "output_type": "stream",
     "text": [
      "Lambda after Box-cox for Colombia is: -0.24\n",
      "Lambda after Box-cox for Argentina is: -0.41\n"
     ]
    }
   ],
   "source": [
    "price,fitted_lambda_col = stats.boxcox(df_colombia['price'])\n",
    "box_col=round(fitted_lambda_col,2)\n",
    "print(\"Lambda after Box-cox for Colombia is:\",box_col)\n",
    "\n",
    "price,fitted_lambda_arg = stats.boxcox(df_argentina['price'])\n",
    "box_arg=round(fitted_lambda_arg,2)\n",
    "print(\"Lambda after Box-cox for Argentina is:\",box_arg)\n",
    "\n",
    "df_colombia['box_price']=boxcox(df_colombia['price'],fitted_lambda_col)\n",
    "df_argentina['box_price']=boxcox(df_argentina['price'],fitted_lambda_arg)"
   ]
  },
  {
   "cell_type": "markdown",
   "metadata": {},
   "source": [
    "#### Colombia"
   ]
  },
  {
   "cell_type": "code",
   "execution_count": 167,
   "metadata": {},
   "outputs": [],
   "source": [
    "predictive_cols=['rooms', 'bedrooms', 'bathrooms',\n",
    "       'surface_total','departamento_Antioquia',\n",
    "       'departamento_Atlántico', 'departamento_Bolívar',\n",
    "       'departamento_Boyacá', 'departamento_Cauca',\n",
    "       'departamento_Cundinamarca', 'departamento_Córdoba',\n",
    "       'departamento_Huila', 'departamento_Magdalena',\n",
    "       'departamento_Meta', 'departamento_Norte de Santander',\n",
    "       'departamento_Quindío', 'departamento_Risaralda',\n",
    "       'departamento_Santander', 'departamento_Tolima',\n",
    "       'departamento_Valle del Cauca']\n",
    "\n",
    "x=df_colombia[predictive_cols]\n",
    "y=df_colombia['box_price']\n",
    "\n",
    "x_train,x_test,y_train,y_test=train_test_split(x,y,test_size=0.2,random_state=42)"
   ]
  },
  {
   "cell_type": "code",
   "execution_count": 168,
   "metadata": {},
   "outputs": [],
   "source": [
    "xg_reg_col = xgb.XGBRegressor(objective ='reg:squarederror', colsample_bytree = 0.9, learning_rate = 0.2,\n",
    "                max_depth = 5, alpha = 2, n_estimators = 70,random_state=42)\n",
    "\n",
    "xg_reg_col.fit(x_train,y_train)\n",
    "\n",
    "preds = xg_reg_col.predict(x_test)"
   ]
  },
  {
   "cell_type": "code",
   "execution_count": 169,
   "metadata": {},
   "outputs": [],
   "source": [
    "df_pred_cols=pd.DataFrame(preds,columns=[\"Prediction\"])\n",
    "df_pred_cols['Prediction']=abs(df_pred_cols['Prediction'])"
   ]
  },
  {
   "cell_type": "code",
   "execution_count": 170,
   "metadata": {},
   "outputs": [
    {
     "name": "stdout",
     "output_type": "stream",
     "text": [
      "RMSE: 0.016799\n",
      "RMSLE: 0.003476\n"
     ]
    }
   ],
   "source": [
    "rmse = np.sqrt(mean_squared_error(y_test, df_pred_cols))\n",
    "print(\"RMSE: %f\" % (rmse))\n",
    "\n",
    "rmsle=np.sqrt(mean_squared_log_error(y_test,df_pred_cols))\n",
    "print(\"RMSLE: %f\" % (rmsle))"
   ]
  },
  {
   "cell_type": "code",
   "execution_count": 171,
   "metadata": {},
   "outputs": [
    {
     "name": "stdout",
     "output_type": "stream",
     "text": [
      "RMSLE: 0.282603\n"
     ]
    }
   ],
   "source": [
    "y_test_inv=inv_boxcox(y_test,fitted_lambda_col)\n",
    "preds_inv=inv_boxcox(preds,fitted_lambda_col)\n",
    "\n",
    "rmsle=np.sqrt(mean_squared_log_error(y_test_inv,preds_inv))\n",
    "print(\"RMSLE: %f\" % (rmsle))"
   ]
  },
  {
   "cell_type": "markdown",
   "metadata": {},
   "source": [
    "#### Applying a Boxcox transformation doesn't seem to improve the xgboost"
   ]
  },
  {
   "cell_type": "markdown",
   "metadata": {},
   "source": [
    "### Model 7 - Random Forest Regressor"
   ]
  },
  {
   "cell_type": "code",
   "execution_count": 172,
   "metadata": {},
   "outputs": [],
   "source": [
    "from sklearn.ensemble import RandomForestRegressor\n",
    "from sklearn.model_selection import cross_val_score"
   ]
  },
  {
   "cell_type": "code",
   "execution_count": 173,
   "metadata": {},
   "outputs": [
    {
     "name": "stderr",
     "output_type": "stream",
     "text": [
      "C:\\Users\\feche\\anaconda3\\lib\\site-packages\\pandas\\core\\indexing.py:966: SettingWithCopyWarning: \n",
      "A value is trying to be set on a copy of a slice from a DataFrame.\n",
      "Try using .loc[row_indexer,col_indexer] = value instead\n",
      "\n",
      "See the caveats in the documentation: https://pandas.pydata.org/pandas-docs/stable/user_guide/indexing.html#returning-a-view-versus-a-copy\n",
      "  self.obj[item] = s\n"
     ]
    }
   ],
   "source": [
    "#read and separate the df\n",
    "df=pd.read_csv(r'C:\\Users\\feche\\Documents\\Curso Python\\datasets\\Apartamentos-latam\\Train.csv')\n",
    "df_test=pd.read_csv(r'C:\\Users\\feche\\Documents\\Curso Python\\datasets\\Apartamentos-latam\\Test.csv')\n",
    "\n",
    "df_colombia=df[df['pais']=='Colombia']\n",
    "df_argentina=df[df['pais']=='Argentina']\n",
    "\n",
    "df_test_colombia=df_test[df_test['pais']=='Colombia']\n",
    "df_test_argentina=df_test[df_test['pais']=='Argentina']\n",
    "\n",
    "#Correciones de precios mal puestos\n",
    "df_colombia.loc[16166,'price']=233966\n",
    "df_colombia.loc[16166,'price']=233966\n",
    "df_colombia.loc[9093,'price']=71566\n",
    "df_colombia.loc[12408,'price']=63297\n",
    "df_colombia.loc[12408,'surface_total']=100\n",
    "df_colombia.loc[25309,'price']=72942\n",
    "df_argentina.loc[24084,'price']=315000\n",
    "df_argentina.loc[20385,'price']=260000\n",
    "df_argentina.loc[14865,'price']=190000\n",
    "df_argentina.loc[16720,'price']=170000\n",
    "df_argentina.loc[21378,'price']=165000\n",
    "\n",
    "#Dummies\n",
    "cat_dummies=pd.get_dummies(df_colombia[\"provincia_departamento\"], prefix=\"departamento\")\n",
    "df_train_new=df_colombia.join(cat_dummies)\n",
    "df_colombia=df_train_new\n",
    "    \n",
    "cat_dummies=pd.get_dummies(df_argentina[\"provincia_departamento\"], prefix=\"departamento\")\n",
    "df_train_new=df_argentina.join(cat_dummies)\n",
    "df_argentina=df_train_new\n",
    "\n",
    "cat_dummies=pd.get_dummies(df_test_colombia[\"provincia_departamento\"], prefix=\"departamento\")\n",
    "df_test_new=df_test_colombia.join(cat_dummies)\n",
    "df_test_colombia=df_test_new\n",
    "    \n",
    "cat_dummies=pd.get_dummies(df_test_argentina[\"provincia_departamento\"], prefix=\"departamento\")\n",
    "df_test_new=df_test_argentina.join(cat_dummies)\n",
    "df_test_argentina=df_test_new"
   ]
  },
  {
   "cell_type": "markdown",
   "metadata": {},
   "source": [
    "#### Colombia"
   ]
  },
  {
   "cell_type": "code",
   "execution_count": 174,
   "metadata": {},
   "outputs": [],
   "source": [
    "predictive_cols=['rooms', 'bedrooms', 'bathrooms',\n",
    "       'surface_total', 'departamento_Antioquia',\n",
    "       'departamento_Atlántico', 'departamento_Bolívar',\n",
    "       'departamento_Boyacá', 'departamento_Cauca',\n",
    "       'departamento_Cundinamarca', 'departamento_Córdoba',\n",
    "       'departamento_Huila', 'departamento_Magdalena',\n",
    "       'departamento_Meta', 'departamento_Norte de Santander',\n",
    "       'departamento_Quindío', 'departamento_Risaralda',\n",
    "       'departamento_Santander', 'departamento_Tolima',\n",
    "       'departamento_Valle del Cauca']\n",
    "\n",
    "x=df_colombia[predictive_cols]\n",
    "y=df_colombia['price']\n",
    "\n",
    "x_train,x_test,y_train,y_test=train_test_split(x,y,test_size=0.05,random_state=42)"
   ]
  },
  {
   "cell_type": "code",
   "execution_count": 175,
   "metadata": {},
   "outputs": [
    {
     "data": {
      "text/plain": [
       "RandomForestRegressor(bootstrap=True, ccp_alpha=0.0, criterion='mse',\n",
       "                      max_depth=None, max_features='auto', max_leaf_nodes=None,\n",
       "                      max_samples=None, min_impurity_decrease=0.0,\n",
       "                      min_impurity_split=None, min_samples_leaf=1,\n",
       "                      min_samples_split=2, min_weight_fraction_leaf=0.0,\n",
       "                      n_estimators=100, n_jobs=2, oob_score=True,\n",
       "                      random_state=11, verbose=0, warm_start=False)"
      ]
     },
     "execution_count": 175,
     "metadata": {},
     "output_type": "execute_result"
    }
   ],
   "source": [
    "forest=RandomForestRegressor(n_jobs=2, oob_score=True, n_estimators=100,random_state=11)\n",
    "forest.fit(x_train,y_train)"
   ]
  },
  {
   "cell_type": "code",
   "execution_count": 176,
   "metadata": {},
   "outputs": [
    {
     "data": {
      "text/plain": [
       "0.8023555447945094"
      ]
     },
     "execution_count": 176,
     "metadata": {},
     "output_type": "execute_result"
    }
   ],
   "source": [
    "forest.score(x_test,y_test)"
   ]
  },
  {
   "cell_type": "code",
   "execution_count": 177,
   "metadata": {},
   "outputs": [
    {
     "data": {
      "text/plain": [
       "0.7832716214112498"
      ]
     },
     "execution_count": 177,
     "metadata": {},
     "output_type": "execute_result"
    }
   ],
   "source": [
    "forest.oob_score_"
   ]
  },
  {
   "cell_type": "code",
   "execution_count": 178,
   "metadata": {},
   "outputs": [
    {
     "name": "stdout",
     "output_type": "stream",
     "text": [
      "Scores: [0.76509192 0.80288333 0.78417278 0.77800022 0.76413505]\n",
      "Mean: 0.7788566606495066\n",
      "Standard Deviation: 0.01423003526416175\n"
     ]
    }
   ],
   "source": [
    "rf = RandomForestRegressor(n_estimators=100,random_state=12)\n",
    "scores = cross_val_score(rf, x_train, y_train, cv=5)\n",
    "print(\"Scores:\", scores)\n",
    "print(\"Mean:\", scores.mean())\n",
    "print(\"Standard Deviation:\", scores.std())"
   ]
  },
  {
   "cell_type": "code",
   "execution_count": 179,
   "metadata": {},
   "outputs": [],
   "source": [
    "preds=forest.predict(x_test)\n",
    "df_pred_cols=pd.DataFrame(preds,columns=[\"Prediction\"])\n",
    "df_pred_cols['Prediction']=abs(df_pred_cols['Prediction'])"
   ]
  },
  {
   "cell_type": "code",
   "execution_count": 180,
   "metadata": {},
   "outputs": [
    {
     "name": "stdout",
     "output_type": "stream",
     "text": [
      "RMSE: 66776.533376\n",
      "RMSLE: 0.289306\n"
     ]
    }
   ],
   "source": [
    "rmse = np.sqrt(mean_squared_error(y_test, df_pred_cols))\n",
    "print(\"RMSE: %f\" % (rmse))\n",
    "\n",
    "rmsle=np.sqrt(mean_squared_log_error(y_test,df_pred_cols))\n",
    "print(\"RMSLE: %f\" % (rmsle))"
   ]
  },
  {
   "cell_type": "code",
   "execution_count": 181,
   "metadata": {},
   "outputs": [
    {
     "ename": "KeyboardInterrupt",
     "evalue": "",
     "output_type": "error",
     "traceback": [
      "\u001b[1;31m---------------------------------------------------------------------------\u001b[0m",
      "\u001b[1;31mKeyboardInterrupt\u001b[0m                         Traceback (most recent call last)",
      "\u001b[1;32m<ipython-input-181-c06bccd8cd93>\u001b[0m in \u001b[0;36m<module>\u001b[1;34m\u001b[0m\n\u001b[0;32m      4\u001b[0m \u001b[0mrf\u001b[0m \u001b[1;33m=\u001b[0m \u001b[0mRandomForestRegressor\u001b[0m\u001b[1;33m(\u001b[0m\u001b[0mn_estimators\u001b[0m\u001b[1;33m=\u001b[0m\u001b[1;36m100\u001b[0m\u001b[1;33m,\u001b[0m \u001b[0mmax_features\u001b[0m\u001b[1;33m=\u001b[0m\u001b[1;34m'auto'\u001b[0m\u001b[1;33m,\u001b[0m \u001b[0moob_score\u001b[0m\u001b[1;33m=\u001b[0m\u001b[1;32mTrue\u001b[0m\u001b[1;33m)\u001b[0m\u001b[1;33m\u001b[0m\u001b[1;33m\u001b[0m\u001b[0m\n\u001b[0;32m      5\u001b[0m \u001b[0mclf\u001b[0m \u001b[1;33m=\u001b[0m \u001b[0mGridSearchCV\u001b[0m\u001b[1;33m(\u001b[0m\u001b[0mestimator\u001b[0m\u001b[1;33m=\u001b[0m\u001b[0mrf\u001b[0m\u001b[1;33m,\u001b[0m \u001b[0mparam_grid\u001b[0m\u001b[1;33m=\u001b[0m\u001b[0mparam_grid\u001b[0m\u001b[1;33m)\u001b[0m\u001b[1;33m\u001b[0m\u001b[1;33m\u001b[0m\u001b[0m\n\u001b[1;32m----> 6\u001b[1;33m \u001b[0mclf\u001b[0m\u001b[1;33m.\u001b[0m\u001b[0mfit\u001b[0m\u001b[1;33m(\u001b[0m\u001b[0mx_train\u001b[0m\u001b[1;33m,\u001b[0m \u001b[0my_train\u001b[0m\u001b[1;33m)\u001b[0m\u001b[1;33m\u001b[0m\u001b[1;33m\u001b[0m\u001b[0m\n\u001b[0m\u001b[0;32m      7\u001b[0m \u001b[0mclf\u001b[0m\u001b[1;33m.\u001b[0m\u001b[0mbest_params_\u001b[0m\u001b[1;33m\u001b[0m\u001b[1;33m\u001b[0m\u001b[0m\n",
      "\u001b[1;32m~\\anaconda3\\lib\\site-packages\\sklearn\\model_selection\\_search.py\u001b[0m in \u001b[0;36mfit\u001b[1;34m(self, X, y, groups, **fit_params)\u001b[0m\n\u001b[0;32m    708\u001b[0m                 \u001b[1;32mreturn\u001b[0m \u001b[0mresults\u001b[0m\u001b[1;33m\u001b[0m\u001b[1;33m\u001b[0m\u001b[0m\n\u001b[0;32m    709\u001b[0m \u001b[1;33m\u001b[0m\u001b[0m\n\u001b[1;32m--> 710\u001b[1;33m             \u001b[0mself\u001b[0m\u001b[1;33m.\u001b[0m\u001b[0m_run_search\u001b[0m\u001b[1;33m(\u001b[0m\u001b[0mevaluate_candidates\u001b[0m\u001b[1;33m)\u001b[0m\u001b[1;33m\u001b[0m\u001b[1;33m\u001b[0m\u001b[0m\n\u001b[0m\u001b[0;32m    711\u001b[0m \u001b[1;33m\u001b[0m\u001b[0m\n\u001b[0;32m    712\u001b[0m         \u001b[1;31m# For multi-metric evaluation, store the best_index_, best_params_ and\u001b[0m\u001b[1;33m\u001b[0m\u001b[1;33m\u001b[0m\u001b[1;33m\u001b[0m\u001b[0m\n",
      "\u001b[1;32m~\\anaconda3\\lib\\site-packages\\sklearn\\model_selection\\_search.py\u001b[0m in \u001b[0;36m_run_search\u001b[1;34m(self, evaluate_candidates)\u001b[0m\n\u001b[0;32m   1149\u001b[0m     \u001b[1;32mdef\u001b[0m \u001b[0m_run_search\u001b[0m\u001b[1;33m(\u001b[0m\u001b[0mself\u001b[0m\u001b[1;33m,\u001b[0m \u001b[0mevaluate_candidates\u001b[0m\u001b[1;33m)\u001b[0m\u001b[1;33m:\u001b[0m\u001b[1;33m\u001b[0m\u001b[1;33m\u001b[0m\u001b[0m\n\u001b[0;32m   1150\u001b[0m         \u001b[1;34m\"\"\"Search all candidates in param_grid\"\"\"\u001b[0m\u001b[1;33m\u001b[0m\u001b[1;33m\u001b[0m\u001b[0m\n\u001b[1;32m-> 1151\u001b[1;33m         \u001b[0mevaluate_candidates\u001b[0m\u001b[1;33m(\u001b[0m\u001b[0mParameterGrid\u001b[0m\u001b[1;33m(\u001b[0m\u001b[0mself\u001b[0m\u001b[1;33m.\u001b[0m\u001b[0mparam_grid\u001b[0m\u001b[1;33m)\u001b[0m\u001b[1;33m)\u001b[0m\u001b[1;33m\u001b[0m\u001b[1;33m\u001b[0m\u001b[0m\n\u001b[0m\u001b[0;32m   1152\u001b[0m \u001b[1;33m\u001b[0m\u001b[0m\n\u001b[0;32m   1153\u001b[0m \u001b[1;33m\u001b[0m\u001b[0m\n",
      "\u001b[1;32m~\\anaconda3\\lib\\site-packages\\sklearn\\model_selection\\_search.py\u001b[0m in \u001b[0;36mevaluate_candidates\u001b[1;34m(candidate_params)\u001b[0m\n\u001b[0;32m    687\u001b[0m                                \u001b[1;32mfor\u001b[0m \u001b[0mparameters\u001b[0m\u001b[1;33m,\u001b[0m \u001b[1;33m(\u001b[0m\u001b[0mtrain\u001b[0m\u001b[1;33m,\u001b[0m \u001b[0mtest\u001b[0m\u001b[1;33m)\u001b[0m\u001b[1;33m\u001b[0m\u001b[1;33m\u001b[0m\u001b[0m\n\u001b[0;32m    688\u001b[0m                                in product(candidate_params,\n\u001b[1;32m--> 689\u001b[1;33m                                           cv.split(X, y, groups)))\n\u001b[0m\u001b[0;32m    690\u001b[0m \u001b[1;33m\u001b[0m\u001b[0m\n\u001b[0;32m    691\u001b[0m                 \u001b[1;32mif\u001b[0m \u001b[0mlen\u001b[0m\u001b[1;33m(\u001b[0m\u001b[0mout\u001b[0m\u001b[1;33m)\u001b[0m \u001b[1;33m<\u001b[0m \u001b[1;36m1\u001b[0m\u001b[1;33m:\u001b[0m\u001b[1;33m\u001b[0m\u001b[1;33m\u001b[0m\u001b[0m\n",
      "\u001b[1;32m~\\anaconda3\\lib\\site-packages\\joblib\\parallel.py\u001b[0m in \u001b[0;36m__call__\u001b[1;34m(self, iterable)\u001b[0m\n\u001b[0;32m   1005\u001b[0m                 \u001b[0mself\u001b[0m\u001b[1;33m.\u001b[0m\u001b[0m_iterating\u001b[0m \u001b[1;33m=\u001b[0m \u001b[0mself\u001b[0m\u001b[1;33m.\u001b[0m\u001b[0m_original_iterator\u001b[0m \u001b[1;32mis\u001b[0m \u001b[1;32mnot\u001b[0m \u001b[1;32mNone\u001b[0m\u001b[1;33m\u001b[0m\u001b[1;33m\u001b[0m\u001b[0m\n\u001b[0;32m   1006\u001b[0m \u001b[1;33m\u001b[0m\u001b[0m\n\u001b[1;32m-> 1007\u001b[1;33m             \u001b[1;32mwhile\u001b[0m \u001b[0mself\u001b[0m\u001b[1;33m.\u001b[0m\u001b[0mdispatch_one_batch\u001b[0m\u001b[1;33m(\u001b[0m\u001b[0miterator\u001b[0m\u001b[1;33m)\u001b[0m\u001b[1;33m:\u001b[0m\u001b[1;33m\u001b[0m\u001b[1;33m\u001b[0m\u001b[0m\n\u001b[0m\u001b[0;32m   1008\u001b[0m                 \u001b[1;32mpass\u001b[0m\u001b[1;33m\u001b[0m\u001b[1;33m\u001b[0m\u001b[0m\n\u001b[0;32m   1009\u001b[0m \u001b[1;33m\u001b[0m\u001b[0m\n",
      "\u001b[1;32m~\\anaconda3\\lib\\site-packages\\joblib\\parallel.py\u001b[0m in \u001b[0;36mdispatch_one_batch\u001b[1;34m(self, iterator)\u001b[0m\n\u001b[0;32m    833\u001b[0m                 \u001b[1;32mreturn\u001b[0m \u001b[1;32mFalse\u001b[0m\u001b[1;33m\u001b[0m\u001b[1;33m\u001b[0m\u001b[0m\n\u001b[0;32m    834\u001b[0m             \u001b[1;32melse\u001b[0m\u001b[1;33m:\u001b[0m\u001b[1;33m\u001b[0m\u001b[1;33m\u001b[0m\u001b[0m\n\u001b[1;32m--> 835\u001b[1;33m                 \u001b[0mself\u001b[0m\u001b[1;33m.\u001b[0m\u001b[0m_dispatch\u001b[0m\u001b[1;33m(\u001b[0m\u001b[0mtasks\u001b[0m\u001b[1;33m)\u001b[0m\u001b[1;33m\u001b[0m\u001b[1;33m\u001b[0m\u001b[0m\n\u001b[0m\u001b[0;32m    836\u001b[0m                 \u001b[1;32mreturn\u001b[0m \u001b[1;32mTrue\u001b[0m\u001b[1;33m\u001b[0m\u001b[1;33m\u001b[0m\u001b[0m\n\u001b[0;32m    837\u001b[0m \u001b[1;33m\u001b[0m\u001b[0m\n",
      "\u001b[1;32m~\\anaconda3\\lib\\site-packages\\joblib\\parallel.py\u001b[0m in \u001b[0;36m_dispatch\u001b[1;34m(self, batch)\u001b[0m\n\u001b[0;32m    752\u001b[0m         \u001b[1;32mwith\u001b[0m \u001b[0mself\u001b[0m\u001b[1;33m.\u001b[0m\u001b[0m_lock\u001b[0m\u001b[1;33m:\u001b[0m\u001b[1;33m\u001b[0m\u001b[1;33m\u001b[0m\u001b[0m\n\u001b[0;32m    753\u001b[0m             \u001b[0mjob_idx\u001b[0m \u001b[1;33m=\u001b[0m \u001b[0mlen\u001b[0m\u001b[1;33m(\u001b[0m\u001b[0mself\u001b[0m\u001b[1;33m.\u001b[0m\u001b[0m_jobs\u001b[0m\u001b[1;33m)\u001b[0m\u001b[1;33m\u001b[0m\u001b[1;33m\u001b[0m\u001b[0m\n\u001b[1;32m--> 754\u001b[1;33m             \u001b[0mjob\u001b[0m \u001b[1;33m=\u001b[0m \u001b[0mself\u001b[0m\u001b[1;33m.\u001b[0m\u001b[0m_backend\u001b[0m\u001b[1;33m.\u001b[0m\u001b[0mapply_async\u001b[0m\u001b[1;33m(\u001b[0m\u001b[0mbatch\u001b[0m\u001b[1;33m,\u001b[0m \u001b[0mcallback\u001b[0m\u001b[1;33m=\u001b[0m\u001b[0mcb\u001b[0m\u001b[1;33m)\u001b[0m\u001b[1;33m\u001b[0m\u001b[1;33m\u001b[0m\u001b[0m\n\u001b[0m\u001b[0;32m    755\u001b[0m             \u001b[1;31m# A job can complete so quickly than its callback is\u001b[0m\u001b[1;33m\u001b[0m\u001b[1;33m\u001b[0m\u001b[1;33m\u001b[0m\u001b[0m\n\u001b[0;32m    756\u001b[0m             \u001b[1;31m# called before we get here, causing self._jobs to\u001b[0m\u001b[1;33m\u001b[0m\u001b[1;33m\u001b[0m\u001b[1;33m\u001b[0m\u001b[0m\n",
      "\u001b[1;32m~\\anaconda3\\lib\\site-packages\\joblib\\_parallel_backends.py\u001b[0m in \u001b[0;36mapply_async\u001b[1;34m(self, func, callback)\u001b[0m\n\u001b[0;32m    207\u001b[0m     \u001b[1;32mdef\u001b[0m \u001b[0mapply_async\u001b[0m\u001b[1;33m(\u001b[0m\u001b[0mself\u001b[0m\u001b[1;33m,\u001b[0m \u001b[0mfunc\u001b[0m\u001b[1;33m,\u001b[0m \u001b[0mcallback\u001b[0m\u001b[1;33m=\u001b[0m\u001b[1;32mNone\u001b[0m\u001b[1;33m)\u001b[0m\u001b[1;33m:\u001b[0m\u001b[1;33m\u001b[0m\u001b[1;33m\u001b[0m\u001b[0m\n\u001b[0;32m    208\u001b[0m         \u001b[1;34m\"\"\"Schedule a func to be run\"\"\"\u001b[0m\u001b[1;33m\u001b[0m\u001b[1;33m\u001b[0m\u001b[0m\n\u001b[1;32m--> 209\u001b[1;33m         \u001b[0mresult\u001b[0m \u001b[1;33m=\u001b[0m \u001b[0mImmediateResult\u001b[0m\u001b[1;33m(\u001b[0m\u001b[0mfunc\u001b[0m\u001b[1;33m)\u001b[0m\u001b[1;33m\u001b[0m\u001b[1;33m\u001b[0m\u001b[0m\n\u001b[0m\u001b[0;32m    210\u001b[0m         \u001b[1;32mif\u001b[0m \u001b[0mcallback\u001b[0m\u001b[1;33m:\u001b[0m\u001b[1;33m\u001b[0m\u001b[1;33m\u001b[0m\u001b[0m\n\u001b[0;32m    211\u001b[0m             \u001b[0mcallback\u001b[0m\u001b[1;33m(\u001b[0m\u001b[0mresult\u001b[0m\u001b[1;33m)\u001b[0m\u001b[1;33m\u001b[0m\u001b[1;33m\u001b[0m\u001b[0m\n",
      "\u001b[1;32m~\\anaconda3\\lib\\site-packages\\joblib\\_parallel_backends.py\u001b[0m in \u001b[0;36m__init__\u001b[1;34m(self, batch)\u001b[0m\n\u001b[0;32m    588\u001b[0m         \u001b[1;31m# Don't delay the application, to avoid keeping the input\u001b[0m\u001b[1;33m\u001b[0m\u001b[1;33m\u001b[0m\u001b[1;33m\u001b[0m\u001b[0m\n\u001b[0;32m    589\u001b[0m         \u001b[1;31m# arguments in memory\u001b[0m\u001b[1;33m\u001b[0m\u001b[1;33m\u001b[0m\u001b[1;33m\u001b[0m\u001b[0m\n\u001b[1;32m--> 590\u001b[1;33m         \u001b[0mself\u001b[0m\u001b[1;33m.\u001b[0m\u001b[0mresults\u001b[0m \u001b[1;33m=\u001b[0m \u001b[0mbatch\u001b[0m\u001b[1;33m(\u001b[0m\u001b[1;33m)\u001b[0m\u001b[1;33m\u001b[0m\u001b[1;33m\u001b[0m\u001b[0m\n\u001b[0m\u001b[0;32m    591\u001b[0m \u001b[1;33m\u001b[0m\u001b[0m\n\u001b[0;32m    592\u001b[0m     \u001b[1;32mdef\u001b[0m \u001b[0mget\u001b[0m\u001b[1;33m(\u001b[0m\u001b[0mself\u001b[0m\u001b[1;33m)\u001b[0m\u001b[1;33m:\u001b[0m\u001b[1;33m\u001b[0m\u001b[1;33m\u001b[0m\u001b[0m\n",
      "\u001b[1;32m~\\anaconda3\\lib\\site-packages\\joblib\\parallel.py\u001b[0m in \u001b[0;36m__call__\u001b[1;34m(self)\u001b[0m\n\u001b[0;32m    254\u001b[0m         \u001b[1;32mwith\u001b[0m \u001b[0mparallel_backend\u001b[0m\u001b[1;33m(\u001b[0m\u001b[0mself\u001b[0m\u001b[1;33m.\u001b[0m\u001b[0m_backend\u001b[0m\u001b[1;33m,\u001b[0m \u001b[0mn_jobs\u001b[0m\u001b[1;33m=\u001b[0m\u001b[0mself\u001b[0m\u001b[1;33m.\u001b[0m\u001b[0m_n_jobs\u001b[0m\u001b[1;33m)\u001b[0m\u001b[1;33m:\u001b[0m\u001b[1;33m\u001b[0m\u001b[1;33m\u001b[0m\u001b[0m\n\u001b[0;32m    255\u001b[0m             return [func(*args, **kwargs)\n\u001b[1;32m--> 256\u001b[1;33m                     for func, args, kwargs in self.items]\n\u001b[0m\u001b[0;32m    257\u001b[0m \u001b[1;33m\u001b[0m\u001b[0m\n\u001b[0;32m    258\u001b[0m     \u001b[1;32mdef\u001b[0m \u001b[0m__len__\u001b[0m\u001b[1;33m(\u001b[0m\u001b[0mself\u001b[0m\u001b[1;33m)\u001b[0m\u001b[1;33m:\u001b[0m\u001b[1;33m\u001b[0m\u001b[1;33m\u001b[0m\u001b[0m\n",
      "\u001b[1;32m~\\anaconda3\\lib\\site-packages\\joblib\\parallel.py\u001b[0m in \u001b[0;36m<listcomp>\u001b[1;34m(.0)\u001b[0m\n\u001b[0;32m    254\u001b[0m         \u001b[1;32mwith\u001b[0m \u001b[0mparallel_backend\u001b[0m\u001b[1;33m(\u001b[0m\u001b[0mself\u001b[0m\u001b[1;33m.\u001b[0m\u001b[0m_backend\u001b[0m\u001b[1;33m,\u001b[0m \u001b[0mn_jobs\u001b[0m\u001b[1;33m=\u001b[0m\u001b[0mself\u001b[0m\u001b[1;33m.\u001b[0m\u001b[0m_n_jobs\u001b[0m\u001b[1;33m)\u001b[0m\u001b[1;33m:\u001b[0m\u001b[1;33m\u001b[0m\u001b[1;33m\u001b[0m\u001b[0m\n\u001b[0;32m    255\u001b[0m             return [func(*args, **kwargs)\n\u001b[1;32m--> 256\u001b[1;33m                     for func, args, kwargs in self.items]\n\u001b[0m\u001b[0;32m    257\u001b[0m \u001b[1;33m\u001b[0m\u001b[0m\n\u001b[0;32m    258\u001b[0m     \u001b[1;32mdef\u001b[0m \u001b[0m__len__\u001b[0m\u001b[1;33m(\u001b[0m\u001b[0mself\u001b[0m\u001b[1;33m)\u001b[0m\u001b[1;33m:\u001b[0m\u001b[1;33m\u001b[0m\u001b[1;33m\u001b[0m\u001b[0m\n",
      "\u001b[1;32m~\\anaconda3\\lib\\site-packages\\sklearn\\model_selection\\_validation.py\u001b[0m in \u001b[0;36m_fit_and_score\u001b[1;34m(estimator, X, y, scorer, train, test, verbose, parameters, fit_params, return_train_score, return_parameters, return_n_test_samples, return_times, return_estimator, error_score)\u001b[0m\n\u001b[0;32m    513\u001b[0m             \u001b[0mestimator\u001b[0m\u001b[1;33m.\u001b[0m\u001b[0mfit\u001b[0m\u001b[1;33m(\u001b[0m\u001b[0mX_train\u001b[0m\u001b[1;33m,\u001b[0m \u001b[1;33m**\u001b[0m\u001b[0mfit_params\u001b[0m\u001b[1;33m)\u001b[0m\u001b[1;33m\u001b[0m\u001b[1;33m\u001b[0m\u001b[0m\n\u001b[0;32m    514\u001b[0m         \u001b[1;32melse\u001b[0m\u001b[1;33m:\u001b[0m\u001b[1;33m\u001b[0m\u001b[1;33m\u001b[0m\u001b[0m\n\u001b[1;32m--> 515\u001b[1;33m             \u001b[0mestimator\u001b[0m\u001b[1;33m.\u001b[0m\u001b[0mfit\u001b[0m\u001b[1;33m(\u001b[0m\u001b[0mX_train\u001b[0m\u001b[1;33m,\u001b[0m \u001b[0my_train\u001b[0m\u001b[1;33m,\u001b[0m \u001b[1;33m**\u001b[0m\u001b[0mfit_params\u001b[0m\u001b[1;33m)\u001b[0m\u001b[1;33m\u001b[0m\u001b[1;33m\u001b[0m\u001b[0m\n\u001b[0m\u001b[0;32m    516\u001b[0m \u001b[1;33m\u001b[0m\u001b[0m\n\u001b[0;32m    517\u001b[0m     \u001b[1;32mexcept\u001b[0m \u001b[0mException\u001b[0m \u001b[1;32mas\u001b[0m \u001b[0me\u001b[0m\u001b[1;33m:\u001b[0m\u001b[1;33m\u001b[0m\u001b[1;33m\u001b[0m\u001b[0m\n",
      "\u001b[1;32m~\\anaconda3\\lib\\site-packages\\sklearn\\ensemble\\_forest.py\u001b[0m in \u001b[0;36mfit\u001b[1;34m(self, X, y, sample_weight)\u001b[0m\n\u001b[0;32m    381\u001b[0m                     \u001b[0mverbose\u001b[0m\u001b[1;33m=\u001b[0m\u001b[0mself\u001b[0m\u001b[1;33m.\u001b[0m\u001b[0mverbose\u001b[0m\u001b[1;33m,\u001b[0m \u001b[0mclass_weight\u001b[0m\u001b[1;33m=\u001b[0m\u001b[0mself\u001b[0m\u001b[1;33m.\u001b[0m\u001b[0mclass_weight\u001b[0m\u001b[1;33m,\u001b[0m\u001b[1;33m\u001b[0m\u001b[1;33m\u001b[0m\u001b[0m\n\u001b[0;32m    382\u001b[0m                     n_samples_bootstrap=n_samples_bootstrap)\n\u001b[1;32m--> 383\u001b[1;33m                 for i, t in enumerate(trees))\n\u001b[0m\u001b[0;32m    384\u001b[0m \u001b[1;33m\u001b[0m\u001b[0m\n\u001b[0;32m    385\u001b[0m             \u001b[1;31m# Collect newly grown trees\u001b[0m\u001b[1;33m\u001b[0m\u001b[1;33m\u001b[0m\u001b[1;33m\u001b[0m\u001b[0m\n",
      "\u001b[1;32m~\\anaconda3\\lib\\site-packages\\joblib\\parallel.py\u001b[0m in \u001b[0;36m__call__\u001b[1;34m(self, iterable)\u001b[0m\n\u001b[0;32m   1005\u001b[0m                 \u001b[0mself\u001b[0m\u001b[1;33m.\u001b[0m\u001b[0m_iterating\u001b[0m \u001b[1;33m=\u001b[0m \u001b[0mself\u001b[0m\u001b[1;33m.\u001b[0m\u001b[0m_original_iterator\u001b[0m \u001b[1;32mis\u001b[0m \u001b[1;32mnot\u001b[0m \u001b[1;32mNone\u001b[0m\u001b[1;33m\u001b[0m\u001b[1;33m\u001b[0m\u001b[0m\n\u001b[0;32m   1006\u001b[0m \u001b[1;33m\u001b[0m\u001b[0m\n\u001b[1;32m-> 1007\u001b[1;33m             \u001b[1;32mwhile\u001b[0m \u001b[0mself\u001b[0m\u001b[1;33m.\u001b[0m\u001b[0mdispatch_one_batch\u001b[0m\u001b[1;33m(\u001b[0m\u001b[0miterator\u001b[0m\u001b[1;33m)\u001b[0m\u001b[1;33m:\u001b[0m\u001b[1;33m\u001b[0m\u001b[1;33m\u001b[0m\u001b[0m\n\u001b[0m\u001b[0;32m   1008\u001b[0m                 \u001b[1;32mpass\u001b[0m\u001b[1;33m\u001b[0m\u001b[1;33m\u001b[0m\u001b[0m\n\u001b[0;32m   1009\u001b[0m \u001b[1;33m\u001b[0m\u001b[0m\n",
      "\u001b[1;32m~\\anaconda3\\lib\\site-packages\\joblib\\parallel.py\u001b[0m in \u001b[0;36mdispatch_one_batch\u001b[1;34m(self, iterator)\u001b[0m\n\u001b[0;32m    833\u001b[0m                 \u001b[1;32mreturn\u001b[0m \u001b[1;32mFalse\u001b[0m\u001b[1;33m\u001b[0m\u001b[1;33m\u001b[0m\u001b[0m\n\u001b[0;32m    834\u001b[0m             \u001b[1;32melse\u001b[0m\u001b[1;33m:\u001b[0m\u001b[1;33m\u001b[0m\u001b[1;33m\u001b[0m\u001b[0m\n\u001b[1;32m--> 835\u001b[1;33m                 \u001b[0mself\u001b[0m\u001b[1;33m.\u001b[0m\u001b[0m_dispatch\u001b[0m\u001b[1;33m(\u001b[0m\u001b[0mtasks\u001b[0m\u001b[1;33m)\u001b[0m\u001b[1;33m\u001b[0m\u001b[1;33m\u001b[0m\u001b[0m\n\u001b[0m\u001b[0;32m    836\u001b[0m                 \u001b[1;32mreturn\u001b[0m \u001b[1;32mTrue\u001b[0m\u001b[1;33m\u001b[0m\u001b[1;33m\u001b[0m\u001b[0m\n\u001b[0;32m    837\u001b[0m \u001b[1;33m\u001b[0m\u001b[0m\n",
      "\u001b[1;32m~\\anaconda3\\lib\\site-packages\\joblib\\parallel.py\u001b[0m in \u001b[0;36m_dispatch\u001b[1;34m(self, batch)\u001b[0m\n\u001b[0;32m    752\u001b[0m         \u001b[1;32mwith\u001b[0m \u001b[0mself\u001b[0m\u001b[1;33m.\u001b[0m\u001b[0m_lock\u001b[0m\u001b[1;33m:\u001b[0m\u001b[1;33m\u001b[0m\u001b[1;33m\u001b[0m\u001b[0m\n\u001b[0;32m    753\u001b[0m             \u001b[0mjob_idx\u001b[0m \u001b[1;33m=\u001b[0m \u001b[0mlen\u001b[0m\u001b[1;33m(\u001b[0m\u001b[0mself\u001b[0m\u001b[1;33m.\u001b[0m\u001b[0m_jobs\u001b[0m\u001b[1;33m)\u001b[0m\u001b[1;33m\u001b[0m\u001b[1;33m\u001b[0m\u001b[0m\n\u001b[1;32m--> 754\u001b[1;33m             \u001b[0mjob\u001b[0m \u001b[1;33m=\u001b[0m \u001b[0mself\u001b[0m\u001b[1;33m.\u001b[0m\u001b[0m_backend\u001b[0m\u001b[1;33m.\u001b[0m\u001b[0mapply_async\u001b[0m\u001b[1;33m(\u001b[0m\u001b[0mbatch\u001b[0m\u001b[1;33m,\u001b[0m \u001b[0mcallback\u001b[0m\u001b[1;33m=\u001b[0m\u001b[0mcb\u001b[0m\u001b[1;33m)\u001b[0m\u001b[1;33m\u001b[0m\u001b[1;33m\u001b[0m\u001b[0m\n\u001b[0m\u001b[0;32m    755\u001b[0m             \u001b[1;31m# A job can complete so quickly than its callback is\u001b[0m\u001b[1;33m\u001b[0m\u001b[1;33m\u001b[0m\u001b[1;33m\u001b[0m\u001b[0m\n\u001b[0;32m    756\u001b[0m             \u001b[1;31m# called before we get here, causing self._jobs to\u001b[0m\u001b[1;33m\u001b[0m\u001b[1;33m\u001b[0m\u001b[1;33m\u001b[0m\u001b[0m\n",
      "\u001b[1;32m~\\anaconda3\\lib\\site-packages\\joblib\\_parallel_backends.py\u001b[0m in \u001b[0;36mapply_async\u001b[1;34m(self, func, callback)\u001b[0m\n\u001b[0;32m    207\u001b[0m     \u001b[1;32mdef\u001b[0m \u001b[0mapply_async\u001b[0m\u001b[1;33m(\u001b[0m\u001b[0mself\u001b[0m\u001b[1;33m,\u001b[0m \u001b[0mfunc\u001b[0m\u001b[1;33m,\u001b[0m \u001b[0mcallback\u001b[0m\u001b[1;33m=\u001b[0m\u001b[1;32mNone\u001b[0m\u001b[1;33m)\u001b[0m\u001b[1;33m:\u001b[0m\u001b[1;33m\u001b[0m\u001b[1;33m\u001b[0m\u001b[0m\n\u001b[0;32m    208\u001b[0m         \u001b[1;34m\"\"\"Schedule a func to be run\"\"\"\u001b[0m\u001b[1;33m\u001b[0m\u001b[1;33m\u001b[0m\u001b[0m\n\u001b[1;32m--> 209\u001b[1;33m         \u001b[0mresult\u001b[0m \u001b[1;33m=\u001b[0m \u001b[0mImmediateResult\u001b[0m\u001b[1;33m(\u001b[0m\u001b[0mfunc\u001b[0m\u001b[1;33m)\u001b[0m\u001b[1;33m\u001b[0m\u001b[1;33m\u001b[0m\u001b[0m\n\u001b[0m\u001b[0;32m    210\u001b[0m         \u001b[1;32mif\u001b[0m \u001b[0mcallback\u001b[0m\u001b[1;33m:\u001b[0m\u001b[1;33m\u001b[0m\u001b[1;33m\u001b[0m\u001b[0m\n\u001b[0;32m    211\u001b[0m             \u001b[0mcallback\u001b[0m\u001b[1;33m(\u001b[0m\u001b[0mresult\u001b[0m\u001b[1;33m)\u001b[0m\u001b[1;33m\u001b[0m\u001b[1;33m\u001b[0m\u001b[0m\n",
      "\u001b[1;32m~\\anaconda3\\lib\\site-packages\\joblib\\_parallel_backends.py\u001b[0m in \u001b[0;36m__init__\u001b[1;34m(self, batch)\u001b[0m\n\u001b[0;32m    588\u001b[0m         \u001b[1;31m# Don't delay the application, to avoid keeping the input\u001b[0m\u001b[1;33m\u001b[0m\u001b[1;33m\u001b[0m\u001b[1;33m\u001b[0m\u001b[0m\n\u001b[0;32m    589\u001b[0m         \u001b[1;31m# arguments in memory\u001b[0m\u001b[1;33m\u001b[0m\u001b[1;33m\u001b[0m\u001b[1;33m\u001b[0m\u001b[0m\n\u001b[1;32m--> 590\u001b[1;33m         \u001b[0mself\u001b[0m\u001b[1;33m.\u001b[0m\u001b[0mresults\u001b[0m \u001b[1;33m=\u001b[0m \u001b[0mbatch\u001b[0m\u001b[1;33m(\u001b[0m\u001b[1;33m)\u001b[0m\u001b[1;33m\u001b[0m\u001b[1;33m\u001b[0m\u001b[0m\n\u001b[0m\u001b[0;32m    591\u001b[0m \u001b[1;33m\u001b[0m\u001b[0m\n\u001b[0;32m    592\u001b[0m     \u001b[1;32mdef\u001b[0m \u001b[0mget\u001b[0m\u001b[1;33m(\u001b[0m\u001b[0mself\u001b[0m\u001b[1;33m)\u001b[0m\u001b[1;33m:\u001b[0m\u001b[1;33m\u001b[0m\u001b[1;33m\u001b[0m\u001b[0m\n",
      "\u001b[1;32m~\\anaconda3\\lib\\site-packages\\joblib\\parallel.py\u001b[0m in \u001b[0;36m__call__\u001b[1;34m(self)\u001b[0m\n\u001b[0;32m    254\u001b[0m         \u001b[1;32mwith\u001b[0m \u001b[0mparallel_backend\u001b[0m\u001b[1;33m(\u001b[0m\u001b[0mself\u001b[0m\u001b[1;33m.\u001b[0m\u001b[0m_backend\u001b[0m\u001b[1;33m,\u001b[0m \u001b[0mn_jobs\u001b[0m\u001b[1;33m=\u001b[0m\u001b[0mself\u001b[0m\u001b[1;33m.\u001b[0m\u001b[0m_n_jobs\u001b[0m\u001b[1;33m)\u001b[0m\u001b[1;33m:\u001b[0m\u001b[1;33m\u001b[0m\u001b[1;33m\u001b[0m\u001b[0m\n\u001b[0;32m    255\u001b[0m             return [func(*args, **kwargs)\n\u001b[1;32m--> 256\u001b[1;33m                     for func, args, kwargs in self.items]\n\u001b[0m\u001b[0;32m    257\u001b[0m \u001b[1;33m\u001b[0m\u001b[0m\n\u001b[0;32m    258\u001b[0m     \u001b[1;32mdef\u001b[0m \u001b[0m__len__\u001b[0m\u001b[1;33m(\u001b[0m\u001b[0mself\u001b[0m\u001b[1;33m)\u001b[0m\u001b[1;33m:\u001b[0m\u001b[1;33m\u001b[0m\u001b[1;33m\u001b[0m\u001b[0m\n",
      "\u001b[1;32m~\\anaconda3\\lib\\site-packages\\joblib\\parallel.py\u001b[0m in \u001b[0;36m<listcomp>\u001b[1;34m(.0)\u001b[0m\n\u001b[0;32m    254\u001b[0m         \u001b[1;32mwith\u001b[0m \u001b[0mparallel_backend\u001b[0m\u001b[1;33m(\u001b[0m\u001b[0mself\u001b[0m\u001b[1;33m.\u001b[0m\u001b[0m_backend\u001b[0m\u001b[1;33m,\u001b[0m \u001b[0mn_jobs\u001b[0m\u001b[1;33m=\u001b[0m\u001b[0mself\u001b[0m\u001b[1;33m.\u001b[0m\u001b[0m_n_jobs\u001b[0m\u001b[1;33m)\u001b[0m\u001b[1;33m:\u001b[0m\u001b[1;33m\u001b[0m\u001b[1;33m\u001b[0m\u001b[0m\n\u001b[0;32m    255\u001b[0m             return [func(*args, **kwargs)\n\u001b[1;32m--> 256\u001b[1;33m                     for func, args, kwargs in self.items]\n\u001b[0m\u001b[0;32m    257\u001b[0m \u001b[1;33m\u001b[0m\u001b[0m\n\u001b[0;32m    258\u001b[0m     \u001b[1;32mdef\u001b[0m \u001b[0m__len__\u001b[0m\u001b[1;33m(\u001b[0m\u001b[0mself\u001b[0m\u001b[1;33m)\u001b[0m\u001b[1;33m:\u001b[0m\u001b[1;33m\u001b[0m\u001b[1;33m\u001b[0m\u001b[0m\n",
      "\u001b[1;32m~\\anaconda3\\lib\\site-packages\\sklearn\\ensemble\\_forest.py\u001b[0m in \u001b[0;36m_parallel_build_trees\u001b[1;34m(tree, forest, X, y, sample_weight, tree_idx, n_trees, verbose, class_weight, n_samples_bootstrap)\u001b[0m\n\u001b[0;32m    163\u001b[0m             \u001b[0mcurr_sample_weight\u001b[0m \u001b[1;33m*=\u001b[0m \u001b[0mcompute_sample_weight\u001b[0m\u001b[1;33m(\u001b[0m\u001b[1;34m'balanced'\u001b[0m\u001b[1;33m,\u001b[0m \u001b[0my\u001b[0m\u001b[1;33m,\u001b[0m \u001b[0mindices\u001b[0m\u001b[1;33m)\u001b[0m\u001b[1;33m\u001b[0m\u001b[1;33m\u001b[0m\u001b[0m\n\u001b[0;32m    164\u001b[0m \u001b[1;33m\u001b[0m\u001b[0m\n\u001b[1;32m--> 165\u001b[1;33m         \u001b[0mtree\u001b[0m\u001b[1;33m.\u001b[0m\u001b[0mfit\u001b[0m\u001b[1;33m(\u001b[0m\u001b[0mX\u001b[0m\u001b[1;33m,\u001b[0m \u001b[0my\u001b[0m\u001b[1;33m,\u001b[0m \u001b[0msample_weight\u001b[0m\u001b[1;33m=\u001b[0m\u001b[0mcurr_sample_weight\u001b[0m\u001b[1;33m,\u001b[0m \u001b[0mcheck_input\u001b[0m\u001b[1;33m=\u001b[0m\u001b[1;32mFalse\u001b[0m\u001b[1;33m)\u001b[0m\u001b[1;33m\u001b[0m\u001b[1;33m\u001b[0m\u001b[0m\n\u001b[0m\u001b[0;32m    166\u001b[0m     \u001b[1;32melse\u001b[0m\u001b[1;33m:\u001b[0m\u001b[1;33m\u001b[0m\u001b[1;33m\u001b[0m\u001b[0m\n\u001b[0;32m    167\u001b[0m         \u001b[0mtree\u001b[0m\u001b[1;33m.\u001b[0m\u001b[0mfit\u001b[0m\u001b[1;33m(\u001b[0m\u001b[0mX\u001b[0m\u001b[1;33m,\u001b[0m \u001b[0my\u001b[0m\u001b[1;33m,\u001b[0m \u001b[0msample_weight\u001b[0m\u001b[1;33m=\u001b[0m\u001b[0msample_weight\u001b[0m\u001b[1;33m,\u001b[0m \u001b[0mcheck_input\u001b[0m\u001b[1;33m=\u001b[0m\u001b[1;32mFalse\u001b[0m\u001b[1;33m)\u001b[0m\u001b[1;33m\u001b[0m\u001b[1;33m\u001b[0m\u001b[0m\n",
      "\u001b[1;32m~\\anaconda3\\lib\\site-packages\\sklearn\\tree\\_classes.py\u001b[0m in \u001b[0;36mfit\u001b[1;34m(self, X, y, sample_weight, check_input, X_idx_sorted)\u001b[0m\n\u001b[0;32m   1223\u001b[0m             \u001b[0msample_weight\u001b[0m\u001b[1;33m=\u001b[0m\u001b[0msample_weight\u001b[0m\u001b[1;33m,\u001b[0m\u001b[1;33m\u001b[0m\u001b[1;33m\u001b[0m\u001b[0m\n\u001b[0;32m   1224\u001b[0m             \u001b[0mcheck_input\u001b[0m\u001b[1;33m=\u001b[0m\u001b[0mcheck_input\u001b[0m\u001b[1;33m,\u001b[0m\u001b[1;33m\u001b[0m\u001b[1;33m\u001b[0m\u001b[0m\n\u001b[1;32m-> 1225\u001b[1;33m             X_idx_sorted=X_idx_sorted)\n\u001b[0m\u001b[0;32m   1226\u001b[0m         \u001b[1;32mreturn\u001b[0m \u001b[0mself\u001b[0m\u001b[1;33m\u001b[0m\u001b[1;33m\u001b[0m\u001b[0m\n\u001b[0;32m   1227\u001b[0m \u001b[1;33m\u001b[0m\u001b[0m\n",
      "\u001b[1;32m~\\anaconda3\\lib\\site-packages\\sklearn\\tree\\_classes.py\u001b[0m in \u001b[0;36mfit\u001b[1;34m(self, X, y, sample_weight, check_input, X_idx_sorted)\u001b[0m\n\u001b[0;32m    365\u001b[0m                                            min_impurity_split)\n\u001b[0;32m    366\u001b[0m \u001b[1;33m\u001b[0m\u001b[0m\n\u001b[1;32m--> 367\u001b[1;33m         \u001b[0mbuilder\u001b[0m\u001b[1;33m.\u001b[0m\u001b[0mbuild\u001b[0m\u001b[1;33m(\u001b[0m\u001b[0mself\u001b[0m\u001b[1;33m.\u001b[0m\u001b[0mtree_\u001b[0m\u001b[1;33m,\u001b[0m \u001b[0mX\u001b[0m\u001b[1;33m,\u001b[0m \u001b[0my\u001b[0m\u001b[1;33m,\u001b[0m \u001b[0msample_weight\u001b[0m\u001b[1;33m,\u001b[0m \u001b[0mX_idx_sorted\u001b[0m\u001b[1;33m)\u001b[0m\u001b[1;33m\u001b[0m\u001b[1;33m\u001b[0m\u001b[0m\n\u001b[0m\u001b[0;32m    368\u001b[0m \u001b[1;33m\u001b[0m\u001b[0m\n\u001b[0;32m    369\u001b[0m         \u001b[1;32mif\u001b[0m \u001b[0mself\u001b[0m\u001b[1;33m.\u001b[0m\u001b[0mn_outputs_\u001b[0m \u001b[1;33m==\u001b[0m \u001b[1;36m1\u001b[0m \u001b[1;32mand\u001b[0m \u001b[0mis_classifier\u001b[0m\u001b[1;33m(\u001b[0m\u001b[0mself\u001b[0m\u001b[1;33m)\u001b[0m\u001b[1;33m:\u001b[0m\u001b[1;33m\u001b[0m\u001b[1;33m\u001b[0m\u001b[0m\n",
      "\u001b[1;31mKeyboardInterrupt\u001b[0m: "
     ]
    }
   ],
   "source": [
    "#Check for best parameters\n",
    "from sklearn.model_selection import GridSearchCV, cross_val_score\n",
    "param_grid = { \"criterion\" : [\"mse\", \"mae\"], \"min_samples_leaf\" : [1,15,20], \"min_samples_split\" : [2,5,10], \"n_estimators\": [50,100],\"max_features\":[\"auto\", \"sqrt\", \"log2\"]}\n",
    "rf = RandomForestRegressor(n_estimators=100, max_features='auto', oob_score=True)\n",
    "clf = GridSearchCV(estimator=rf, param_grid=param_grid)\n",
    "clf.fit(x_train, y_train)\n",
    "clf.best_params_"
   ]
  },
  {
   "cell_type": "markdown",
   "metadata": {},
   "source": [
    "### Model 8 - XGBoost with all the data - This is the winner model"
   ]
  },
  {
   "cell_type": "code",
   "execution_count": 128,
   "metadata": {},
   "outputs": [
    {
     "name": "stderr",
     "output_type": "stream",
     "text": [
      "C:\\Users\\feche\\anaconda3\\lib\\site-packages\\pandas\\core\\indexing.py:966: SettingWithCopyWarning: \n",
      "A value is trying to be set on a copy of a slice from a DataFrame.\n",
      "Try using .loc[row_indexer,col_indexer] = value instead\n",
      "\n",
      "See the caveats in the documentation: https://pandas.pydata.org/pandas-docs/stable/user_guide/indexing.html#returning-a-view-versus-a-copy\n",
      "  self.obj[item] = s\n"
     ]
    }
   ],
   "source": [
    "df=pd.read_csv(r'C:\\Users\\feche\\Documents\\Curso Python\\datasets\\Apartamentos-latam\\Train.csv')\n",
    "df_test=pd.read_csv(r'C:\\Users\\feche\\Documents\\Curso Python\\datasets\\Apartamentos-latam\\Test.csv')\n",
    "\n",
    "df_colombia=df[df['pais']=='Colombia']\n",
    "df_argentina=df[df['pais']=='Argentina']\n",
    "\n",
    "df_test_colombia=df_test[df_test['pais']=='Colombia']\n",
    "df_test_argentina=df_test[df_test['pais']=='Argentina']\n",
    "\n",
    "#Correciones de precios mal puestos\n",
    "df_colombia.loc[16166,'price']=233966\n",
    "df_colombia.loc[16166,'price']=233966\n",
    "df_colombia.loc[9093,'price']=71566\n",
    "df_colombia.loc[12408,'price']=63297\n",
    "df_colombia.loc[12408,'surface_total']=100\n",
    "df_colombia.loc[25309,'price']=72942\n",
    "df_argentina.loc[24084,'price']=315000\n",
    "df_argentina.loc[20385,'price']=260000\n",
    "df_argentina.loc[14865,'price']=190000\n",
    "df_argentina.loc[16720,'price']=170000\n",
    "df_argentina.loc[21378,'price']=165000"
   ]
  },
  {
   "cell_type": "code",
   "execution_count": 129,
   "metadata": {},
   "outputs": [],
   "source": [
    "categories=[\"provincia_departamento\",\"ciudad\"]\n",
    "\n",
    "for category in categories:\n",
    "    cat_dummies=pd.get_dummies(df_colombia[category], prefix=category)\n",
    "    df_train_new=df_colombia.join(cat_dummies)\n",
    "    df_colombia=df_train_new\n",
    "\n",
    "    cat_dummies=pd.get_dummies(df_argentina[category], prefix=category)\n",
    "    df_train_new=df_argentina.join(cat_dummies)\n",
    "    df_argentina=df_train_new\n",
    "\n",
    "for category in categories:\n",
    "    cat_dummies=pd.get_dummies(df_test_colombia[category], prefix=category)\n",
    "    df_test_new=df_test_colombia.join(cat_dummies)\n",
    "    df_test_colombia=df_test_new\n",
    "\n",
    "    cat_dummies=pd.get_dummies(df_test_argentina[category], prefix=category)\n",
    "    df_test_new=df_test_argentina.join(cat_dummies)\n",
    "    df_test_argentina=df_test_new"
   ]
  },
  {
   "cell_type": "markdown",
   "metadata": {},
   "source": [
    "#### Colombia"
   ]
  },
  {
   "cell_type": "code",
   "execution_count": 130,
   "metadata": {},
   "outputs": [],
   "source": [
    "predictive_cols=['rooms', 'bathrooms',\n",
    "       'surface_total','provincia_departamento_Antioquia',\n",
    "       'provincia_departamento_Atlántico',\n",
    "       'provincia_departamento_Bolívar', 'provincia_departamento_Boyacá',\n",
    "       'provincia_departamento_Cauca',\n",
    "       'provincia_departamento_Cundinamarca',\n",
    "       'provincia_departamento_Córdoba', 'provincia_departamento_Huila',\n",
    "       'provincia_departamento_Magdalena', 'provincia_departamento_Meta',\n",
    "       'provincia_departamento_Norte de Santander',\n",
    "       'provincia_departamento_Quindío',\n",
    "       'provincia_departamento_Risaralda',\n",
    "       'provincia_departamento_Santander',\n",
    "       'provincia_departamento_Tolima',\n",
    "       'provincia_departamento_Valle del Cauca', 'ciudad_Abejorral',\n",
    "       'ciudad_Acacías', 'ciudad_Agua de Dios', 'ciudad_Anapoima',\n",
    "       'ciudad_Armenia', 'ciudad_Barbosa', 'ciudad_Barrancabermeja',\n",
    "       'ciudad_Barranquilla', 'ciudad_Bello', 'ciudad_Bogotá D.C',\n",
    "       'ciudad_Bucaramanga', 'ciudad_Buenaventura', 'ciudad_Cabrera',\n",
    "       'ciudad_Cajicá', 'ciudad_Cali', 'ciudad_Cartagena',\n",
    "       'ciudad_Chiquinquirá', 'ciudad_Chía', 'ciudad_Copacabana',\n",
    "       'ciudad_Cota', 'ciudad_Curití', 'ciudad_Duitama',\n",
    "       'ciudad_El Carmen de Viboral', 'ciudad_Envigado',\n",
    "       'ciudad_Floridablanca', 'ciudad_Funza', 'ciudad_Fusagasugá',\n",
    "       'ciudad_Gachancipá', 'ciudad_Girardot', 'ciudad_Girardota',\n",
    "       'ciudad_Girón', 'ciudad_Guarne', 'ciudad_Ibagué', 'ciudad_Itagui',\n",
    "       'ciudad_Jamundí', 'ciudad_Juan de Acosta', 'ciudad_La Calera',\n",
    "       'ciudad_La Ceja', 'ciudad_La Estrella', 'ciudad_La Vega',\n",
    "       'ciudad_Los Patios', 'ciudad_Madrid', 'ciudad_Marinilla',\n",
    "       'ciudad_Marsella', 'ciudad_Medellín', 'ciudad_Melgar',\n",
    "       'ciudad_Mosquera', 'ciudad_Neiva', 'ciudad_Palermo',\n",
    "       'ciudad_Palmira', 'ciudad_Pereira', 'ciudad_Piedecuesta',\n",
    "       'ciudad_Popayán', 'ciudad_Pueblo Nuevo', 'ciudad_Puerto Colombia',\n",
    "       'ciudad_Retiro', 'ciudad_Ricaurte', 'ciudad_Rionegro',\n",
    "       'ciudad_Sabaneta', 'ciudad_San Gil', 'ciudad_San Luis',\n",
    "       'ciudad_San Martín', 'ciudad_Santa Marta',\n",
    "       'ciudad_Santa Rosa de Cabal', 'ciudad_Santafé de Antioquia',\n",
    "       'ciudad_Soacha', 'ciudad_Soledad', 'ciudad_Sopó', 'ciudad_Tabio',\n",
    "       'ciudad_Tocancipá', 'ciudad_Tuluá', 'ciudad_Tunja',\n",
    "       'ciudad_Villa del Rosario', 'ciudad_Yumbo', 'ciudad_Zipaquirá']\n",
    "\n",
    "x=df_colombia[predictive_cols]\n",
    "y=df_colombia['price']\n",
    "\n",
    "x_train,x_test,y_train,y_test=train_test_split(x,y,test_size=0.2,random_state=42)"
   ]
  },
  {
   "cell_type": "code",
   "execution_count": 131,
   "metadata": {},
   "outputs": [
    {
     "name": "stdout",
     "output_type": "stream",
     "text": [
      "RMSE: 49212.195567\n",
      "RMSLE: 0.255220\n"
     ]
    }
   ],
   "source": [
    "xg_reg_col = xgb.XGBRegressor(objective ='reg:tweedie', colsample_bytree = 1, learning_rate = 0.25,\n",
    "                max_depth = 5, alpha = 2, n_estimators = 90,random_state=42)\n",
    "\n",
    "xg_reg_col.fit(x_train,y_train)\n",
    "\n",
    "preds = xg_reg_col.predict(x_test)\n",
    "\n",
    "df_pred_cols=pd.DataFrame(preds,columns=[\"Prediction\"])\n",
    "df_pred_cols['Prediction']=abs(df_pred_cols['Prediction'])\n",
    "\n",
    "rmse = np.sqrt(mean_squared_error(y_test, df_pred_cols))\n",
    "print(\"RMSE: %f\" % (rmse))\n",
    "\n",
    "rmsle=np.sqrt(mean_squared_log_error(y_test,df_pred_cols))\n",
    "print(\"RMSLE: %f\" % (rmsle))"
   ]
  },
  {
   "cell_type": "markdown",
   "metadata": {},
   "source": [
    "#### I do the predictions"
   ]
  },
  {
   "cell_type": "code",
   "execution_count": 132,
   "metadata": {},
   "outputs": [],
   "source": [
    "df_test_colombia['provincia_departamento_Boyacá']=0\n",
    "df_test_colombia['provincia_departamento_Cauca']=0\n",
    "df_test_colombia['provincia_departamento_Córdoba']=0\n",
    "df_test_colombia['provincia_departamento_Huila']=0\n",
    "df_test_colombia['provincia_departamento_Meta']=0\n",
    "df_test_colombia['provincia_departamento_Quindío']=0\n",
    "\n",
    "\n",
    "categories=['ciudad_Curití', 'ciudad_Cota', 'ciudad_Popayán', 'ciudad_Tabio',\n",
    "            'ciudad_Retiro', 'ciudad_La Vega', 'ciudad_Tunja', 'ciudad_Duitama',\n",
    "            'ciudad_Palermo', 'ciudad_Chiquinquirá', 'ciudad_El Carmen de Viboral',\n",
    "            'ciudad_Tuluá', 'ciudad_Girardota', 'ciudad_Abejorral', 'ciudad_Melgar',\n",
    "            'ciudad_Acacías', 'ciudad_Villa del Rosario', 'ciudad_Neiva', 'ciudad_Agua de Dios',\n",
    "            'ciudad_Funza', 'ciudad_Tocancipá', 'ciudad_San Gil', 'ciudad_San Luis',\n",
    "            'ciudad_Piedecuesta', 'ciudad_San Martín', 'ciudad_Buenaventura', 'ciudad_Barbosa',\n",
    "            'ciudad_Pueblo Nuevo', 'ciudad_La Calera']\n",
    "\n",
    "for category in categories:\n",
    "    df_test_colombia[category]=0\n",
    "\n",
    "predictive_cols=['rooms', 'bathrooms',\n",
    "       'surface_total','provincia_departamento_Antioquia',\n",
    "       'provincia_departamento_Atlántico',\n",
    "       'provincia_departamento_Bolívar', 'provincia_departamento_Boyacá',\n",
    "       'provincia_departamento_Cauca',\n",
    "       'provincia_departamento_Cundinamarca',\n",
    "       'provincia_departamento_Córdoba', 'provincia_departamento_Huila',\n",
    "       'provincia_departamento_Magdalena', 'provincia_departamento_Meta',\n",
    "       'provincia_departamento_Norte de Santander',\n",
    "       'provincia_departamento_Quindío',\n",
    "       'provincia_departamento_Risaralda',\n",
    "       'provincia_departamento_Santander',\n",
    "       'provincia_departamento_Tolima',\n",
    "       'provincia_departamento_Valle del Cauca', 'ciudad_Abejorral',\n",
    "       'ciudad_Acacías', 'ciudad_Agua de Dios', 'ciudad_Anapoima',\n",
    "       'ciudad_Armenia', 'ciudad_Barbosa', 'ciudad_Barrancabermeja',\n",
    "       'ciudad_Barranquilla', 'ciudad_Bello', 'ciudad_Bogotá D.C',\n",
    "       'ciudad_Bucaramanga', 'ciudad_Buenaventura', 'ciudad_Cabrera',\n",
    "       'ciudad_Cajicá', 'ciudad_Cali', 'ciudad_Cartagena',\n",
    "       'ciudad_Chiquinquirá', 'ciudad_Chía', 'ciudad_Copacabana',\n",
    "       'ciudad_Cota', 'ciudad_Curití', 'ciudad_Duitama',\n",
    "       'ciudad_El Carmen de Viboral', 'ciudad_Envigado',\n",
    "       'ciudad_Floridablanca', 'ciudad_Funza', 'ciudad_Fusagasugá',\n",
    "       'ciudad_Gachancipá', 'ciudad_Girardot', 'ciudad_Girardota',\n",
    "       'ciudad_Girón', 'ciudad_Guarne', 'ciudad_Ibagué', 'ciudad_Itagui',\n",
    "       'ciudad_Jamundí', 'ciudad_Juan de Acosta', 'ciudad_La Calera',\n",
    "       'ciudad_La Ceja', 'ciudad_La Estrella', 'ciudad_La Vega',\n",
    "       'ciudad_Los Patios', 'ciudad_Madrid', 'ciudad_Marinilla',\n",
    "       'ciudad_Marsella', 'ciudad_Medellín', 'ciudad_Melgar',\n",
    "       'ciudad_Mosquera', 'ciudad_Neiva', 'ciudad_Palermo',\n",
    "       'ciudad_Palmira', 'ciudad_Pereira', 'ciudad_Piedecuesta',\n",
    "       'ciudad_Popayán', 'ciudad_Pueblo Nuevo', 'ciudad_Puerto Colombia',\n",
    "       'ciudad_Retiro', 'ciudad_Ricaurte', 'ciudad_Rionegro',\n",
    "       'ciudad_Sabaneta', 'ciudad_San Gil', 'ciudad_San Luis',\n",
    "       'ciudad_San Martín', 'ciudad_Santa Marta',\n",
    "       'ciudad_Santa Rosa de Cabal', 'ciudad_Santafé de Antioquia',\n",
    "       'ciudad_Soacha', 'ciudad_Soledad', 'ciudad_Sopó', 'ciudad_Tabio',\n",
    "       'ciudad_Tocancipá', 'ciudad_Tuluá', 'ciudad_Tunja',\n",
    "       'ciudad_Villa del Rosario', 'ciudad_Yumbo', 'ciudad_Zipaquirá']\n",
    "\n",
    "\n",
    "\n",
    "x_test=df_test_colombia[predictive_cols]\n"
   ]
  },
  {
   "cell_type": "code",
   "execution_count": 133,
   "metadata": {},
   "outputs": [],
   "source": [
    "predictions=xg_reg_col.predict(x_test)"
   ]
  },
  {
   "cell_type": "code",
   "execution_count": 134,
   "metadata": {},
   "outputs": [],
   "source": [
    "df_test_colombia['Predictions']=predictions"
   ]
  },
  {
   "cell_type": "code",
   "execution_count": 135,
   "metadata": {},
   "outputs": [],
   "source": [
    "df_predictions_colombia=df_test_colombia[['Id','Predictions']]\n",
    "df_predictions_colombia.to_csv(r'C:\\Users\\feche\\Documents\\Curso Python\\datasets\\Apartamentos-latam\\XGBoost_Colombia_all_data_no_feature_engineering.csv',index=None)"
   ]
  },
  {
   "cell_type": "markdown",
   "metadata": {},
   "source": [
    "#### Argentina"
   ]
  },
  {
   "cell_type": "code",
   "execution_count": 136,
   "metadata": {},
   "outputs": [],
   "source": [
    "predictive_cols=['rooms', 'bathrooms',\n",
    "       'surface_total',\n",
    "       'provincia_departamento_Bs.As. G.B.A. Zona Norte',\n",
    "       'provincia_departamento_Bs.As. G.B.A. Zona Oeste',\n",
    "       'provincia_departamento_Bs.As. G.B.A. Zona Sur',\n",
    "       'provincia_departamento_Buenos Aires Costa Atlántica',\n",
    "       'provincia_departamento_Buenos Aires Interior',\n",
    "       'provincia_departamento_Capital Federal',\n",
    "       'provincia_departamento_Chaco', 'provincia_departamento_Chubut',\n",
    "       'provincia_departamento_Córdoba',\n",
    "       'provincia_departamento_Entre Ríos',\n",
    "       'provincia_departamento_Jujuy', 'provincia_departamento_Mendoza',\n",
    "       'provincia_departamento_Misiones',\n",
    "       'provincia_departamento_Neuquén',\n",
    "       'provincia_departamento_Río Negro', 'provincia_departamento_Salta',\n",
    "       'provincia_departamento_San Juan',\n",
    "       'provincia_departamento_San Luis',\n",
    "       'provincia_departamento_Santa Fe',\n",
    "       'provincia_departamento_Tucumán', 'ciudad_Abasto',\n",
    "       'ciudad_Acambuco', 'ciudad_Agronomía', 'ciudad_Allen',\n",
    "       'ciudad_Almagro', 'ciudad_Almirante Brown', 'ciudad_Avellaneda',\n",
    "       'ciudad_Azul', 'ciudad_Añelo', 'ciudad_Bahía Blanca',\n",
    "       'ciudad_Balcarce', 'ciudad_Balvanera', 'ciudad_Barracas',\n",
    "       'ciudad_Barrio Norte', 'ciudad_Belgrano', 'ciudad_Berazategui',\n",
    "       'ciudad_Berisso', 'ciudad_Boca', 'ciudad_Boedo',\n",
    "       'ciudad_Caballito', 'ciudad_Campana', 'ciudad_Carrodilla',\n",
    "       'ciudad_Centro / Microcentro', 'ciudad_Chacarita',\n",
    "       'ciudad_Chacras de Coria', 'ciudad_Cipolletti', 'ciudad_Coghlan',\n",
    "       'ciudad_Colegiales', 'ciudad_Colón', 'ciudad_Concordia',\n",
    "       'ciudad_Confluencia', 'ciudad_Congreso', 'ciudad_Constitución',\n",
    "       'ciudad_Costa del Este', 'ciudad_Córdoba', 'ciudad_Ensenada',\n",
    "       'ciudad_Escalante', 'ciudad_Escobar', 'ciudad_Esperanza',\n",
    "       'ciudad_Esteban Echeverría', 'ciudad_Exaltación de la Cruz',\n",
    "       'ciudad_Ezeiza', 'ciudad_Flores', 'ciudad_Floresta',\n",
    "       'ciudad_General Belgrano', 'ciudad_General Fernández Oro',\n",
    "       'ciudad_General Madariaga', 'ciudad_General Pueyrredón',\n",
    "       'ciudad_General Roca', 'ciudad_General Rodríguez',\n",
    "       'ciudad_General San Martín', 'ciudad_Godoy Cruz',\n",
    "       'ciudad_Granadero Baigorria', 'ciudad_Gualeguaychú',\n",
    "       'ciudad_Hurlingham', 'ciudad_Ituzaingó', 'ciudad_José C Paz',\n",
    "       'ciudad_Junín', 'ciudad_La Matanza', 'ciudad_La Plata',\n",
    "       'ciudad_Lanús', 'ciudad_Las Cañitas', 'ciudad_Las Grutas',\n",
    "       'ciudad_Las Heras', 'ciudad_Liniers', 'ciudad_Lobos',\n",
    "       'ciudad_Lomas de Zamora', 'ciudad_Luján', 'ciudad_Luján de Cuyo',\n",
    "       'ciudad_Lácar', 'ciudad_Maipú', 'ciudad_Malargüe',\n",
    "       'ciudad_Malvinas Argentinas', 'ciudad_Mar Chiquita',\n",
    "       'ciudad_Mar de Ajó', 'ciudad_Mar del Plata', 'ciudad_Mar del Tuyú',\n",
    "       'ciudad_Mataderos', 'ciudad_Mendoza', 'ciudad_Mercedes',\n",
    "       'ciudad_Merlo', 'ciudad_Miramar', 'ciudad_Monserrat',\n",
    "       'ciudad_Monte Castro', 'ciudad_Monte Hermoso', 'ciudad_Moreno',\n",
    "       'ciudad_Morón', 'ciudad_Necochea', 'ciudad_Neuquén',\n",
    "       'ciudad_Nuñez', 'ciudad_Olavarría', 'ciudad_Once',\n",
    "       'ciudad_Ostende', 'ciudad_Palermo', 'ciudad_Paraná',\n",
    "       'ciudad_Parque Avellaneda', 'ciudad_Parque Centenario',\n",
    "       'ciudad_Parque Chacabuco', 'ciudad_Parque Chas',\n",
    "       'ciudad_Parque Patricios', 'ciudad_Paternal', 'ciudad_Pergamino',\n",
    "       'ciudad_Pilar', 'ciudad_Pinamar', 'ciudad_Plottier',\n",
    "       'ciudad_Pompeya', 'ciudad_Posadas', 'ciudad_Puerto Madero',\n",
    "       'ciudad_Puerto Madryn', 'ciudad_Punilla', 'ciudad_Quilmes',\n",
    "       'ciudad_Rafaela', 'ciudad_Recoleta', 'ciudad_Resistencia',\n",
    "       'ciudad_Retiro', 'ciudad_Rincón de los Sauces', 'ciudad_Rivadavia',\n",
    "       'ciudad_Roldán', 'ciudad_Rosario', 'ciudad_Río Cuarto',\n",
    "       'ciudad_Río Tercero', 'ciudad_Saavedra', 'ciudad_Salta',\n",
    "       'ciudad_San Bernardo', 'ciudad_San Carlos de Bariloche',\n",
    "       'ciudad_San Clemente del Tuyú', 'ciudad_San Cristobal',\n",
    "       'ciudad_San Fernando', 'ciudad_San Francisco del Monte de Oro',\n",
    "       'ciudad_San Isidro', 'ciudad_San Juan', 'ciudad_San Lorenzo',\n",
    "       'ciudad_San Martín de los Andes', 'ciudad_San Miguel',\n",
    "       'ciudad_San Miguel del Monte', 'ciudad_San Nicolás',\n",
    "       'ciudad_San Salvador de Jujuy', 'ciudad_San Telmo',\n",
    "       'ciudad_San Vicente', 'ciudad_Santa Clara del Mar',\n",
    "       'ciudad_Santa Fe', 'ciudad_Santa Teresita', 'ciudad_Santo Tomé',\n",
    "       'ciudad_Tandil', 'ciudad_Tigre', 'ciudad_Trelew',\n",
    "       'ciudad_Tres Arroyos', 'ciudad_Tres de Febrero',\n",
    "       'ciudad_Tribunales', 'ciudad_Valeria del Mar',\n",
    "       'ciudad_Velez Sarsfield', 'ciudad_Versalles',\n",
    "       'ciudad_Vicente López', 'ciudad_Villa Allende',\n",
    "       'ciudad_Villa Carlos Paz', 'ciudad_Villa Cerro Catedral',\n",
    "       'ciudad_Villa Constitución', 'ciudad_Villa Crespo',\n",
    "       'ciudad_Villa Devoto', 'ciudad_Villa General Belgrano',\n",
    "       'ciudad_Villa General Mitre', 'ciudad_Villa Gesell',\n",
    "       'ciudad_Villa La Angostura', 'ciudad_Villa Lugano',\n",
    "       'ciudad_Villa Luro', 'ciudad_Villa María', 'ciudad_Villa Ortuzar',\n",
    "       'ciudad_Villa Pueyrredón', 'ciudad_Villa Real',\n",
    "       'ciudad_Villa Riachuelo', 'ciudad_Villa Santa Rita',\n",
    "       'ciudad_Villa Soldati', 'ciudad_Villa Urquiza',\n",
    "       'ciudad_Villa del Parque', 'ciudad_Yerba Buena']\n",
    "\n",
    "x=df_argentina[predictive_cols]\n",
    "y=df_argentina['price']\n",
    "\n",
    "x_train,x_test,y_train,y_test=train_test_split(x,y,test_size=0.2,random_state=42)"
   ]
  },
  {
   "cell_type": "code",
   "execution_count": 137,
   "metadata": {},
   "outputs": [
    {
     "name": "stdout",
     "output_type": "stream",
     "text": [
      "RMSE: 42030.598315\n",
      "RMSLE: 0.216998\n"
     ]
    }
   ],
   "source": [
    "xg_reg_arg = xgb.XGBRegressor(objective ='reg:tweedie', colsample_bytree = 1, learning_rate = 0.25,\n",
    "                max_depth = 5, alpha = 2, n_estimators = 500,random_state=42)\n",
    "\n",
    "xg_reg_arg.fit(x_train,y_train)\n",
    "\n",
    "preds = xg_reg_arg.predict(x_test)\n",
    "\n",
    "df_pred_cols=pd.DataFrame(preds,columns=[\"Prediction\"])\n",
    "df_pred_cols['Prediction']=abs(df_pred_cols['Prediction'])\n",
    "\n",
    "rmse = np.sqrt(mean_squared_error(y_test, df_pred_cols))\n",
    "print(\"RMSE: %f\" % (rmse))\n",
    "\n",
    "rmsle=np.sqrt(mean_squared_log_error(y_test,df_pred_cols))\n",
    "print(\"RMSLE: %f\" % (rmsle))"
   ]
  },
  {
   "cell_type": "markdown",
   "metadata": {},
   "source": [
    "#### I do the predictions"
   ]
  },
  {
   "cell_type": "code",
   "execution_count": 138,
   "metadata": {},
   "outputs": [],
   "source": [
    "df_test_argentina['provincia_departamento_Tucumán']=0\n",
    "df_test_argentina['provincia_departamento_Chaco']=0\n",
    "df_test_argentina['provincia_departamento_Jujuy']=0\n",
    "df_test_argentina['provincia_departamento_Chubut']=0\n",
    "\n",
    "\n",
    "categories=['ciudad_Pompeya', 'ciudad_Carrodilla', 'ciudad_Ensenada',\n",
    "            'ciudad_Las Heras', 'ciudad_Chacras de Coria', 'ciudad_Junín',\n",
    "            'ciudad_Villa Allende', 'ciudad_Las Grutas', 'ciudad_Exaltación de la Cruz',\n",
    "            'ciudad_Azul', 'ciudad_Berisso', 'ciudad_Yerba Buena', 'ciudad_Balcarce', 'ciudad_Necochea',\n",
    "            'ciudad_Colón', 'ciudad_Villa Soldati', 'ciudad_San Salvador de Jujuy', 'ciudad_Pergamino',\n",
    "            'ciudad_Villa General Belgrano', 'ciudad_Rivadavia', 'ciudad_Acambuco',\n",
    "            'ciudad_San Francisco del Monte de Oro', 'ciudad_Río Tercero', 'ciudad_Malargüe', \n",
    "            'ciudad_San Miguel del Monte', 'ciudad_Escalante', 'ciudad_Santo Tomé', 'ciudad_Trelew',\n",
    "            'ciudad_Campana', 'ciudad_Rincón de los Sauces', 'ciudad_General Madariaga', 'ciudad_Concordia',\n",
    "            'ciudad_Paraná', 'ciudad_Resistencia', 'ciudad_Olavarría', 'ciudad_San Vicente', 'ciudad_Villa María',\n",
    "            'ciudad_Villa Real', 'ciudad_Puerto Madryn', 'ciudad_Allen', 'ciudad_Roldán', 'ciudad_Santa Clara del Mar',\n",
    "            'ciudad_Tres Arroyos', 'ciudad_Rafaela', 'ciudad_Villa Riachuelo']\n",
    "\n",
    "for category in categories:\n",
    "    df_test_argentina[category]=0\n",
    "\n",
    "predictive_cols=['rooms', 'bathrooms',\n",
    "       'surface_total',\n",
    "       'provincia_departamento_Bs.As. G.B.A. Zona Norte',\n",
    "       'provincia_departamento_Bs.As. G.B.A. Zona Oeste',\n",
    "       'provincia_departamento_Bs.As. G.B.A. Zona Sur',\n",
    "       'provincia_departamento_Buenos Aires Costa Atlántica',\n",
    "       'provincia_departamento_Buenos Aires Interior',\n",
    "       'provincia_departamento_Capital Federal',\n",
    "       'provincia_departamento_Chaco', 'provincia_departamento_Chubut',\n",
    "       'provincia_departamento_Córdoba',\n",
    "       'provincia_departamento_Entre Ríos',\n",
    "       'provincia_departamento_Jujuy', 'provincia_departamento_Mendoza',\n",
    "       'provincia_departamento_Misiones',\n",
    "       'provincia_departamento_Neuquén',\n",
    "       'provincia_departamento_Río Negro', 'provincia_departamento_Salta',\n",
    "       'provincia_departamento_San Juan',\n",
    "       'provincia_departamento_San Luis',\n",
    "       'provincia_departamento_Santa Fe',\n",
    "       'provincia_departamento_Tucumán', 'ciudad_Abasto',\n",
    "       'ciudad_Acambuco', 'ciudad_Agronomía', 'ciudad_Allen',\n",
    "       'ciudad_Almagro', 'ciudad_Almirante Brown', 'ciudad_Avellaneda',\n",
    "       'ciudad_Azul', 'ciudad_Añelo', 'ciudad_Bahía Blanca',\n",
    "       'ciudad_Balcarce', 'ciudad_Balvanera', 'ciudad_Barracas',\n",
    "       'ciudad_Barrio Norte', 'ciudad_Belgrano', 'ciudad_Berazategui',\n",
    "       'ciudad_Berisso', 'ciudad_Boca', 'ciudad_Boedo',\n",
    "       'ciudad_Caballito', 'ciudad_Campana', 'ciudad_Carrodilla',\n",
    "       'ciudad_Centro / Microcentro', 'ciudad_Chacarita',\n",
    "       'ciudad_Chacras de Coria', 'ciudad_Cipolletti', 'ciudad_Coghlan',\n",
    "       'ciudad_Colegiales', 'ciudad_Colón', 'ciudad_Concordia',\n",
    "       'ciudad_Confluencia', 'ciudad_Congreso', 'ciudad_Constitución',\n",
    "       'ciudad_Costa del Este', 'ciudad_Córdoba', 'ciudad_Ensenada',\n",
    "       'ciudad_Escalante', 'ciudad_Escobar', 'ciudad_Esperanza',\n",
    "       'ciudad_Esteban Echeverría', 'ciudad_Exaltación de la Cruz',\n",
    "       'ciudad_Ezeiza', 'ciudad_Flores', 'ciudad_Floresta',\n",
    "       'ciudad_General Belgrano', 'ciudad_General Fernández Oro',\n",
    "       'ciudad_General Madariaga', 'ciudad_General Pueyrredón',\n",
    "       'ciudad_General Roca', 'ciudad_General Rodríguez',\n",
    "       'ciudad_General San Martín', 'ciudad_Godoy Cruz',\n",
    "       'ciudad_Granadero Baigorria', 'ciudad_Gualeguaychú',\n",
    "       'ciudad_Hurlingham', 'ciudad_Ituzaingó', 'ciudad_José C Paz',\n",
    "       'ciudad_Junín', 'ciudad_La Matanza', 'ciudad_La Plata',\n",
    "       'ciudad_Lanús', 'ciudad_Las Cañitas', 'ciudad_Las Grutas',\n",
    "       'ciudad_Las Heras', 'ciudad_Liniers', 'ciudad_Lobos',\n",
    "       'ciudad_Lomas de Zamora', 'ciudad_Luján', 'ciudad_Luján de Cuyo',\n",
    "       'ciudad_Lácar', 'ciudad_Maipú', 'ciudad_Malargüe',\n",
    "       'ciudad_Malvinas Argentinas', 'ciudad_Mar Chiquita',\n",
    "       'ciudad_Mar de Ajó', 'ciudad_Mar del Plata', 'ciudad_Mar del Tuyú',\n",
    "       'ciudad_Mataderos', 'ciudad_Mendoza', 'ciudad_Mercedes',\n",
    "       'ciudad_Merlo', 'ciudad_Miramar', 'ciudad_Monserrat',\n",
    "       'ciudad_Monte Castro', 'ciudad_Monte Hermoso', 'ciudad_Moreno',\n",
    "       'ciudad_Morón', 'ciudad_Necochea', 'ciudad_Neuquén',\n",
    "       'ciudad_Nuñez', 'ciudad_Olavarría', 'ciudad_Once',\n",
    "       'ciudad_Ostende', 'ciudad_Palermo', 'ciudad_Paraná',\n",
    "       'ciudad_Parque Avellaneda', 'ciudad_Parque Centenario',\n",
    "       'ciudad_Parque Chacabuco', 'ciudad_Parque Chas',\n",
    "       'ciudad_Parque Patricios', 'ciudad_Paternal', 'ciudad_Pergamino',\n",
    "       'ciudad_Pilar', 'ciudad_Pinamar', 'ciudad_Plottier',\n",
    "       'ciudad_Pompeya', 'ciudad_Posadas', 'ciudad_Puerto Madero',\n",
    "       'ciudad_Puerto Madryn', 'ciudad_Punilla', 'ciudad_Quilmes',\n",
    "       'ciudad_Rafaela', 'ciudad_Recoleta', 'ciudad_Resistencia',\n",
    "       'ciudad_Retiro', 'ciudad_Rincón de los Sauces', 'ciudad_Rivadavia',\n",
    "       'ciudad_Roldán', 'ciudad_Rosario', 'ciudad_Río Cuarto',\n",
    "       'ciudad_Río Tercero', 'ciudad_Saavedra', 'ciudad_Salta',\n",
    "       'ciudad_San Bernardo', 'ciudad_San Carlos de Bariloche',\n",
    "       'ciudad_San Clemente del Tuyú', 'ciudad_San Cristobal',\n",
    "       'ciudad_San Fernando', 'ciudad_San Francisco del Monte de Oro',\n",
    "       'ciudad_San Isidro', 'ciudad_San Juan', 'ciudad_San Lorenzo',\n",
    "       'ciudad_San Martín de los Andes', 'ciudad_San Miguel',\n",
    "       'ciudad_San Miguel del Monte', 'ciudad_San Nicolás',\n",
    "       'ciudad_San Salvador de Jujuy', 'ciudad_San Telmo',\n",
    "       'ciudad_San Vicente', 'ciudad_Santa Clara del Mar',\n",
    "       'ciudad_Santa Fe', 'ciudad_Santa Teresita', 'ciudad_Santo Tomé',\n",
    "       'ciudad_Tandil', 'ciudad_Tigre', 'ciudad_Trelew',\n",
    "       'ciudad_Tres Arroyos', 'ciudad_Tres de Febrero',\n",
    "       'ciudad_Tribunales', 'ciudad_Valeria del Mar',\n",
    "       'ciudad_Velez Sarsfield', 'ciudad_Versalles',\n",
    "       'ciudad_Vicente López', 'ciudad_Villa Allende',\n",
    "       'ciudad_Villa Carlos Paz', 'ciudad_Villa Cerro Catedral',\n",
    "       'ciudad_Villa Constitución', 'ciudad_Villa Crespo',\n",
    "       'ciudad_Villa Devoto', 'ciudad_Villa General Belgrano',\n",
    "       'ciudad_Villa General Mitre', 'ciudad_Villa Gesell',\n",
    "       'ciudad_Villa La Angostura', 'ciudad_Villa Lugano',\n",
    "       'ciudad_Villa Luro', 'ciudad_Villa María', 'ciudad_Villa Ortuzar',\n",
    "       'ciudad_Villa Pueyrredón', 'ciudad_Villa Real',\n",
    "       'ciudad_Villa Riachuelo', 'ciudad_Villa Santa Rita',\n",
    "       'ciudad_Villa Soldati', 'ciudad_Villa Urquiza',\n",
    "       'ciudad_Villa del Parque', 'ciudad_Yerba Buena']\n",
    "\n",
    "x_test=df_test_argentina[predictive_cols]"
   ]
  },
  {
   "cell_type": "code",
   "execution_count": 139,
   "metadata": {},
   "outputs": [],
   "source": [
    "predictions=xg_reg_arg.predict(x_test)"
   ]
  },
  {
   "cell_type": "code",
   "execution_count": 140,
   "metadata": {},
   "outputs": [],
   "source": [
    "df_test_argentina['Predictions']=predictions"
   ]
  },
  {
   "cell_type": "code",
   "execution_count": 141,
   "metadata": {},
   "outputs": [],
   "source": [
    "df_predictions_argentina=df_test_argentina[['Id','Predictions']]\n",
    "df_predictions_argentina.to_csv(r'C:\\Users\\feche\\Documents\\Curso Python\\datasets\\Apartamentos-latam\\XGBoost_Argentina_all_data_no_feature_engineering.csv',index=None)"
   ]
  },
  {
   "cell_type": "markdown",
   "metadata": {},
   "source": [
    "#### Grid Search"
   ]
  },
  {
   "cell_type": "code",
   "execution_count": 82,
   "metadata": {},
   "outputs": [],
   "source": [
    "from sklearn.model_selection import GridSearchCV"
   ]
  },
  {
   "cell_type": "code",
   "execution_count": 83,
   "metadata": {},
   "outputs": [],
   "source": [
    "estimator = xgb.XGBRegressor(\n",
    "    objective= 'reg:tweedie',\n",
    "    nthread=4,\n",
    "    seed=42\n",
    ")\n",
    "\n",
    "parameters = {\n",
    "    'max_depth': range (2, 5, 10),\n",
    "    'n_estimators': range(70, 150, 300),\n",
    "    'learning_rate': [0.01, 0.1, 0.2, 0.3]\n",
    "}\n",
    "\n",
    "grid_search = GridSearchCV(\n",
    "    estimator=estimator,\n",
    "    param_grid=parameters,\n",
    "    scoring = 'neg_mean_squared_log_error',\n",
    "    n_jobs = 10,\n",
    "    cv = 10,\n",
    "    verbose=True\n",
    ")"
   ]
  },
  {
   "cell_type": "code",
   "execution_count": 84,
   "metadata": {},
   "outputs": [
    {
     "name": "stdout",
     "output_type": "stream",
     "text": [
      "Fitting 10 folds for each of 4 candidates, totalling 40 fits\n"
     ]
    },
    {
     "name": "stderr",
     "output_type": "stream",
     "text": [
      "[Parallel(n_jobs=10)]: Using backend LokyBackend with 10 concurrent workers.\n",
      "[Parallel(n_jobs=10)]: Done  40 out of  40 | elapsed:   37.2s finished\n"
     ]
    },
    {
     "data": {
      "text/plain": [
       "GridSearchCV(cv=10, error_score=nan,\n",
       "             estimator=XGBRegressor(base_score=None, booster=None,\n",
       "                                    colsample_bylevel=None,\n",
       "                                    colsample_bynode=None,\n",
       "                                    colsample_bytree=None, gamma=None,\n",
       "                                    gpu_id=None, importance_type='gain',\n",
       "                                    interaction_constraints=None,\n",
       "                                    learning_rate=None, max_delta_step=None,\n",
       "                                    max_depth=None, min_child_weight=None,\n",
       "                                    missing=nan, monotone_constraints=None,\n",
       "                                    n_estim...\n",
       "                                    reg_alpha=None, reg_lambda=None,\n",
       "                                    scale_pos_weight=None, seed=42,\n",
       "                                    subsample=None, tree_method=None,\n",
       "                                    validate_parameters=None, verbosity=None),\n",
       "             iid='deprecated', n_jobs=10,\n",
       "             param_grid={'learning_rate': [0.01, 0.1, 0.2, 0.3],\n",
       "                         'max_depth': range(2, 5, 10),\n",
       "                         'n_estimators': range(70, 150, 300)},\n",
       "             pre_dispatch='2*n_jobs', refit=True, return_train_score=False,\n",
       "             scoring='neg_mean_squared_log_error', verbose=True)"
      ]
     },
     "execution_count": 84,
     "metadata": {},
     "output_type": "execute_result"
    }
   ],
   "source": [
    "grid_search.fit(x_train, y_train)"
   ]
  },
  {
   "cell_type": "code",
   "execution_count": 85,
   "metadata": {},
   "outputs": [
    {
     "data": {
      "text/plain": [
       "XGBRegressor(base_score=0.5, booster='gbtree', colsample_bylevel=1,\n",
       "             colsample_bynode=1, colsample_bytree=1, gamma=0, gpu_id=-1,\n",
       "             importance_type='gain', interaction_constraints='',\n",
       "             learning_rate=0.3, max_delta_step=0, max_depth=2,\n",
       "             min_child_weight=1, missing=nan, monotone_constraints='()',\n",
       "             n_estimators=70, n_jobs=4, nthread=4, num_parallel_tree=1,\n",
       "             objective='reg:tweedie', random_state=42, reg_alpha=0,\n",
       "             reg_lambda=1, scale_pos_weight=None, seed=42, subsample=1,\n",
       "             tree_method='exact', validate_parameters=1, verbosity=None)"
      ]
     },
     "execution_count": 85,
     "metadata": {},
     "output_type": "execute_result"
    }
   ],
   "source": [
    "grid_search.best_estimator_"
   ]
  },
  {
   "cell_type": "code",
   "execution_count": null,
   "metadata": {},
   "outputs": [],
   "source": []
  },
  {
   "cell_type": "markdown",
   "metadata": {},
   "source": [
    "### Model 9 - Feature Engineering for XGBoost"
   ]
  },
  {
   "cell_type": "code",
   "execution_count": 148,
   "metadata": {},
   "outputs": [
    {
     "name": "stderr",
     "output_type": "stream",
     "text": [
      "C:\\Users\\feche\\anaconda3\\lib\\site-packages\\pandas\\core\\indexing.py:966: SettingWithCopyWarning: \n",
      "A value is trying to be set on a copy of a slice from a DataFrame.\n",
      "Try using .loc[row_indexer,col_indexer] = value instead\n",
      "\n",
      "See the caveats in the documentation: https://pandas.pydata.org/pandas-docs/stable/user_guide/indexing.html#returning-a-view-versus-a-copy\n",
      "  self.obj[item] = s\n"
     ]
    }
   ],
   "source": [
    "df=pd.read_csv(r'C:\\Users\\feche\\Documents\\Curso Python\\datasets\\Apartamentos-latam\\Train.csv')\n",
    "df_test=pd.read_csv(r'C:\\Users\\feche\\Documents\\Curso Python\\datasets\\Apartamentos-latam\\Test.csv')\n",
    "\n",
    "df_colombia=df[df['pais']=='Colombia']\n",
    "df_argentina=df[df['pais']=='Argentina']\n",
    "\n",
    "df_test_colombia=df_test[df_test['pais']=='Colombia']\n",
    "df_test_argentina=df_test[df_test['pais']=='Argentina']\n",
    "\n",
    "#df_colombia=df_colombia[(df_colombia['provincia_departamento']=='Cundinamarca') | (df_colombia['provincia_departamento']=='Antioquia')| (df_colombia['provincia_departamento']=='Atlántico')| (df_colombia['provincia_departamento']=='Valle del Cauca')| (df_colombia['provincia_departamento']=='Santander')| (df_colombia['provincia_departamento']=='Risaralda')| (df_colombia['provincia_departamento']=='Tolima')| (df_colombia['provincia_departamento']=='Quindío')| (df_colombia['provincia_departamento']=='Norte de Santander')| (df_colombia['provincia_departamento']=='Bolívar')| (df_colombia['provincia_departamento']=='Magdalena')]\n",
    "#df_argentina=df_argentina[(df_argentina['provincia_departamento']=='Santa Fe') | (df_argentina['provincia_departamento']=='Capital Federal') | (df_argentina['provincia_departamento']=='Buenos Aires Costa Atlántica') | (df_argentina['provincia_departamento']=='Bs.As. G.B.A. Zona Norte') | (df_argentina['provincia_departamento']=='Bs.As. G.B.A. Zona Oeste') | (df_argentina['provincia_departamento']=='Bs.As. G.B.A. Zona Sur') | (df_argentina['provincia_departamento']=='Córdoba') | (df_argentina['provincia_departamento']=='Río Negro') | (df_argentina['provincia_departamento']=='Neuquén') | (df_argentina['provincia_departamento']=='Buenos Aires Interior') | (df_argentina['provincia_departamento']=='Salta') | (df_argentina['provincia_departamento']=='Mendoza') | (df_argentina['provincia_departamento']=='Misiones') | (df_argentina['provincia_departamento']=='Corrientes') | (df_argentina['provincia_departamento']=='San Juan') | (df_argentina['provincia_departamento']=='Entre Ríos') | (df_argentina['provincia_departamento']=='San Luis')]\n",
    "\n",
    "#Correciones de precios mal puestos\n",
    "df_colombia.loc[16166,'price']=233966\n",
    "df_colombia.loc[16166,'price']=233966\n",
    "df_colombia.loc[9093,'price']=71566\n",
    "df_colombia.loc[12408,'price']=63297\n",
    "df_colombia.loc[12408,'surface_total']=100\n",
    "df_colombia.loc[25309,'price']=72942\n",
    "df_argentina.loc[24084,'price']=315000\n",
    "df_argentina.loc[20385,'price']=260000\n",
    "df_argentina.loc[14865,'price']=190000\n",
    "df_argentina.loc[16720,'price']=170000\n",
    "df_argentina.loc[21378,'price']=165000\n",
    "\n",
    "categories=[\"provincia_departamento\"]\n",
    "\n",
    "for category in categories:\n",
    "    cat_dummies=pd.get_dummies(df_colombia[category], prefix=category)\n",
    "    df_train_new=df_colombia.join(cat_dummies)\n",
    "    df_colombia=df_train_new\n",
    "\n",
    "    cat_dummies=pd.get_dummies(df_argentina[category], prefix=category)\n",
    "    df_train_new=df_argentina.join(cat_dummies)\n",
    "    df_argentina=df_train_new\n",
    "\n",
    "for category in categories:\n",
    "    cat_dummies=pd.get_dummies(df_test_colombia[category], prefix=category)\n",
    "    df_test_new=df_test_colombia.join(cat_dummies)\n",
    "    df_test_colombia=df_test_new\n",
    "\n",
    "    cat_dummies=pd.get_dummies(df_test_argentina[category], prefix=category)\n",
    "    df_test_new=df_test_argentina.join(cat_dummies)\n",
    "    df_test_argentina=df_test_new"
   ]
  },
  {
   "cell_type": "code",
   "execution_count": 149,
   "metadata": {},
   "outputs": [],
   "source": [
    "df_argentina['extra_rooms']=df_argentina['rooms']-df_argentina['bedrooms']\n",
    "df_test_argentina['extra_rooms']=df_test_argentina['rooms']-df_test_argentina['bedrooms']"
   ]
  },
  {
   "cell_type": "code",
   "execution_count": 150,
   "metadata": {},
   "outputs": [],
   "source": [
    "df_colombia['social_bathroom']=((df_colombia['bathrooms']-df_colombia['rooms'])>=1).astype(int)\n",
    "df_test_colombia['social_bathroom']=((df_test_colombia['bathrooms']-df_test_colombia['rooms'])>=1).astype(int)\n",
    "\n",
    "df_argentina['social_bathroom']=((df_argentina['bathrooms']-df_argentina['rooms'])>=1).astype(int)\n",
    "df_test_argentina['social_bathroom']=((df_test_argentina['bathrooms']-df_test_argentina['rooms'])>=1).astype(int)"
   ]
  },
  {
   "cell_type": "code",
   "execution_count": 151,
   "metadata": {},
   "outputs": [
    {
     "data": {
      "text/plain": [
       "<matplotlib.axes._subplots.AxesSubplot at 0x195879e5588>"
      ]
     },
     "execution_count": 151,
     "metadata": {},
     "output_type": "execute_result"
    },
    {
     "data": {
      "image/png": "[encoded data removed]",
      "text/plain": [
       "<Figure size 432x288 with 1 Axes>"
      ]
     },
     "metadata": {},
     "output_type": "display_data"
    }
   ],
   "source": [
    "df_colombia.groupby('rooms')['price'].mean().plot()"
   ]
  },
  {
   "cell_type": "code",
   "execution_count": 152,
   "metadata": {},
   "outputs": [],
   "source": [
    "df_colombia['more_than_4_rooms']=(df_colombia['rooms']>4).astype(int)\n",
    "df_test_colombia['more_than_4_rooms']=(df_colombia['rooms']>4).astype(int)"
   ]
  },
  {
   "cell_type": "code",
   "execution_count": 153,
   "metadata": {},
   "outputs": [],
   "source": [
    "df_colombia['touristic_or_capital']=0\n",
    "df_colombia.loc[df_colombia['ciudad']==\"Cartagena\",'touristic_or_capital']=1\n",
    "df_colombia.loc[df_colombia['ciudad']==\"Santa Marta\",'touristic_or_capital']=1\n",
    "df_colombia.loc[df_colombia['ciudad']==\"Bogotá D.C\",'touristic_or_capital']=1\n",
    "df_colombia.loc[df_colombia['ciudad']==\"La Calera\",'touristic_or_capital']=1\n",
    "df_colombia.loc[df_colombia['ciudad']==\"Retiro\",'touristic_or_capital']=1\n",
    "df_colombia.loc[df_colombia['ciudad']==\"Cabrera\",'touristic_or_capital']=1\n",
    "df_colombia.loc[df_colombia['ciudad']==\"Agua de Dios\",'touristic_or_capital']=1\n",
    "df_colombia.loc[df_colombia['ciudad']==\"Envigado\",'touristic_or_capital']=1\n",
    "df_colombia.loc[df_colombia['ciudad']==\"Juan de Acosta\",'touristic_or_capital']=1\n",
    "df_colombia.loc[df_colombia['ciudad']==\"Medellín\",'touristic_or_capital']=1\n",
    "\n",
    "df_test_colombia['touristic_or_capital']=0\n",
    "df_test_colombia.loc[df_test_colombia['ciudad']==\"Cartagena\",'touristic_or_capital']=1\n",
    "df_test_colombia.loc[df_test_colombia['ciudad']==\"Santa Marta\",'touristic_or_capital']=1\n",
    "df_test_colombia.loc[df_test_colombia['ciudad']==\"Bogotá D.C\",'touristic_or_capital']=1\n",
    "df_test_colombia.loc[df_test_colombia['ciudad']==\"La Calera\",'touristic_or_capital']=1\n",
    "df_test_colombia.loc[df_test_colombia['ciudad']==\"Retiro\",'touristic_or_capital']=1\n",
    "df_test_colombia.loc[df_test_colombia['ciudad']==\"Cabrera\",'touristic_or_capital']=1\n",
    "df_test_colombia.loc[df_test_colombia['ciudad']==\"Agua de Dios\",'touristic_or_capital']=1\n",
    "df_test_colombia.loc[df_test_colombia['ciudad']==\"Envigado\",'touristic_or_capital']=1\n",
    "df_test_colombia.loc[df_test_colombia['ciudad']==\"Juan de Acosta\",'touristic_or_capital']=1\n",
    "df_test_colombia.loc[df_test_colombia['ciudad']==\"Medellín\",'touristic_or_capital']=1"
   ]
  },
  {
   "cell_type": "code",
   "execution_count": 154,
   "metadata": {
    "scrolled": false
   },
   "outputs": [
    {
     "data": {
      "text/plain": [
       "[Text(0, 0, 'Bahía Blanca'),\n",
       " Text(0, 0, 'Balvanera'),\n",
       " Text(0, 0, 'Barrio Norte'),\n",
       " Text(0, 0, 'Belgrano'),\n",
       " Text(0, 0, 'Caballito'),\n",
       " Text(0, 0, 'Colegiales'),\n",
       " Text(0, 0, 'Confluencia'),\n",
       " Text(0, 0, 'Córdoba'),\n",
       " Text(0, 0, 'Escobar'),\n",
       " Text(0, 0, 'Flores'),\n",
       " Text(0, 0, 'La Matanza'),\n",
       " Text(0, 0, 'Las Cañitas'),\n",
       " Text(0, 0, 'Lomas de Zamora'),\n",
       " Text(0, 0, 'Mar del Plata'),\n",
       " Text(0, 0, 'Monserrat'),\n",
       " Text(0, 0, 'Nuñez'),\n",
       " Text(0, 0, 'Palermo'),\n",
       " Text(0, 0, 'Pilar'),\n",
       " Text(0, 0, 'Puerto Madero'),\n",
       " Text(0, 0, 'Quilmes'),\n",
       " Text(0, 0, 'Recoleta'),\n",
       " Text(0, 0, 'Retiro'),\n",
       " Text(0, 0, 'Rosario'),\n",
       " Text(0, 0, 'San Isidro'),\n",
       " Text(0, 0, 'San Telmo'),\n",
       " Text(0, 0, 'Tigre'),\n",
       " Text(0, 0, 'Vicente López'),\n",
       " Text(0, 0, 'Villa Devoto'),\n",
       " Text(0, 0, 'Villa Lugano'),\n",
       " Text(0, 0, 'Villa Luro'),\n",
       " Text(0, 0, 'Villa Urquiza')]"
      ]
     },
     "execution_count": 154,
     "metadata": {},
     "output_type": "execute_result"
    },
    {
     "data": {
      "image/png": "[encoded data removed]",
      "text/plain": [
       "<Figure size 1080x576 with 1 Axes>"
      ]
     },
     "metadata": {},
     "output_type": "display_data"
    }
   ],
   "source": [
    "df_arg_expensive=df_argentina[df_argentina['price']>500000]\n",
    "ciudad_argentina=df_arg_expensive.groupby('ciudad')['price'].mean()\n",
    "ciudad_argentina=pd.DataFrame(ciudad_argentina).reset_index()\n",
    "plt.figure(figsize=(15,8))\n",
    "ax=sns.barplot(x='ciudad',y='price',data=ciudad_argentina)\n",
    "ax.set_xticklabels(ax.get_xticklabels(), rotation=90)"
   ]
  },
  {
   "cell_type": "code",
   "execution_count": 155,
   "metadata": {},
   "outputs": [],
   "source": [
    "df_argentina['touristic_or_capital']=0\n",
    "df_test_argentina['touristic_or_capital']=0\n",
    "categories=['Palermo', 'Belgrano', 'Recoleta', 'Barrio Norte', 'Puerto Madero',\n",
    "       'Rosario', 'Las Cañitas', 'Nuñez', 'Mar del Plata',\n",
    "       'Lomas de Zamora', 'Retiro', 'Caballito', 'Villa Devoto',\n",
    "       'Vicente López', 'Colegiales', 'Villa Urquiza', 'Quilmes',\n",
    "       'San Telmo', 'Pilar', 'San Isidro', 'Córdoba', 'Confluencia',\n",
    "       'Tigre', 'La Matanza', 'Bahía Blanca', 'Flores', 'Balvanera',\n",
    "       'Olavarría', 'Villa Luro', 'Villa Lugano', 'Escobar', 'Monserrat']\n",
    "\n",
    "for category in categories:\n",
    "   \n",
    "    df_argentina.loc[df_argentina['ciudad']==category,'touristic_or_capital']=1\n",
    "    df_test_argentina.loc[df_test_argentina['ciudad']==category,'touristic_or_capital']=1"
   ]
  },
  {
   "cell_type": "code",
   "execution_count": 156,
   "metadata": {},
   "outputs": [
    {
     "data": {
      "text/plain": [
       "array(['Palermo', 'Belgrano', 'Recoleta', 'Barrio Norte', 'Puerto Madero',\n",
       "       'Rosario', 'Las Cañitas', 'Nuñez', 'Mar del Plata',\n",
       "       'Lomas de Zamora', 'Retiro', 'Caballito', 'Villa Devoto',\n",
       "       'Vicente López', 'Colegiales', 'Villa Urquiza', 'Quilmes',\n",
       "       'San Telmo', 'Pilar', 'San Isidro', 'Córdoba', 'Confluencia',\n",
       "       'Tigre', 'La Matanza', 'Bahía Blanca', 'Flores', 'Balvanera',\n",
       "       'Villa Luro', 'Villa Lugano', 'Escobar', 'Monserrat'], dtype=object)"
      ]
     },
     "execution_count": 156,
     "metadata": {},
     "output_type": "execute_result"
    }
   ],
   "source": [
    "df_arg_expensive['ciudad'].unique()"
   ]
  },
  {
   "cell_type": "code",
   "execution_count": 157,
   "metadata": {},
   "outputs": [
    {
     "data": {
      "text/html": [
       "<div>\n",
       "<style scoped>\n",
       "    .dataframe tbody tr th:only-of-type {\n",
       "        vertical-align: middle;\n",
       "    }\n",
       "\n",
       "    .dataframe tbody tr th {\n",
       "        vertical-align: top;\n",
       "    }\n",
       "\n",
       "    .dataframe thead th {\n",
       "        text-align: right;\n",
       "    }\n",
       "</style>\n",
       "<table border=\"1\" class=\"dataframe\">\n",
       "  <thead>\n",
       "    <tr style=\"text-align: right;\">\n",
       "      <th></th>\n",
       "      <th>Id</th>\n",
       "      <th>pais</th>\n",
       "      <th>provincia_departamento</th>\n",
       "      <th>ciudad</th>\n",
       "      <th>property_type</th>\n",
       "      <th>operation_type</th>\n",
       "      <th>rooms</th>\n",
       "      <th>bedrooms</th>\n",
       "      <th>bathrooms</th>\n",
       "      <th>surface_total</th>\n",
       "      <th>...</th>\n",
       "      <th>provincia_departamento_Meta</th>\n",
       "      <th>provincia_departamento_Norte de Santander</th>\n",
       "      <th>provincia_departamento_Quindío</th>\n",
       "      <th>provincia_departamento_Risaralda</th>\n",
       "      <th>provincia_departamento_Santander</th>\n",
       "      <th>provincia_departamento_Tolima</th>\n",
       "      <th>provincia_departamento_Valle del Cauca</th>\n",
       "      <th>social_bathroom</th>\n",
       "      <th>more_than_4_rooms</th>\n",
       "      <th>touristic_or_capital</th>\n",
       "    </tr>\n",
       "  </thead>\n",
       "  <tbody>\n",
       "    <tr>\n",
       "      <th>2</th>\n",
       "      <td>2</td>\n",
       "      <td>Colombia</td>\n",
       "      <td>Atlántico</td>\n",
       "      <td>Barranquilla</td>\n",
       "      <td>Apartamento</td>\n",
       "      <td>Venta</td>\n",
       "      <td>3.0</td>\n",
       "      <td>3.0</td>\n",
       "      <td>3.0</td>\n",
       "      <td>95.0</td>\n",
       "      <td>...</td>\n",
       "      <td>0</td>\n",
       "      <td>0</td>\n",
       "      <td>0</td>\n",
       "      <td>0</td>\n",
       "      <td>0</td>\n",
       "      <td>0</td>\n",
       "      <td>0</td>\n",
       "      <td>0</td>\n",
       "      <td>0</td>\n",
       "      <td>0</td>\n",
       "    </tr>\n",
       "    <tr>\n",
       "      <th>3</th>\n",
       "      <td>3</td>\n",
       "      <td>Colombia</td>\n",
       "      <td>Valle del Cauca</td>\n",
       "      <td>Cali</td>\n",
       "      <td>Apartamento</td>\n",
       "      <td>Venta</td>\n",
       "      <td>3.0</td>\n",
       "      <td>3.0</td>\n",
       "      <td>1.0</td>\n",
       "      <td>60.0</td>\n",
       "      <td>...</td>\n",
       "      <td>0</td>\n",
       "      <td>0</td>\n",
       "      <td>0</td>\n",
       "      <td>0</td>\n",
       "      <td>0</td>\n",
       "      <td>0</td>\n",
       "      <td>1</td>\n",
       "      <td>0</td>\n",
       "      <td>0</td>\n",
       "      <td>0</td>\n",
       "    </tr>\n",
       "    <tr>\n",
       "      <th>5</th>\n",
       "      <td>5</td>\n",
       "      <td>Colombia</td>\n",
       "      <td>Santander</td>\n",
       "      <td>Floridablanca</td>\n",
       "      <td>Apartamento</td>\n",
       "      <td>Venta</td>\n",
       "      <td>3.0</td>\n",
       "      <td>3.0</td>\n",
       "      <td>2.0</td>\n",
       "      <td>75.0</td>\n",
       "      <td>...</td>\n",
       "      <td>0</td>\n",
       "      <td>0</td>\n",
       "      <td>0</td>\n",
       "      <td>0</td>\n",
       "      <td>1</td>\n",
       "      <td>0</td>\n",
       "      <td>0</td>\n",
       "      <td>0</td>\n",
       "      <td>0</td>\n",
       "      <td>0</td>\n",
       "    </tr>\n",
       "  </tbody>\n",
       "</table>\n",
       "<p>3 rows × 31 columns</p>\n",
       "</div>"
      ],
      "text/plain": [
       "   Id      pais provincia_departamento         ciudad property_type  \\\n",
       "2   2  Colombia              Atlántico   Barranquilla   Apartamento   \n",
       "3   3  Colombia        Valle del Cauca           Cali   Apartamento   \n",
       "5   5  Colombia              Santander  Floridablanca   Apartamento   \n",
       "\n",
       "  operation_type  rooms  bedrooms  bathrooms  surface_total  ...  \\\n",
       "2          Venta    3.0       3.0        3.0           95.0  ...   \n",
       "3          Venta    3.0       3.0        1.0           60.0  ...   \n",
       "5          Venta    3.0       3.0        2.0           75.0  ...   \n",
       "\n",
       "  provincia_departamento_Meta  provincia_departamento_Norte de Santander  \\\n",
       "2                           0                                          0   \n",
       "3                           0                                          0   \n",
       "5                           0                                          0   \n",
       "\n",
       "   provincia_departamento_Quindío  provincia_departamento_Risaralda  \\\n",
       "2                               0                                 0   \n",
       "3                               0                                 0   \n",
       "5                               0                                 0   \n",
       "\n",
       "   provincia_departamento_Santander  provincia_departamento_Tolima  \\\n",
       "2                                 0                              0   \n",
       "3                                 0                              0   \n",
       "5                                 1                              0   \n",
       "\n",
       "   provincia_departamento_Valle del Cauca  social_bathroom  more_than_4_rooms  \\\n",
       "2                                       0                0                  0   \n",
       "3                                       1                0                  0   \n",
       "5                                       0                0                  0   \n",
       "\n",
       "   touristic_or_capital  \n",
       "2                     0  \n",
       "3                     0  \n",
       "5                     0  \n",
       "\n",
       "[3 rows x 31 columns]"
      ]
     },
     "execution_count": 157,
     "metadata": {},
     "output_type": "execute_result"
    }
   ],
   "source": [
    "df_colombia.head(3)"
   ]
  },
  {
   "cell_type": "code",
   "execution_count": 158,
   "metadata": {},
   "outputs": [
    {
     "data": {
      "text/plain": [
       "((array([-3.77798541, -3.55100306, -3.42630245, ...,  3.42630245,\n",
       "          3.55100306,  3.77798541]),\n",
       "  array([ 14.,  18.,  21., ..., 345., 346., 347.])),\n",
       " (51.628200364924105, 103.49441149635035, 0.9132217015767892))"
      ]
     },
     "execution_count": 158,
     "metadata": {},
     "output_type": "execute_result"
    },
    {
     "data": {
      "image/png": "[encoded data removed]",
      "text/plain": [
       "<Figure size 432x288 with 1 Axes>"
      ]
     },
     "metadata": {},
     "output_type": "display_data"
    }
   ],
   "source": [
    "stats.probplot(df_colombia['surface_total'], dist=\"norm\",plot=plt)"
   ]
  },
  {
   "cell_type": "code",
   "execution_count": 167,
   "metadata": {},
   "outputs": [
    {
     "data": {
      "text/plain": [
       "((array([-3.93828402, -3.72002581, -3.6005055 , ...,  3.6005055 ,\n",
       "          3.72002581,  3.93828402]),\n",
       "  array([ 12.,  12.,  12., ..., 347., 347., 347.])),\n",
       " (39.335878747469806, 66.24088325834717, 0.8438713021952852))"
      ]
     },
     "execution_count": 167,
     "metadata": {},
     "output_type": "execute_result"
    },
    {
     "data": {
      "image/png": "[encoded data removed]",
      "text/plain": [
       "<Figure size 432x288 with 1 Axes>"
      ]
     },
     "metadata": {},
     "output_type": "display_data"
    }
   ],
   "source": [
    "stats.probplot(df_argentina['surface_total'], dist=\"norm\",plot=plt)"
   ]
  },
  {
   "cell_type": "code",
   "execution_count": 159,
   "metadata": {},
   "outputs": [
    {
     "name": "stdout",
     "output_type": "stream",
     "text": [
      "Lambda after Box-cox for Colombia is: -0.39\n",
      "Lambda after Box-cox for Argentina is: -0.59\n"
     ]
    }
   ],
   "source": [
    "surface_total,fitted_lambda_col = stats.boxcox(df_colombia['surface_total'])\n",
    "box_col=round(fitted_lambda_col,2)\n",
    "print(\"Lambda after Box-cox for Colombia is:\",box_col)\n",
    "\n",
    "surface_total,fitted_lambda_arg = stats.boxcox(df_argentina['surface_total'])\n",
    "box_arg=round(fitted_lambda_arg,2)\n",
    "print(\"Lambda after Box-cox for Argentina is:\",box_arg)"
   ]
  },
  {
   "cell_type": "code",
   "execution_count": 160,
   "metadata": {},
   "outputs": [],
   "source": [
    "df_colombia['box_surface_total']=boxcox(df_colombia['surface_total'],fitted_lambda_col)\n",
    "df_argentina['box_surface_total']=boxcox(df_argentina['surface_total'],fitted_lambda_arg)"
   ]
  },
  {
   "cell_type": "code",
   "execution_count": 161,
   "metadata": {},
   "outputs": [
    {
     "data": {
      "text/plain": [
       "((array([-3.77798541, -3.55100306, -3.42630245, ...,  3.42630245,\n",
       "          3.55100306,  3.77798541]),\n",
       "  array([1.64482171, 1.72993706, 1.7781467 , ..., 2.29390776, 2.29420092,\n",
       "         2.29449289])),\n",
       " (0.07825283233658455, 2.1108410169211105, 0.9961986826437351))"
      ]
     },
     "execution_count": 161,
     "metadata": {},
     "output_type": "execute_result"
    },
    {
     "data": {
      "image/png": "[encoded data removed]",
      "text/plain": [
       "<Figure size 432x288 with 1 Axes>"
      ]
     },
     "metadata": {},
     "output_type": "display_data"
    }
   ],
   "source": [
    "stats.probplot(df_colombia['box_surface_total'], dist=\"norm\",plot=plt)"
   ]
  },
  {
   "cell_type": "code",
   "execution_count": 168,
   "metadata": {},
   "outputs": [
    {
     "data": {
      "text/plain": [
       "((array([-3.93828402, -3.72002581, -3.6005055 , ...,  3.6005055 ,\n",
       "          3.72002581,  3.93828402]),\n",
       "  array([1.3078734 , 1.3078734 , 1.3078734 , ..., 1.64953372, 1.64953372,\n",
       "         1.64953372])),\n",
       " (0.04601959100887021, 1.5375297994908934, 0.9964901321707859))"
      ]
     },
     "execution_count": 168,
     "metadata": {},
     "output_type": "execute_result"
    },
    {
     "data": {
      "image/png": "[encoded data removed]",
      "text/plain": [
       "<Figure size 432x288 with 1 Axes>"
      ]
     },
     "metadata": {},
     "output_type": "display_data"
    }
   ],
   "source": [
    "stats.probplot(df_argentina['box_surface_total'], dist=\"norm\",plot=plt)"
   ]
  },
  {
   "cell_type": "markdown",
   "metadata": {},
   "source": [
    "#### Boxcox to price"
   ]
  },
  {
   "cell_type": "code",
   "execution_count": 169,
   "metadata": {},
   "outputs": [
    {
     "data": {
      "text/plain": [
       "((array([-3.77798541, -3.55100306, -3.42630245, ...,  3.42630245,\n",
       "          3.55100306,  3.77798541]),\n",
       "  array([   7707.,   13763.,   15139., ..., 1238646., 1252959., 1475365.])),\n",
       " (102717.27568264747, 130420.42917427004, 0.8236747311320102))"
      ]
     },
     "execution_count": 169,
     "metadata": {},
     "output_type": "execute_result"
    },
    {
     "data": {
      "image/png": "[encoded data removed]",
      "text/plain": [
       "<Figure size 432x288 with 1 Axes>"
      ]
     },
     "metadata": {},
     "output_type": "display_data"
    }
   ],
   "source": [
    "stats.probplot(df_colombia['price'], dist=\"norm\",plot=plt)"
   ]
  },
  {
   "cell_type": "code",
   "execution_count": 170,
   "metadata": {},
   "outputs": [
    {
     "data": {
      "text/plain": [
       "((array([-3.93828402, -3.72002581, -3.6005055 , ...,  3.6005055 ,\n",
       "          3.72002581,  3.93828402]),\n",
       "  array([   6009.,   10800.,   10900., ..., 3450000., 3450000., 3450000.])),\n",
       " (174111.9947446267, 183160.74905280615, 0.6783052107113653))"
      ]
     },
     "execution_count": 170,
     "metadata": {},
     "output_type": "execute_result"
    },
    {
     "data": {
      "image/png": "[encoded data removed]",
      "text/plain": [
       "<Figure size 432x288 with 1 Axes>"
      ]
     },
     "metadata": {},
     "output_type": "display_data"
    }
   ],
   "source": [
    "stats.probplot(df_argentina['price'], dist=\"norm\",plot=plt)"
   ]
  },
  {
   "cell_type": "code",
   "execution_count": 171,
   "metadata": {},
   "outputs": [
    {
     "name": "stdout",
     "output_type": "stream",
     "text": [
      "Lambda after Box-cox for Colombia is: -0.24\n",
      "Lambda after Box-cox for Argentina is: -0.41\n"
     ]
    }
   ],
   "source": [
    "price,fitted_lambda_col = stats.boxcox(df_colombia['price'])\n",
    "box_col=round(fitted_lambda_col,2)\n",
    "print(\"Lambda after Box-cox for Colombia is:\",box_col)\n",
    "\n",
    "price,fitted_lambda_arg = stats.boxcox(df_argentina['price'])\n",
    "box_arg=round(fitted_lambda_arg,2)\n",
    "print(\"Lambda after Box-cox for Argentina is:\",box_arg)\n",
    "\n",
    "df_colombia['box_price']=boxcox(df_colombia['price'],fitted_lambda_col)\n",
    "df_argentina['box_price']=boxcox(df_argentina['price'],fitted_lambda_arg)"
   ]
  },
  {
   "cell_type": "code",
   "execution_count": 172,
   "metadata": {},
   "outputs": [
    {
     "data": {
      "text/plain": [
       "((array([-3.77798541, -3.55100306, -3.42630245, ...,  3.42630245,\n",
       "          3.55100306,  3.77798541]),\n",
       "  array([3.63150666, 3.69212147, 3.70128601, ..., 3.95763684, 3.95800837,\n",
       "         3.96318076])),\n",
       " (0.04225406379344342, 3.840069218062945, 0.998976482051504))"
      ]
     },
     "execution_count": 172,
     "metadata": {},
     "output_type": "execute_result"
    },
    {
     "data": {
      "image/png": "[encoded data removed]",
      "text/plain": [
       "<Figure size 432x288 with 1 Axes>"
      ]
     },
     "metadata": {},
     "output_type": "display_data"
    }
   ],
   "source": [
    "stats.probplot(df_colombia['box_price'], dist=\"norm\",plot=plt)"
   ]
  },
  {
   "cell_type": "code",
   "execution_count": 173,
   "metadata": {},
   "outputs": [
    {
     "data": {
      "text/plain": [
       "((array([-3.93828402, -3.72002581, -3.6005055 , ...,  3.6005055 ,\n",
       "          3.72002581,  3.93828402]),\n",
       "  array([2.34743942, 2.36157742, 2.36177339, ..., 2.40827104, 2.40827104,\n",
       "         2.40827104])),\n",
       " (0.005189111873788965, 2.393666518763282, 0.9944283644567454))"
      ]
     },
     "execution_count": 173,
     "metadata": {},
     "output_type": "execute_result"
    },
    {
     "data": {
      "image/png": "[encoded data removed]",
      "text/plain": [
       "<Figure size 432x288 with 1 Axes>"
      ]
     },
     "metadata": {},
     "output_type": "display_data"
    }
   ],
   "source": [
    "stats.probplot(df_argentina['box_price'], dist=\"norm\",plot=plt)"
   ]
  },
  {
   "cell_type": "markdown",
   "metadata": {},
   "source": [
    "#### Colombia"
   ]
  },
  {
   "cell_type": "code",
   "execution_count": 162,
   "metadata": {},
   "outputs": [
    {
     "data": {
      "text/plain": [
       "array(['Id', 'pais', 'provincia_departamento', 'ciudad', 'property_type',\n",
       "       'operation_type', 'rooms', 'bedrooms', 'bathrooms',\n",
       "       'surface_total', 'currency', 'price',\n",
       "       'provincia_departamento_Antioquia',\n",
       "       'provincia_departamento_Atlántico',\n",
       "       'provincia_departamento_Bolívar', 'provincia_departamento_Boyacá',\n",
       "       'provincia_departamento_Cauca',\n",
       "       'provincia_departamento_Cundinamarca',\n",
       "       'provincia_departamento_Córdoba', 'provincia_departamento_Huila',\n",
       "       'provincia_departamento_Magdalena', 'provincia_departamento_Meta',\n",
       "       'provincia_departamento_Norte de Santander',\n",
       "       'provincia_departamento_Quindío',\n",
       "       'provincia_departamento_Risaralda',\n",
       "       'provincia_departamento_Santander',\n",
       "       'provincia_departamento_Tolima',\n",
       "       'provincia_departamento_Valle del Cauca', 'social_bathroom',\n",
       "       'more_than_4_rooms', 'touristic_or_capital', 'box_surface_total'],\n",
       "      dtype=object)"
      ]
     },
     "execution_count": 162,
     "metadata": {},
     "output_type": "execute_result"
    }
   ],
   "source": [
    "df_colombia.columns.values"
   ]
  },
  {
   "cell_type": "code",
   "execution_count": 165,
   "metadata": {},
   "outputs": [],
   "source": [
    "predictive_cols=['rooms', 'bathrooms',\n",
    "       'surface_total', 'provincia_departamento_Antioquia',\n",
    "       'provincia_departamento_Atlántico',\n",
    "       'provincia_departamento_Bolívar', 'provincia_departamento_Boyacá',\n",
    "       'provincia_departamento_Cauca',\n",
    "       'provincia_departamento_Cundinamarca',\n",
    "       'provincia_departamento_Córdoba', 'provincia_departamento_Huila',\n",
    "       'provincia_departamento_Magdalena', 'provincia_departamento_Meta',\n",
    "       'provincia_departamento_Norte de Santander',\n",
    "       'provincia_departamento_Quindío',\n",
    "       'provincia_departamento_Risaralda',\n",
    "       'provincia_departamento_Santander',\n",
    "       'provincia_departamento_Tolima',\n",
    "       'provincia_departamento_Valle del Cauca', 'social_bathroom',\n",
    "       'more_than_4_rooms', 'touristic_or_capital']\n",
    "\n",
    "x=df_colombia[predictive_cols]\n",
    "y=df_colombia['price']\n",
    "\n",
    "x_train,x_test,y_train,y_test=train_test_split(x,y,test_size=0.2,random_state=42) #Note:for predictions I should change the test_size to 0.01"
   ]
  },
  {
   "cell_type": "code",
   "execution_count": 166,
   "metadata": {},
   "outputs": [
    {
     "name": "stdout",
     "output_type": "stream",
     "text": [
      "RMSE: 61929.301162\n",
      "RMSLE: 0.262767\n"
     ]
    }
   ],
   "source": [
    "xg_reg_col = xgb.XGBRegressor(objective ='reg:squarederror', colsample_bytree = 0.9, learning_rate = 0.2,\n",
    "                max_depth = 5, alpha = 2, n_estimators = 70,random_state=42)\n",
    "\n",
    "xg_reg_col.fit(x_train,y_train)\n",
    "\n",
    "preds = xg_reg_col.predict(x_test)\n",
    "\n",
    "df_pred_cols=pd.DataFrame(preds,columns=[\"Prediction\"])\n",
    "#df_pred_cols['Prediction']=abs(df_pred_cols['Prediction'])\n",
    "\n",
    "rmse = np.sqrt(mean_squared_error(y_test, df_pred_cols))\n",
    "print(\"RMSE: %f\" % (rmse))\n",
    "\n",
    "rmsle=np.sqrt(mean_squared_log_error(y_test,df_pred_cols))\n",
    "print(\"RMSLE: %f\" % (rmsle))"
   ]
  },
  {
   "cell_type": "markdown",
   "metadata": {},
   "source": [
    "#### I do the predictions"
   ]
  },
  {
   "cell_type": "code",
   "execution_count": 461,
   "metadata": {},
   "outputs": [],
   "source": [
    "df_test_colombia['provincia_departamento_Boyacá']=0\n",
    "df_test_colombia['provincia_departamento_Cauca']=0\n",
    "df_test_colombia['provincia_departamento_Córdoba']=0\n",
    "df_test_colombia['provincia_departamento_Huila']=0\n",
    "df_test_colombia['provincia_departamento_Meta']=0\n",
    "df_test_colombia['provincia_departamento_Quindío']=0\n",
    "\n",
    "\n",
    "predictive_cols=['rooms', 'bathrooms',\n",
    "       'surface_total',  'provincia_departamento_Antioquia',\n",
    "       'provincia_departamento_Atlántico',\n",
    "       'provincia_departamento_Bolívar', 'provincia_departamento_Boyacá',\n",
    "       'provincia_departamento_Cauca',\n",
    "       'provincia_departamento_Cundinamarca',\n",
    "       'provincia_departamento_Córdoba', 'provincia_departamento_Huila',\n",
    "       'provincia_departamento_Magdalena', 'provincia_departamento_Meta',\n",
    "       'provincia_departamento_Norte de Santander',\n",
    "       'provincia_departamento_Quindío',\n",
    "       'provincia_departamento_Risaralda',\n",
    "       'provincia_departamento_Santander',\n",
    "       'provincia_departamento_Tolima',\n",
    "       'provincia_departamento_Valle del Cauca', 'social_bathroom',\n",
    "       'more_than_4_rooms', 'touristic_or_capital']\n",
    "\n",
    "x_test=df_test_colombia[predictive_cols]"
   ]
  },
  {
   "cell_type": "code",
   "execution_count": 462,
   "metadata": {},
   "outputs": [
    {
     "data": {
      "text/plain": [
       "array(['Id', 'pais', 'provincia_departamento', 'ciudad', 'property_type',\n",
       "       'operation_type', 'rooms', 'bedrooms', 'bathrooms',\n",
       "       'surface_total', 'currency', 'price',\n",
       "       'provincia_departamento_Antioquia',\n",
       "       'provincia_departamento_Atlántico',\n",
       "       'provincia_departamento_Bolívar', 'provincia_departamento_Boyacá',\n",
       "       'provincia_departamento_Cauca',\n",
       "       'provincia_departamento_Cundinamarca',\n",
       "       'provincia_departamento_Córdoba', 'provincia_departamento_Huila',\n",
       "       'provincia_departamento_Magdalena', 'provincia_departamento_Meta',\n",
       "       'provincia_departamento_Norte de Santander',\n",
       "       'provincia_departamento_Quindío',\n",
       "       'provincia_departamento_Risaralda',\n",
       "       'provincia_departamento_Santander',\n",
       "       'provincia_departamento_Tolima',\n",
       "       'provincia_departamento_Valle del Cauca', 'social_bathroom',\n",
       "       'more_than_4_rooms', 'touristic_or_capital'], dtype=object)"
      ]
     },
     "execution_count": 462,
     "metadata": {},
     "output_type": "execute_result"
    }
   ],
   "source": [
    "df_colombia.columns.values"
   ]
  },
  {
   "cell_type": "code",
   "execution_count": 463,
   "metadata": {},
   "outputs": [],
   "source": [
    "predictions=xg_reg_col.predict(x_test)"
   ]
  },
  {
   "cell_type": "code",
   "execution_count": 464,
   "metadata": {},
   "outputs": [],
   "source": [
    "df_test_colombia['Predictions']=predictions"
   ]
  },
  {
   "cell_type": "code",
   "execution_count": 465,
   "metadata": {},
   "outputs": [],
   "source": [
    "df_predictions_colombia=df_test_colombia[['Id','Predictions']]\n",
    "df_predictions_colombia.to_csv(r'C:\\Users\\feche\\Documents\\Curso Python\\datasets\\Apartamentos-latam\\XGBoost_Colombia_feature_engineering_all_data.csv',index=None)"
   ]
  },
  {
   "cell_type": "markdown",
   "metadata": {},
   "source": [
    "#### Argentina"
   ]
  },
  {
   "cell_type": "code",
   "execution_count": 466,
   "metadata": {},
   "outputs": [],
   "source": [
    "predictive_cols=['rooms', 'bathrooms',\n",
    "       'surface_total', 'provincia_departamento_Bs.As. G.B.A. Zona Norte',\n",
    "       'provincia_departamento_Bs.As. G.B.A. Zona Oeste',\n",
    "       'provincia_departamento_Bs.As. G.B.A. Zona Sur',\n",
    "       'provincia_departamento_Buenos Aires Costa Atlántica',\n",
    "       'provincia_departamento_Buenos Aires Interior',\n",
    "       'provincia_departamento_Capital Federal',\n",
    "       'provincia_departamento_Chaco', 'provincia_departamento_Chubut',\n",
    "       'provincia_departamento_Córdoba',\n",
    "       'provincia_departamento_Entre Ríos',\n",
    "       'provincia_departamento_Jujuy', 'provincia_departamento_Mendoza',\n",
    "       'provincia_departamento_Misiones',\n",
    "       'provincia_departamento_Neuquén',\n",
    "       'provincia_departamento_Río Negro', 'provincia_departamento_Salta',\n",
    "       'provincia_departamento_San Juan',\n",
    "       'provincia_departamento_San Luis',\n",
    "       'provincia_departamento_Santa Fe',\n",
    "       'provincia_departamento_Tucumán', 'extra_rooms', 'social_bathroom',\n",
    "       'touristic_or_capital']\n",
    "\n",
    "x=df_argentina[predictive_cols]\n",
    "y=df_argentina['price']\n",
    "\n",
    "x_train,x_test,y_train,y_test=train_test_split(x,y,test_size=0.2,random_state=42) #Note:for predictions I should change the test_size to 0.01"
   ]
  },
  {
   "cell_type": "code",
   "execution_count": 467,
   "metadata": {},
   "outputs": [
    {
     "data": {
      "text/plain": [
       "array(['Id', 'pais', 'provincia_departamento', 'ciudad', 'property_type',\n",
       "       'operation_type', 'rooms', 'bedrooms', 'bathrooms',\n",
       "       'surface_total', 'currency', 'price',\n",
       "       'provincia_departamento_Bs.As. G.B.A. Zona Norte',\n",
       "       'provincia_departamento_Bs.As. G.B.A. Zona Oeste',\n",
       "       'provincia_departamento_Bs.As. G.B.A. Zona Sur',\n",
       "       'provincia_departamento_Buenos Aires Costa Atlántica',\n",
       "       'provincia_departamento_Buenos Aires Interior',\n",
       "       'provincia_departamento_Capital Federal',\n",
       "       'provincia_departamento_Chaco', 'provincia_departamento_Chubut',\n",
       "       'provincia_departamento_Córdoba',\n",
       "       'provincia_departamento_Entre Ríos',\n",
       "       'provincia_departamento_Jujuy', 'provincia_departamento_Mendoza',\n",
       "       'provincia_departamento_Misiones',\n",
       "       'provincia_departamento_Neuquén',\n",
       "       'provincia_departamento_Río Negro', 'provincia_departamento_Salta',\n",
       "       'provincia_departamento_San Juan',\n",
       "       'provincia_departamento_San Luis',\n",
       "       'provincia_departamento_Santa Fe',\n",
       "       'provincia_departamento_Tucumán', 'extra_rooms', 'social_bathroom',\n",
       "       'touristic_or_capital'], dtype=object)"
      ]
     },
     "execution_count": 467,
     "metadata": {},
     "output_type": "execute_result"
    }
   ],
   "source": [
    "df_argentina.columns.values"
   ]
  },
  {
   "cell_type": "code",
   "execution_count": 468,
   "metadata": {},
   "outputs": [],
   "source": [
    "xg_reg_arg = xgb.XGBRegressor(objective ='reg:squarederror', colsample_bytree = 0.9, learning_rate = 0.2,\n",
    "                max_depth = 5, alpha = 2, n_estimators = 70,random_state=42)\n",
    "\n",
    "xg_reg_arg.fit(x_train,y_train)\n",
    "\n",
    "preds = xg_reg_arg.predict(x_test)\n",
    "\n",
    "df_pred_cols=pd.DataFrame(preds,columns=[\"Prediction\"])\n",
    "df_pred_cols['Prediction']=abs(df_pred_cols['Prediction'])"
   ]
  },
  {
   "cell_type": "code",
   "execution_count": 469,
   "metadata": {},
   "outputs": [
    {
     "name": "stdout",
     "output_type": "stream",
     "text": [
      "RMSE: 96832.852216\n",
      "RMSLE: 0.289476\n"
     ]
    }
   ],
   "source": [
    "rmse = np.sqrt(mean_squared_error(y_test, df_pred_cols))\n",
    "print(\"RMSE: %f\" % (rmse))\n",
    "\n",
    "rmsle=np.sqrt(mean_squared_log_error(y_test,df_pred_cols))\n",
    "print(\"RMSLE: %f\" % (rmsle))"
   ]
  },
  {
   "cell_type": "markdown",
   "metadata": {},
   "source": [
    "#### I do the predictions"
   ]
  },
  {
   "cell_type": "code",
   "execution_count": 470,
   "metadata": {},
   "outputs": [],
   "source": [
    "df_test_argentina['provincia_departamento_Tucumán']=0\n",
    "df_test_argentina['provincia_departamento_Chaco']=0\n",
    "df_test_argentina['provincia_departamento_Jujuy']=0\n",
    "df_test_argentina['provincia_departamento_Chubut']=0\n",
    "\n",
    "predictive_cols=['rooms', 'bathrooms',\n",
    "       'surface_total',  'provincia_departamento_Bs.As. G.B.A. Zona Norte',\n",
    "       'provincia_departamento_Bs.As. G.B.A. Zona Oeste',\n",
    "       'provincia_departamento_Bs.As. G.B.A. Zona Sur',\n",
    "       'provincia_departamento_Buenos Aires Costa Atlántica',\n",
    "       'provincia_departamento_Buenos Aires Interior',\n",
    "       'provincia_departamento_Capital Federal',\n",
    "       'provincia_departamento_Chaco', 'provincia_departamento_Chubut',\n",
    "       'provincia_departamento_Córdoba',\n",
    "       'provincia_departamento_Entre Ríos',\n",
    "       'provincia_departamento_Jujuy', 'provincia_departamento_Mendoza',\n",
    "       'provincia_departamento_Misiones',\n",
    "       'provincia_departamento_Neuquén',\n",
    "       'provincia_departamento_Río Negro', 'provincia_departamento_Salta',\n",
    "       'provincia_departamento_San Juan',\n",
    "       'provincia_departamento_San Luis',\n",
    "       'provincia_departamento_Santa Fe',\n",
    "       'provincia_departamento_Tucumán', 'extra_rooms', 'social_bathroom',\n",
    "       'touristic_or_capital']\n",
    "\n",
    "x_test=df_test_argentina[predictive_cols]"
   ]
  },
  {
   "cell_type": "code",
   "execution_count": 471,
   "metadata": {},
   "outputs": [],
   "source": [
    "predictions=xg_reg_arg.predict(x_test)"
   ]
  },
  {
   "cell_type": "code",
   "execution_count": 472,
   "metadata": {},
   "outputs": [],
   "source": [
    "df_test_argentina['Predictions']=predictions"
   ]
  },
  {
   "cell_type": "code",
   "execution_count": 473,
   "metadata": {},
   "outputs": [],
   "source": [
    "df_predictions_argentina=df_test_argentina[['Id','Predictions']]\n",
    "df_predictions_argentina.to_csv(r'C:\\Users\\feche\\Documents\\Curso Python\\datasets\\Apartamentos-latam\\XGBoost_Argentina_feature_engineering_all_data.csv',index=None)"
   ]
  },
  {
   "cell_type": "markdown",
   "metadata": {},
   "source": [
    "### Model 9.5"
   ]
  },
  {
   "cell_type": "code",
   "execution_count": null,
   "metadata": {},
   "outputs": [],
   "source": [
    "df=pd.read_csv(r'C:\\Users\\feche\\Documents\\Curso Python\\datasets\\Apartamentos-latam\\Train.csv')\n",
    "df_test=pd.read_csv(r'C:\\Users\\feche\\Documents\\Curso Python\\datasets\\Apartamentos-latam\\Test.csv')\n",
    "\n",
    "df_colombia=df[df['pais']=='Colombia']\n",
    "df_argentina=df[df['pais']=='Argentina']\n",
    "\n",
    "df_test_colombia=df_test[df_test['pais']=='Colombia']\n",
    "df_test_argentina=df_test[df_test['pais']=='Argentina']\n",
    "\n",
    "#df_colombia=df_colombia[(df_colombia['provincia_departamento']=='Cundinamarca') | (df_colombia['provincia_departamento']=='Antioquia')| (df_colombia['provincia_departamento']=='Atlántico')| (df_colombia['provincia_departamento']=='Valle del Cauca')| (df_colombia['provincia_departamento']=='Santander')| (df_colombia['provincia_departamento']=='Risaralda')| (df_colombia['provincia_departamento']=='Tolima')| (df_colombia['provincia_departamento']=='Quindío')| (df_colombia['provincia_departamento']=='Norte de Santander')| (df_colombia['provincia_departamento']=='Bolívar')| (df_colombia['provincia_departamento']=='Magdalena')]\n",
    "#df_argentina=df_argentina[(df_argentina['provincia_departamento']=='Santa Fe') | (df_argentina['provincia_departamento']=='Capital Federal') | (df_argentina['provincia_departamento']=='Buenos Aires Costa Atlántica') | (df_argentina['provincia_departamento']=='Bs.As. G.B.A. Zona Norte') | (df_argentina['provincia_departamento']=='Bs.As. G.B.A. Zona Oeste') | (df_argentina['provincia_departamento']=='Bs.As. G.B.A. Zona Sur') | (df_argentina['provincia_departamento']=='Córdoba') | (df_argentina['provincia_departamento']=='Río Negro') | (df_argentina['provincia_departamento']=='Neuquén') | (df_argentina['provincia_departamento']=='Buenos Aires Interior') | (df_argentina['provincia_departamento']=='Salta') | (df_argentina['provincia_departamento']=='Mendoza') | (df_argentina['provincia_departamento']=='Misiones') | (df_argentina['provincia_departamento']=='Corrientes') | (df_argentina['provincia_departamento']=='San Juan') | (df_argentina['provincia_departamento']=='Entre Ríos') | (df_argentina['provincia_departamento']=='San Luis')]\n",
    "\n",
    "#Correciones de precios mal puestos\n",
    "df_colombia.loc[16166,'price']=233966\n",
    "df_colombia.loc[16166,'price']=233966\n",
    "df_colombia.loc[9093,'price']=71566\n",
    "df_colombia.loc[12408,'price']=63297\n",
    "df_colombia.loc[12408,'surface_total']=100\n",
    "df_colombia.loc[25309,'price']=72942\n",
    "df_argentina.loc[24084,'price']=315000\n",
    "df_argentina.loc[20385,'price']=260000\n",
    "df_argentina.loc[14865,'price']=190000\n",
    "df_argentina.loc[16720,'price']=170000\n",
    "df_argentina.loc[21378,'price']=165000\n",
    "\n",
    "categories=[\"provincia_departamento\"]\n",
    "\n",
    "for category in categories:\n",
    "    cat_dummies=pd.get_dummies(df_colombia[category], prefix=category)\n",
    "    df_train_new=df_colombia.join(cat_dummies)\n",
    "    df_colombia=df_train_new\n",
    "\n",
    "    cat_dummies=pd.get_dummies(df_argentina[category], prefix=category)\n",
    "    df_train_new=df_argentina.join(cat_dummies)\n",
    "    df_argentina=df_train_new\n",
    "\n",
    "for category in categories:\n",
    "    cat_dummies=pd.get_dummies(df_test_colombia[category], prefix=category)\n",
    "    df_test_new=df_test_colombia.join(cat_dummies)\n",
    "    df_test_colombia=df_test_new\n",
    "\n",
    "    cat_dummies=pd.get_dummies(df_test_argentina[category], prefix=category)\n",
    "    df_test_new=df_test_argentina.join(cat_dummies)\n",
    "    df_test_argentina=df_test_new"
   ]
  },
  {
   "cell_type": "code",
   "execution_count": null,
   "metadata": {},
   "outputs": [],
   "source": [
    "df_argentina['extra_rooms']=df_argentina['rooms']-df_argentina['bedrooms']\n",
    "df_test_argentina['extra_rooms']=df_test_argentina['rooms']-df_test_argentina['bedrooms']"
   ]
  },
  {
   "cell_type": "code",
   "execution_count": null,
   "metadata": {},
   "outputs": [],
   "source": [
    "df_colombia['social_bathroom']=((df_colombia['bathrooms']-df_colombia['rooms'])>=1).astype(int)\n",
    "df_test_colombia['social_bathroom']=((df_test_colombia['bathrooms']-df_test_colombia['rooms'])>=1).astype(int)\n",
    "\n",
    "df_argentina['social_bathroom']=((df_argentina['bathrooms']-df_argentina['rooms'])>=1).astype(int)\n",
    "df_test_argentina['social_bathroom']=((df_test_argentina['bathrooms']-df_test_argentina['rooms'])>=1).astype(int)"
   ]
  },
  {
   "cell_type": "code",
   "execution_count": null,
   "metadata": {},
   "outputs": [],
   "source": [
    "df_colombia['more_than_4_rooms']=(df_colombia['rooms']>4).astype(int)\n",
    "df_test_colombia['more_than_4_rooms']=(df_colombia['rooms']>4).astype(int)"
   ]
  },
  {
   "cell_type": "code",
   "execution_count": null,
   "metadata": {},
   "outputs": [],
   "source": [
    "df_colombia['touristic_or_capital']=0\n",
    "df_colombia.loc[df_colombia['ciudad']==\"Cartagena\",'touristic_or_capital']=1\n",
    "df_colombia.loc[df_colombia['ciudad']==\"Santa Marta\",'touristic_or_capital']=1\n",
    "df_colombia.loc[df_colombia['ciudad']==\"Bogotá D.C\",'touristic_or_capital']=1\n",
    "df_colombia.loc[df_colombia['ciudad']==\"La Calera\",'touristic_or_capital']=1\n",
    "df_colombia.loc[df_colombia['ciudad']==\"Retiro\",'touristic_or_capital']=1\n",
    "df_colombia.loc[df_colombia['ciudad']==\"Cabrera\",'touristic_or_capital']=1\n",
    "df_colombia.loc[df_colombia['ciudad']==\"Agua de Dios\",'touristic_or_capital']=1\n",
    "df_colombia.loc[df_colombia['ciudad']==\"Envigado\",'touristic_or_capital']=1\n",
    "df_colombia.loc[df_colombia['ciudad']==\"Juan de Acosta\",'touristic_or_capital']=1\n",
    "df_colombia.loc[df_colombia['ciudad']==\"Medellín\",'touristic_or_capital']=1\n",
    "\n",
    "df_test_colombia['touristic_or_capital']=0\n",
    "df_test_colombia.loc[df_test_colombia['ciudad']==\"Cartagena\",'touristic_or_capital']=1\n",
    "df_test_colombia.loc[df_test_colombia['ciudad']==\"Santa Marta\",'touristic_or_capital']=1\n",
    "df_test_colombia.loc[df_test_colombia['ciudad']==\"Bogotá D.C\",'touristic_or_capital']=1\n",
    "df_test_colombia.loc[df_test_colombia['ciudad']==\"La Calera\",'touristic_or_capital']=1\n",
    "df_test_colombia.loc[df_test_colombia['ciudad']==\"Retiro\",'touristic_or_capital']=1\n",
    "df_test_colombia.loc[df_test_colombia['ciudad']==\"Cabrera\",'touristic_or_capital']=1\n",
    "df_test_colombia.loc[df_test_colombia['ciudad']==\"Agua de Dios\",'touristic_or_capital']=1\n",
    "df_test_colombia.loc[df_test_colombia['ciudad']==\"Envigado\",'touristic_or_capital']=1\n",
    "df_test_colombia.loc[df_test_colombia['ciudad']==\"Juan de Acosta\",'touristic_or_capital']=1\n",
    "df_test_colombia.loc[df_test_colombia['ciudad']==\"Medellín\",'touristic_or_capital']=1"
   ]
  },
  {
   "cell_type": "code",
   "execution_count": null,
   "metadata": {},
   "outputs": [],
   "source": [
    "df_argentina['touristic_or_capital']=0\n",
    "df_test_argentina['touristic_or_capital']=0\n",
    "categories=['Palermo', 'Belgrano', 'Recoleta', 'Barrio Norte', 'Puerto Madero',\n",
    "       'Rosario', 'Las Cañitas', 'Nuñez', 'Mar del Plata',\n",
    "       'Lomas de Zamora', 'Retiro', 'Caballito', 'Villa Devoto',\n",
    "       'Vicente López', 'Colegiales', 'Villa Urquiza', 'Quilmes',\n",
    "       'San Telmo', 'Pilar', 'San Isidro', 'Córdoba', 'Confluencia',\n",
    "       'Tigre', 'La Matanza', 'Bahía Blanca', 'Flores', 'Balvanera',\n",
    "       'Olavarría', 'Villa Luro', 'Villa Lugano', 'Escobar', 'Monserrat']\n",
    "\n",
    "for category in categories:\n",
    "   \n",
    "    df_argentina.loc[df_argentina['ciudad']==category,'touristic_or_capital']=1\n",
    "    df_test_argentina.loc[df_test_argentina['ciudad']==category,'touristic_or_capital']=1"
   ]
  },
  {
   "cell_type": "code",
   "execution_count": null,
   "metadata": {},
   "outputs": [],
   "source": [
    "stats.probplot(df_colombia['surface_total'], dist=\"norm\",plot=plt)"
   ]
  },
  {
   "cell_type": "code",
   "execution_count": null,
   "metadata": {},
   "outputs": [],
   "source": [
    "surface_total,fitted_lambda_col = stats.boxcox(df_colombia['surface_total'])\n",
    "box_col=round(fitted_lambda_col,2)\n",
    "print(\"Lambda after Box-cox for Colombia is:\",box_col)\n",
    "\n",
    "surface_total,fitted_lambda_arg = stats.boxcox(df_argentina['surface_total'])\n",
    "box_arg=round(fitted_lambda_arg,2)\n",
    "print(\"Lambda after Box-cox for Argentina is:\",box_arg)"
   ]
  },
  {
   "cell_type": "code",
   "execution_count": null,
   "metadata": {},
   "outputs": [],
   "source": [
    "df_colombia['box_surface_total']=boxcox(df_colombia['surface_total'],fitted_lambda_col)\n",
    "df_argentina['box_surface_total']=boxcox(df_argentina['surface_total'],fitted_lambda_arg)"
   ]
  },
  {
   "cell_type": "code",
   "execution_count": null,
   "metadata": {},
   "outputs": [],
   "source": [
    "stats.probplot(df_argentina['box_surface_total'], dist=\"norm\",plot=plt)"
   ]
  },
  {
   "cell_type": "code",
   "execution_count": null,
   "metadata": {},
   "outputs": [],
   "source": []
  },
  {
   "cell_type": "code",
   "execution_count": null,
   "metadata": {},
   "outputs": [],
   "source": []
  },
  {
   "cell_type": "code",
   "execution_count": null,
   "metadata": {},
   "outputs": [],
   "source": []
  },
  {
   "cell_type": "markdown",
   "metadata": {},
   "source": [
    "#### Calculate VIF"
   ]
  },
  {
   "cell_type": "code",
   "execution_count": 1,
   "metadata": {},
   "outputs": [],
   "source": [
    "from statsmodels.stats.outliers_influence import variance_inflation_factor"
   ]
  },
  {
   "cell_type": "code",
   "execution_count": 13,
   "metadata": {},
   "outputs": [],
   "source": [
    "# Import library for VIF\n",
    "from statsmodels.stats.outliers_influence import variance_inflation_factor\n",
    "\n",
    "def calc_vif(X):\n",
    "\n",
    "    # Calculating VIF\n",
    "    vif = pd.DataFrame()\n",
    "    vif[\"variables\"] = X.columns\n",
    "    vif[\"VIF\"] = [variance_inflation_factor(X.values, i) for i in range(X.shape[1])]\n",
    "\n",
    "    return(vif)"
   ]
  },
  {
   "cell_type": "code",
   "execution_count": 103,
   "metadata": {},
   "outputs": [],
   "source": [
    "df_vif=df_colombia[['rooms','bathrooms','surface_total','social_bathroom']]"
   ]
  },
  {
   "cell_type": "code",
   "execution_count": 104,
   "metadata": {},
   "outputs": [
    {
     "data": {
      "text/html": [
       "<div>\n",
       "<style scoped>\n",
       "    .dataframe tbody tr th:only-of-type {\n",
       "        vertical-align: middle;\n",
       "    }\n",
       "\n",
       "    .dataframe tbody tr th {\n",
       "        vertical-align: top;\n",
       "    }\n",
       "\n",
       "    .dataframe thead th {\n",
       "        text-align: right;\n",
       "    }\n",
       "</style>\n",
       "<table border=\"1\" class=\"dataframe\">\n",
       "  <thead>\n",
       "    <tr style=\"text-align: right;\">\n",
       "      <th></th>\n",
       "      <th>variables</th>\n",
       "      <th>VIF</th>\n",
       "    </tr>\n",
       "  </thead>\n",
       "  <tbody>\n",
       "    <tr>\n",
       "      <th>0</th>\n",
       "      <td>rooms</td>\n",
       "      <td>18.837172</td>\n",
       "    </tr>\n",
       "    <tr>\n",
       "      <th>1</th>\n",
       "      <td>bathrooms</td>\n",
       "      <td>31.960591</td>\n",
       "    </tr>\n",
       "    <tr>\n",
       "      <th>2</th>\n",
       "      <td>surface_total</td>\n",
       "      <td>9.437727</td>\n",
       "    </tr>\n",
       "    <tr>\n",
       "      <th>3</th>\n",
       "      <td>social_bathroom</td>\n",
       "      <td>2.895855</td>\n",
       "    </tr>\n",
       "  </tbody>\n",
       "</table>\n",
       "</div>"
      ],
      "text/plain": [
       "         variables        VIF\n",
       "0            rooms  18.837172\n",
       "1        bathrooms  31.960591\n",
       "2    surface_total   9.437727\n",
       "3  social_bathroom   2.895855"
      ]
     },
     "execution_count": 104,
     "metadata": {},
     "output_type": "execute_result"
    }
   ],
   "source": [
    "calc_vif(df_vif)"
   ]
  },
  {
   "cell_type": "code",
   "execution_count": 107,
   "metadata": {},
   "outputs": [
    {
     "data": {
      "text/html": [
       "<div>\n",
       "<style scoped>\n",
       "    .dataframe tbody tr th:only-of-type {\n",
       "        vertical-align: middle;\n",
       "    }\n",
       "\n",
       "    .dataframe tbody tr th {\n",
       "        vertical-align: top;\n",
       "    }\n",
       "\n",
       "    .dataframe thead th {\n",
       "        text-align: right;\n",
       "    }\n",
       "</style>\n",
       "<table border=\"1\" class=\"dataframe\">\n",
       "  <thead>\n",
       "    <tr style=\"text-align: right;\">\n",
       "      <th></th>\n",
       "      <th>variables</th>\n",
       "      <th>VIF</th>\n",
       "    </tr>\n",
       "  </thead>\n",
       "  <tbody>\n",
       "    <tr>\n",
       "      <th>0</th>\n",
       "      <td>rooms</td>\n",
       "      <td>6.035425</td>\n",
       "    </tr>\n",
       "    <tr>\n",
       "      <th>1</th>\n",
       "      <td>surface_total</td>\n",
       "      <td>7.214157</td>\n",
       "    </tr>\n",
       "    <tr>\n",
       "      <th>2</th>\n",
       "      <td>social_bathroom</td>\n",
       "      <td>1.515693</td>\n",
       "    </tr>\n",
       "  </tbody>\n",
       "</table>\n",
       "</div>"
      ],
      "text/plain": [
       "         variables       VIF\n",
       "0            rooms  6.035425\n",
       "1    surface_total  7.214157\n",
       "2  social_bathroom  1.515693"
      ]
     },
     "execution_count": 107,
     "metadata": {},
     "output_type": "execute_result"
    }
   ],
   "source": [
    "df_vif=df_colombia[['rooms','surface_total','social_bathroom']]\n",
    "calc_vif(df_vif)"
   ]
  },
  {
   "cell_type": "markdown",
   "metadata": {},
   "source": [
    "### Model 10 - Ridge Regression"
   ]
  },
  {
   "cell_type": "code",
   "execution_count": 24,
   "metadata": {},
   "outputs": [
    {
     "name": "stderr",
     "output_type": "stream",
     "text": [
      "C:\\Users\\feche\\anaconda3\\lib\\site-packages\\pandas\\core\\indexing.py:966: SettingWithCopyWarning: \n",
      "A value is trying to be set on a copy of a slice from a DataFrame.\n",
      "Try using .loc[row_indexer,col_indexer] = value instead\n",
      "\n",
      "See the caveats in the documentation: https://pandas.pydata.org/pandas-docs/stable/user_guide/indexing.html#returning-a-view-versus-a-copy\n",
      "  self.obj[item] = s\n"
     ]
    }
   ],
   "source": [
    "#read and separate the df\n",
    "df=pd.read_csv(r'C:\\Users\\feche\\Documents\\Curso Python\\datasets\\Apartamentos-latam\\Train.csv')\n",
    "df_test=pd.read_csv(r'C:\\Users\\feche\\Documents\\Curso Python\\datasets\\Apartamentos-latam\\Test.csv')\n",
    "\n",
    "df_colombia=df[df['pais']=='Colombia']\n",
    "df_argentina=df[df['pais']=='Argentina']\n",
    "\n",
    "df_test_colombia=df_test[df_test['pais']=='Colombia']\n",
    "df_test_argentina=df_test[df_test['pais']=='Argentina']\n",
    "\n",
    "#Correciones de precios mal puestos\n",
    "df_colombia.loc[16166,'price']=233966\n",
    "df_colombia.loc[16166,'price']=233966\n",
    "df_colombia.loc[9093,'price']=71566\n",
    "df_colombia.loc[12408,'price']=63297\n",
    "df_colombia.loc[12408,'surface_total']=100\n",
    "df_colombia.loc[25309,'price']=72942\n",
    "df_argentina.loc[24084,'price']=315000\n",
    "df_argentina.loc[20385,'price']=260000\n",
    "df_argentina.loc[14865,'price']=190000\n",
    "df_argentina.loc[16720,'price']=170000\n",
    "df_argentina.loc[21378,'price']=165000"
   ]
  },
  {
   "cell_type": "code",
   "execution_count": 25,
   "metadata": {},
   "outputs": [],
   "source": [
    "#Dummies\n",
    "cat_dummies=pd.get_dummies(df_colombia[\"provincia_departamento\"], prefix=\"departamento\")\n",
    "df_train_new=df_colombia.join(cat_dummies)\n",
    "df_colombia=df_train_new\n",
    "    \n",
    "cat_dummies=pd.get_dummies(df_argentina[\"provincia_departamento\"], prefix=\"departamento\")\n",
    "df_train_new=df_argentina.join(cat_dummies)\n",
    "df_argentina=df_train_new\n",
    "\n",
    "cat_dummies=pd.get_dummies(df_test_colombia[\"provincia_departamento\"], prefix=\"departamento\")\n",
    "df_test_new=df_test_colombia.join(cat_dummies)\n",
    "df_test_colombia=df_test_new\n",
    "    \n",
    "cat_dummies=pd.get_dummies(df_test_argentina[\"provincia_departamento\"], prefix=\"departamento\")\n",
    "df_test_new=df_test_argentina.join(cat_dummies)\n",
    "df_test_argentina=df_test_new"
   ]
  },
  {
   "cell_type": "code",
   "execution_count": 26,
   "metadata": {},
   "outputs": [],
   "source": [
    "df_colombia['log_price']=np.log(df_colombia['price'])\n",
    "df_argentina['log_price']=np.log(df_colombia['price'])"
   ]
  },
  {
   "cell_type": "code",
   "execution_count": null,
   "metadata": {},
   "outputs": [],
   "source": []
  },
  {
   "cell_type": "markdown",
   "metadata": {},
   "source": [
    "#### Colombia"
   ]
  },
  {
   "cell_type": "code",
   "execution_count": 27,
   "metadata": {},
   "outputs": [],
   "source": [
    "predictive_cols=['rooms', 'bedrooms', 'bathrooms',\n",
    "       'surface_total', 'departamento_Antioquia',\n",
    "       'departamento_Atlántico', 'departamento_Bolívar',\n",
    "       'departamento_Boyacá', 'departamento_Cauca',\n",
    "       'departamento_Cundinamarca', 'departamento_Córdoba',\n",
    "       'departamento_Huila', 'departamento_Magdalena',\n",
    "       'departamento_Meta', 'departamento_Norte de Santander',\n",
    "       'departamento_Quindío', 'departamento_Risaralda',\n",
    "       'departamento_Santander', 'departamento_Tolima',\n",
    "       'departamento_Valle del Cauca']\n",
    "\n",
    "x=df_colombia[predictive_cols]\n",
    "y=df_colombia['price']\n",
    "\n",
    "x_train,x_test,y_train,y_test=train_test_split(x,y,test_size=0.2,random_state=42)"
   ]
  },
  {
   "cell_type": "code",
   "execution_count": 28,
   "metadata": {},
   "outputs": [],
   "source": [
    "from sklearn.linear_model import Ridge"
   ]
  },
  {
   "cell_type": "code",
   "execution_count": 29,
   "metadata": {},
   "outputs": [
    {
     "data": {
      "text/plain": [
       "Ridge(alpha=1.0, copy_X=True, fit_intercept=True, max_iter=None,\n",
       "      normalize=False, random_state=None, solver='auto', tol=0.001)"
      ]
     },
     "execution_count": 29,
     "metadata": {},
     "output_type": "execute_result"
    }
   ],
   "source": [
    "ridge=Ridge()\n",
    "ridge.fit(x_train,y_train)"
   ]
  },
  {
   "cell_type": "code",
   "execution_count": 30,
   "metadata": {},
   "outputs": [
    {
     "data": {
      "text/plain": [
       "0.7113497275036484"
      ]
     },
     "execution_count": 30,
     "metadata": {},
     "output_type": "execute_result"
    }
   ],
   "source": [
    "ridge.score(x_test,y_test)"
   ]
  },
  {
   "cell_type": "code",
   "execution_count": 32,
   "metadata": {},
   "outputs": [
    {
     "name": "stdout",
     "output_type": "stream",
     "text": [
      "RMSE: 72143.920162\n",
      "RMSLE: 0.620152\n"
     ]
    }
   ],
   "source": [
    "preds=(ridge.predict(x_test))\n",
    "preds=abs(preds)\n",
    "rmse = np.sqrt(mean_squared_error(y_test, preds))\n",
    "print(\"RMSE: %f\" % (rmse))\n",
    "\n",
    "rmsle=np.sqrt(mean_squared_log_error(y_test,preds))\n",
    "print(\"RMSLE: %f\" % (rmsle))"
   ]
  },
  {
   "cell_type": "code",
   "execution_count": 76,
   "metadata": {},
   "outputs": [],
   "source": [
    "from sklearn.model_selection import GridSearchCV"
   ]
  },
  {
   "cell_type": "code",
   "execution_count": 77,
   "metadata": {},
   "outputs": [
    {
     "name": "stderr",
     "output_type": "stream",
     "text": [
      "C:\\Users\\feche\\anaconda3\\lib\\site-packages\\sklearn\\linear_model\\_ridge.py:148: LinAlgWarning: Ill-conditioned matrix (rcond=9.22437e-21): result may not be accurate.\n",
      "  overwrite_a=True).T\n",
      "C:\\Users\\feche\\anaconda3\\lib\\site-packages\\sklearn\\linear_model\\_ridge.py:148: LinAlgWarning: Ill-conditioned matrix (rcond=1.32434e-20): result may not be accurate.\n",
      "  overwrite_a=True).T\n",
      "C:\\Users\\feche\\anaconda3\\lib\\site-packages\\sklearn\\linear_model\\_ridge.py:148: LinAlgWarning: Ill-conditioned matrix (rcond=1.8048e-20): result may not be accurate.\n",
      "  overwrite_a=True).T\n",
      "C:\\Users\\feche\\anaconda3\\lib\\site-packages\\sklearn\\linear_model\\_ridge.py:148: LinAlgWarning: Ill-conditioned matrix (rcond=1.41009e-20): result may not be accurate.\n",
      "  overwrite_a=True).T\n",
      "C:\\Users\\feche\\anaconda3\\lib\\site-packages\\sklearn\\linear_model\\_ridge.py:148: LinAlgWarning: Ill-conditioned matrix (rcond=9.22437e-21): result may not be accurate.\n",
      "  overwrite_a=True).T\n",
      "C:\\Users\\feche\\anaconda3\\lib\\site-packages\\sklearn\\linear_model\\_ridge.py:148: LinAlgWarning: Ill-conditioned matrix (rcond=1.32434e-20): result may not be accurate.\n",
      "  overwrite_a=True).T\n",
      "C:\\Users\\feche\\anaconda3\\lib\\site-packages\\sklearn\\linear_model\\_ridge.py:148: LinAlgWarning: Ill-conditioned matrix (rcond=1.8048e-20): result may not be accurate.\n",
      "  overwrite_a=True).T\n",
      "C:\\Users\\feche\\anaconda3\\lib\\site-packages\\sklearn\\linear_model\\_ridge.py:148: LinAlgWarning: Ill-conditioned matrix (rcond=1.41009e-20): result may not be accurate.\n",
      "  overwrite_a=True).T\n"
     ]
    },
    {
     "data": {
      "text/plain": [
       "GridSearchCV(cv=10, error_score=nan,\n",
       "             estimator=Ridge(alpha=1.0, copy_X=True, fit_intercept=True,\n",
       "                             max_iter=None, normalize=False, random_state=None,\n",
       "                             solver='auto', tol=0.001),\n",
       "             iid='deprecated', n_jobs=None,\n",
       "             param_grid={'alpha': [0, 1e-05, 0, 0.5, 1, 2, 20]},\n",
       "             pre_dispatch='2*n_jobs', refit=True, return_train_score=False,\n",
       "             scoring='neg_mean_squared_error', verbose=0)"
      ]
     },
     "execution_count": 77,
     "metadata": {},
     "output_type": "execute_result"
    }
   ],
   "source": [
    "parameters={\"alpha\":[0,1e-5,0,0.5,1,2,20]}\n",
    "ridge_regressor=GridSearchCV(ridge,parameters,scoring=\"neg_mean_squared_error\",cv=10)\n",
    "ridge_regressor.fit(x_train,y_train)"
   ]
  },
  {
   "cell_type": "code",
   "execution_count": 78,
   "metadata": {},
   "outputs": [
    {
     "data": {
      "text/plain": [
       "{'alpha': 0.5}"
      ]
     },
     "execution_count": 78,
     "metadata": {},
     "output_type": "execute_result"
    }
   ],
   "source": [
    "ridge_regressor.best_params_"
   ]
  },
  {
   "cell_type": "code",
   "execution_count": 93,
   "metadata": {},
   "outputs": [],
   "source": [
    "from sklearn.linear_model import Lasso"
   ]
  },
  {
   "cell_type": "code",
   "execution_count": 94,
   "metadata": {},
   "outputs": [
    {
     "name": "stderr",
     "output_type": "stream",
     "text": [
      "C:\\Users\\feche\\anaconda3\\lib\\site-packages\\sklearn\\linear_model\\_coordinate_descent.py:476: ConvergenceWarning: Objective did not converge. You might want to increase the number of iterations. Duality gap: 3390153322896.705, tolerance: 10978272237.402006\n",
      "  positive)\n"
     ]
    },
    {
     "data": {
      "text/plain": [
       "Lasso(alpha=1.0, copy_X=True, fit_intercept=True, max_iter=1000,\n",
       "      normalize=False, positive=False, precompute=False, random_state=None,\n",
       "      selection='cyclic', tol=0.0001, warm_start=False)"
      ]
     },
     "execution_count": 94,
     "metadata": {},
     "output_type": "execute_result"
    }
   ],
   "source": [
    "lasso=Lasso()\n",
    "lasso.fit(x_train,y_train)"
   ]
  },
  {
   "cell_type": "code",
   "execution_count": 95,
   "metadata": {},
   "outputs": [
    {
     "data": {
      "text/plain": [
       "0.6901149083479494"
      ]
     },
     "execution_count": 95,
     "metadata": {},
     "output_type": "execute_result"
    }
   ],
   "source": [
    "lasso.score(x_test,y_test)"
   ]
  },
  {
   "cell_type": "code",
   "execution_count": 98,
   "metadata": {},
   "outputs": [
    {
     "name": "stdout",
     "output_type": "stream",
     "text": [
      "RMSE: 75441.478245\n",
      "RMSLE: 0.640764\n"
     ]
    }
   ],
   "source": [
    "preds=lasso.predict(x_test)\n",
    "preds=abs(preds)\n",
    "rmse = np.sqrt(mean_squared_error(y_test, preds))\n",
    "print(\"RMSE: %f\" % (rmse))\n",
    "\n",
    "rmsle=np.sqrt(mean_squared_log_error(y_test,preds))\n",
    "print(\"RMSLE: %f\" % (rmsle))"
   ]
  },
  {
   "cell_type": "code",
   "execution_count": 5,
   "metadata": {},
   "outputs": [
    {
     "data": {
      "text/plain": [
       "<matplotlib.axes._subplots.AxesSubplot at 0x253ebf25ac8>"
      ]
     },
     "execution_count": 5,
     "metadata": {},
     "output_type": "execute_result"
    },
    {
     "data": {
      "image/png": "[encoded data removed]",
      "text/plain": [
       "<Figure size 432x288 with 1 Axes>"
      ]
     },
     "metadata": {},
     "output_type": "display_data"
    }
   ],
   "source": [
    "sns.scatterplot(x='rooms',y='price',data=df_colombia)"
   ]
  },
  {
   "cell_type": "code",
   "execution_count": 6,
   "metadata": {},
   "outputs": [
    {
     "data": {
      "text/plain": [
       "<matplotlib.axes._subplots.AxesSubplot at 0x253e5457108>"
      ]
     },
     "execution_count": 6,
     "metadata": {},
     "output_type": "execute_result"
    },
    {
     "data": {
      "image/png": "[encoded data removed]",
      "text/plain": [
       "<Figure size 432x288 with 1 Axes>"
      ]
     },
     "metadata": {},
     "output_type": "display_data"
    }
   ],
   "source": [
    "sns.scatterplot(x='bedrooms',y='price',data=df_colombia)"
   ]
  },
  {
   "cell_type": "code",
   "execution_count": 7,
   "metadata": {},
   "outputs": [
    {
     "data": {
      "text/plain": [
       "<matplotlib.axes._subplots.AxesSubplot at 0x253ec0db508>"
      ]
     },
     "execution_count": 7,
     "metadata": {},
     "output_type": "execute_result"
    },
    {
     "data": {
      "image/png": "[encoded data removed]",
      "text/plain": [
       "<Figure size 432x288 with 1 Axes>"
      ]
     },
     "metadata": {},
     "output_type": "display_data"
    }
   ],
   "source": [
    "sns.scatterplot(x='bathrooms',y='price',data=df_colombia)"
   ]
  },
  {
   "cell_type": "code",
   "execution_count": 60,
   "metadata": {},
   "outputs": [
    {
     "data": {
      "text/plain": [
       "<matplotlib.axes._subplots.AxesSubplot at 0x253eea06d88>"
      ]
     },
     "execution_count": 60,
     "metadata": {},
     "output_type": "execute_result"
    },
    {
     "data": {
      "image/png": "[encoded data removed]",
      "text/plain": [
       "<Figure size 432x288 with 1 Axes>"
      ]
     },
     "metadata": {},
     "output_type": "display_data"
    }
   ],
   "source": [
    "sns.scatterplot(x='surface_total',y='price',data=df_colombia)"
   ]
  },
  {
   "cell_type": "code",
   "execution_count": 61,
   "metadata": {},
   "outputs": [
    {
     "data": {
      "text/html": [
       "<div>\n",
       "<style scoped>\n",
       "    .dataframe tbody tr th:only-of-type {\n",
       "        vertical-align: middle;\n",
       "    }\n",
       "\n",
       "    .dataframe tbody tr th {\n",
       "        vertical-align: top;\n",
       "    }\n",
       "\n",
       "    .dataframe thead th {\n",
       "        text-align: right;\n",
       "    }\n",
       "</style>\n",
       "<table border=\"1\" class=\"dataframe\">\n",
       "  <thead>\n",
       "    <tr style=\"text-align: right;\">\n",
       "      <th></th>\n",
       "      <th>Id</th>\n",
       "      <th>pais</th>\n",
       "      <th>provincia_departamento</th>\n",
       "      <th>ciudad</th>\n",
       "      <th>property_type</th>\n",
       "      <th>operation_type</th>\n",
       "      <th>rooms</th>\n",
       "      <th>bedrooms</th>\n",
       "      <th>bathrooms</th>\n",
       "      <th>surface_total</th>\n",
       "      <th>currency</th>\n",
       "      <th>price</th>\n",
       "    </tr>\n",
       "  </thead>\n",
       "  <tbody>\n",
       "    <tr>\n",
       "      <th>2196</th>\n",
       "      <td>2196</td>\n",
       "      <td>Colombia</td>\n",
       "      <td>Valle del Cauca</td>\n",
       "      <td>Cali</td>\n",
       "      <td>Apartamento</td>\n",
       "      <td>Venta</td>\n",
       "      <td>1.0</td>\n",
       "      <td>1.0</td>\n",
       "      <td>1.0</td>\n",
       "      <td>40.0</td>\n",
       "      <td>USD</td>\n",
       "      <td>330306.0</td>\n",
       "    </tr>\n",
       "  </tbody>\n",
       "</table>\n",
       "</div>"
      ],
      "text/plain": [
       "        Id      pais provincia_departamento ciudad property_type  \\\n",
       "2196  2196  Colombia        Valle del Cauca   Cali   Apartamento   \n",
       "\n",
       "     operation_type  rooms  bedrooms  bathrooms  surface_total currency  \\\n",
       "2196          Venta    1.0       1.0        1.0           40.0      USD   \n",
       "\n",
       "         price  \n",
       "2196  330306.0  "
      ]
     },
     "execution_count": 61,
     "metadata": {},
     "output_type": "execute_result"
    }
   ],
   "source": [
    "df_colombia[(df_colombia['price']>200000) & (df_colombia['surface_total']<50)]"
   ]
  },
  {
   "cell_type": "code",
   "execution_count": 59,
   "metadata": {},
   "outputs": [
    {
     "name": "stderr",
     "output_type": "stream",
     "text": [
      "C:\\Users\\feche\\anaconda3\\lib\\site-packages\\pandas\\core\\indexing.py:966: SettingWithCopyWarning: \n",
      "A value is trying to be set on a copy of a slice from a DataFrame.\n",
      "Try using .loc[row_indexer,col_indexer] = value instead\n",
      "\n",
      "See the caveats in the documentation: https://pandas.pydata.org/pandas-docs/stable/user_guide/indexing.html#returning-a-view-versus-a-copy\n",
      "  self.obj[item] = s\n"
     ]
    }
   ],
   "source": [
    "df_colombia.loc[16166,'price']=233966\n",
    "df_colombia.loc[9093,'price']=71566\n",
    "df_colombia.loc[12408,'price']=63297\n",
    "df_colombia.loc[12408,'surface_total']=100\n",
    "df_colombia.loc[25309,'price']=72942"
   ]
  },
  {
   "cell_type": "code",
   "execution_count": 10,
   "metadata": {},
   "outputs": [
    {
     "data": {
      "text/plain": [
       "<matplotlib.axes._subplots.AxesSubplot at 0x253ec1bfc48>"
      ]
     },
     "execution_count": 10,
     "metadata": {},
     "output_type": "execute_result"
    },
    {
     "data": {
      "image/png": "[encoded data removed]",
      "text/plain": [
       "<Figure size 432x288 with 1 Axes>"
      ]
     },
     "metadata": {},
     "output_type": "display_data"
    }
   ],
   "source": [
    "sns.scatterplot(x='rooms',y='price',data=df_argentina)"
   ]
  },
  {
   "cell_type": "code",
   "execution_count": 11,
   "metadata": {},
   "outputs": [
    {
     "data": {
      "text/plain": [
       "<matplotlib.axes._subplots.AxesSubplot at 0x253ec246ec8>"
      ]
     },
     "execution_count": 11,
     "metadata": {},
     "output_type": "execute_result"
    },
    {
     "data": {
      "image/png": "[encoded data removed]",
      "text/plain": [
       "<Figure size 432x288 with 1 Axes>"
      ]
     },
     "metadata": {},
     "output_type": "display_data"
    }
   ],
   "source": [
    "sns.scatterplot(x='bedrooms',y='price',data=df_argentina)"
   ]
  },
  {
   "cell_type": "code",
   "execution_count": 12,
   "metadata": {},
   "outputs": [
    {
     "data": {
      "text/plain": [
       "<matplotlib.axes._subplots.AxesSubplot at 0x253edb8bc88>"
      ]
     },
     "execution_count": 12,
     "metadata": {},
     "output_type": "execute_result"
    },
    {
     "data": {
      "image/png": "[encoded data removed]",
      "text/plain": [
       "<Figure size 432x288 with 1 Axes>"
      ]
     },
     "metadata": {},
     "output_type": "display_data"
    }
   ],
   "source": [
    "sns.scatterplot(x='bathrooms',y='price',data=df_argentina)"
   ]
  },
  {
   "cell_type": "code",
   "execution_count": 26,
   "metadata": {},
   "outputs": [
    {
     "data": {
      "text/plain": [
       "<matplotlib.axes._subplots.AxesSubplot at 0x253ee724508>"
      ]
     },
     "execution_count": 26,
     "metadata": {},
     "output_type": "execute_result"
    },
    {
     "data": {
      "image/png": "[encoded data removed]",
      "text/plain": [
       "<Figure size 432x288 with 1 Axes>"
      ]
     },
     "metadata": {},
     "output_type": "display_data"
    }
   ],
   "source": [
    "sns.scatterplot(x='surface_total',y='price',data=df_argentina)"
   ]
  },
  {
   "cell_type": "code",
   "execution_count": 24,
   "metadata": {},
   "outputs": [
    {
     "data": {
      "text/html": [
       "<div>\n",
       "<style scoped>\n",
       "    .dataframe tbody tr th:only-of-type {\n",
       "        vertical-align: middle;\n",
       "    }\n",
       "\n",
       "    .dataframe tbody tr th {\n",
       "        vertical-align: top;\n",
       "    }\n",
       "\n",
       "    .dataframe thead th {\n",
       "        text-align: right;\n",
       "    }\n",
       "</style>\n",
       "<table border=\"1\" class=\"dataframe\">\n",
       "  <thead>\n",
       "    <tr style=\"text-align: right;\">\n",
       "      <th></th>\n",
       "      <th>Id</th>\n",
       "      <th>pais</th>\n",
       "      <th>provincia_departamento</th>\n",
       "      <th>ciudad</th>\n",
       "      <th>property_type</th>\n",
       "      <th>operation_type</th>\n",
       "      <th>rooms</th>\n",
       "      <th>bedrooms</th>\n",
       "      <th>bathrooms</th>\n",
       "      <th>surface_total</th>\n",
       "      <th>currency</th>\n",
       "      <th>price</th>\n",
       "    </tr>\n",
       "  </thead>\n",
       "  <tbody>\n",
       "    <tr>\n",
       "      <th>14865</th>\n",
       "      <td>14865</td>\n",
       "      <td>Argentina</td>\n",
       "      <td>Santa Fe</td>\n",
       "      <td>Rosario</td>\n",
       "      <td>Departamento</td>\n",
       "      <td>Venta</td>\n",
       "      <td>1.0</td>\n",
       "      <td>1.0</td>\n",
       "      <td>1.0</td>\n",
       "      <td>32.0</td>\n",
       "      <td>USD</td>\n",
       "      <td>1900000.0</td>\n",
       "    </tr>\n",
       "    <tr>\n",
       "      <th>16720</th>\n",
       "      <td>16720</td>\n",
       "      <td>Argentina</td>\n",
       "      <td>Santa Fe</td>\n",
       "      <td>Rosario</td>\n",
       "      <td>Departamento</td>\n",
       "      <td>Venta</td>\n",
       "      <td>3.0</td>\n",
       "      <td>2.0</td>\n",
       "      <td>1.0</td>\n",
       "      <td>73.0</td>\n",
       "      <td>USD</td>\n",
       "      <td>1700000.0</td>\n",
       "    </tr>\n",
       "    <tr>\n",
       "      <th>21378</th>\n",
       "      <td>21378</td>\n",
       "      <td>Argentina</td>\n",
       "      <td>Buenos Aires Interior</td>\n",
       "      <td>Olavarría</td>\n",
       "      <td>Departamento</td>\n",
       "      <td>Venta</td>\n",
       "      <td>3.0</td>\n",
       "      <td>2.0</td>\n",
       "      <td>1.0</td>\n",
       "      <td>50.0</td>\n",
       "      <td>USD</td>\n",
       "      <td>1650000.0</td>\n",
       "    </tr>\n",
       "  </tbody>\n",
       "</table>\n",
       "</div>"
      ],
      "text/plain": [
       "          Id       pais provincia_departamento     ciudad property_type  \\\n",
       "14865  14865  Argentina               Santa Fe    Rosario  Departamento   \n",
       "16720  16720  Argentina               Santa Fe    Rosario  Departamento   \n",
       "21378  21378  Argentina  Buenos Aires Interior  Olavarría  Departamento   \n",
       "\n",
       "      operation_type  rooms  bedrooms  bathrooms  surface_total currency  \\\n",
       "14865          Venta    1.0       1.0        1.0           32.0      USD   \n",
       "16720          Venta    3.0       2.0        1.0           73.0      USD   \n",
       "21378          Venta    3.0       2.0        1.0           50.0      USD   \n",
       "\n",
       "           price  \n",
       "14865  1900000.0  \n",
       "16720  1700000.0  \n",
       "21378  1650000.0  "
      ]
     },
     "execution_count": 24,
     "metadata": {},
     "output_type": "execute_result"
    }
   ],
   "source": [
    "df_argentina[(df_argentina['price']>1500000) & (df_argentina['surface_total']<100)]"
   ]
  },
  {
   "cell_type": "code",
   "execution_count": 25,
   "metadata": {},
   "outputs": [
    {
     "name": "stderr",
     "output_type": "stream",
     "text": [
      "C:\\Users\\feche\\anaconda3\\lib\\site-packages\\pandas\\core\\indexing.py:966: SettingWithCopyWarning: \n",
      "A value is trying to be set on a copy of a slice from a DataFrame.\n",
      "Try using .loc[row_indexer,col_indexer] = value instead\n",
      "\n",
      "See the caveats in the documentation: https://pandas.pydata.org/pandas-docs/stable/user_guide/indexing.html#returning-a-view-versus-a-copy\n",
      "  self.obj[item] = s\n"
     ]
    }
   ],
   "source": [
    "df_argentina.loc[24084,'price']=315000\n",
    "df_argentina.loc[20385,'price']=260000\n",
    "df_argentina.loc[14865,'price']=190000\n",
    "df_argentina.loc[16720,'price']=170000\n",
    "df_argentina.loc[21378,'price']=165000"
   ]
  },
  {
   "cell_type": "code",
   "execution_count": null,
   "metadata": {},
   "outputs": [],
   "source": []
  }
 ],
 "metadata": {
  "kernelspec": {
   "display_name": "Python 3",
   "language": "python",
   "name": "python3"
  },
  "language_info": {
   "codemirror_mode": {
    "name": "ipython",
    "version": 3
   },
   "file_extension": ".py",
   "mimetype": "text/x-python",
   "name": "python",
   "nbconvert_exporter": "python",
   "pygments_lexer": "ipython3",
   "version": "3.7.6"
  }
 },
 "nbformat": 4,
 "nbformat_minor": 4
}
